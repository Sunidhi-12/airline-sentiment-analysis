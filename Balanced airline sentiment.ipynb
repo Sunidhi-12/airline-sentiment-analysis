{
 "cells": [
  {
   "cell_type": "markdown",
   "id": "bbcef172",
   "metadata": {},
   "source": [
    "# Importing libraries"
   ]
  },
  {
   "cell_type": "code",
   "execution_count": 1,
   "id": "7cad92f7",
   "metadata": {},
   "outputs": [],
   "source": [
    "import numpy as np\n",
    "import pandas as pd\n",
    "import matplotlib.pyplot as plt\n",
    "import seaborn as sns\n",
    "import nltk\n",
    "import string\n",
    "from sklearn.pipeline import Pipeline\n",
    "from sklearn.feature_extraction.text import TfidfVectorizer\n",
    "from nltk.stem import WordNetLemmatizer\n",
    "from nltk.stem import PorterStemmer\n",
    "from nltk.corpus import stopwords\n",
    "from sklearn.model_selection import train_test_split\n",
    "from sklearn.metrics import classification_report, plot_confusion_matrix, accuracy_score\n",
    "from sklearn.ensemble import RandomForestClassifier\n",
    "from sklearn.model_selection import GridSearchCV\n",
    "from sklearn.naive_bayes import MultinomialNB\n",
    "from sklearn.tree import DecisionTreeClassifier\n",
    "from sklearn.neighbors import KNeighborsClassifier\n",
    "from imblearn.combine import SMOTETomek\n",
    "from sklearn.ensemble import BaggingClassifier\n",
    "from imblearn.over_sampling import SMOTE\n",
    "from imblearn.over_sampling import ADASYN\n",
    "from imblearn.over_sampling import KMeansSMOTE\n",
    "from imblearn.over_sampling import SVMSMOTE \n",
    "from sklearn.naive_bayes import CategoricalNB\n",
    "from sklearn.svm import SVC\n",
    "from sklearn.linear_model import PassiveAggressiveClassifier\n",
    "from sklearn.linear_model import LogisticRegressionCV"
   ]
  },
  {
   "cell_type": "markdown",
   "id": "8107cb19",
   "metadata": {},
   "source": [
    "# Loading dataset"
   ]
  },
  {
   "cell_type": "code",
   "execution_count": 2,
   "id": "1dae7ad5",
   "metadata": {},
   "outputs": [],
   "source": [
    "airline = pd.read_csv('Tweets.csv')"
   ]
  },
  {
   "cell_type": "code",
   "execution_count": 3,
   "id": "21766db7",
   "metadata": {},
   "outputs": [
    {
     "data": {
      "text/html": [
       "<div>\n",
       "<style scoped>\n",
       "    .dataframe tbody tr th:only-of-type {\n",
       "        vertical-align: middle;\n",
       "    }\n",
       "\n",
       "    .dataframe tbody tr th {\n",
       "        vertical-align: top;\n",
       "    }\n",
       "\n",
       "    .dataframe thead th {\n",
       "        text-align: right;\n",
       "    }\n",
       "</style>\n",
       "<table border=\"1\" class=\"dataframe\">\n",
       "  <thead>\n",
       "    <tr style=\"text-align: right;\">\n",
       "      <th></th>\n",
       "      <th>tweet_id</th>\n",
       "      <th>airline_sentiment</th>\n",
       "      <th>airline_sentiment_confidence</th>\n",
       "      <th>negativereason</th>\n",
       "      <th>negativereason_confidence</th>\n",
       "      <th>airline</th>\n",
       "      <th>airline_sentiment_gold</th>\n",
       "      <th>name</th>\n",
       "      <th>negativereason_gold</th>\n",
       "      <th>retweet_count</th>\n",
       "      <th>text</th>\n",
       "      <th>tweet_coord</th>\n",
       "      <th>tweet_created</th>\n",
       "      <th>tweet_location</th>\n",
       "      <th>user_timezone</th>\n",
       "    </tr>\n",
       "  </thead>\n",
       "  <tbody>\n",
       "    <tr>\n",
       "      <th>136</th>\n",
       "      <td>569625739231948800</td>\n",
       "      <td>positive</td>\n",
       "      <td>1.0</td>\n",
       "      <td>NaN</td>\n",
       "      <td>NaN</td>\n",
       "      <td>Virgin America</td>\n",
       "      <td>NaN</td>\n",
       "      <td>lisaptv</td>\n",
       "      <td>NaN</td>\n",
       "      <td>1</td>\n",
       "      <td>@virginamerica you ROCK for making it so I can...</td>\n",
       "      <td>NaN</td>\n",
       "      <td>2015-02-22 14:32:14 -0800</td>\n",
       "      <td>NaN</td>\n",
       "      <td>Mountain Time (US &amp; Canada)</td>\n",
       "    </tr>\n",
       "    <tr>\n",
       "      <th>147</th>\n",
       "      <td>569599867716132864</td>\n",
       "      <td>positive</td>\n",
       "      <td>1.0</td>\n",
       "      <td>NaN</td>\n",
       "      <td>NaN</td>\n",
       "      <td>Virgin America</td>\n",
       "      <td>NaN</td>\n",
       "      <td>jessicajaymes</td>\n",
       "      <td>NaN</td>\n",
       "      <td>2</td>\n",
       "      <td>Always have it together!!! You're welcome! RT ...</td>\n",
       "      <td>[33.94652852, -118.40766257]</td>\n",
       "      <td>2015-02-22 12:49:25 -0800</td>\n",
       "      <td>hollywood, california</td>\n",
       "      <td>Pacific Time (US &amp; Canada)</td>\n",
       "    </tr>\n",
       "    <tr>\n",
       "      <th>264</th>\n",
       "      <td>568929979981033472</td>\n",
       "      <td>positive</td>\n",
       "      <td>1.0</td>\n",
       "      <td>NaN</td>\n",
       "      <td>NaN</td>\n",
       "      <td>Virgin America</td>\n",
       "      <td>NaN</td>\n",
       "      <td>djchuang</td>\n",
       "      <td>NaN</td>\n",
       "      <td>1</td>\n",
       "      <td>@VirginAmerica thanks for gate checking my bag...</td>\n",
       "      <td>[32.8454782, -96.8504585]</td>\n",
       "      <td>2015-02-20 16:27:32 -0800</td>\n",
       "      <td>Orange County, CA</td>\n",
       "      <td>Pacific Time (US &amp; Canada)</td>\n",
       "    </tr>\n",
       "    <tr>\n",
       "      <th>304</th>\n",
       "      <td>568812046747201537</td>\n",
       "      <td>negative</td>\n",
       "      <td>1.0</td>\n",
       "      <td>Lost Luggage</td>\n",
       "      <td>1.0000</td>\n",
       "      <td>Virgin America</td>\n",
       "      <td>NaN</td>\n",
       "      <td>snellbell</td>\n",
       "      <td>NaN</td>\n",
       "      <td>1</td>\n",
       "      <td>@VirginAmerica lost my luggage 4 days ago on f...</td>\n",
       "      <td>NaN</td>\n",
       "      <td>2015-02-20 08:38:54 -0800</td>\n",
       "      <td>NaN</td>\n",
       "      <td>Quito</td>\n",
       "    </tr>\n",
       "    <tr>\n",
       "      <th>318</th>\n",
       "      <td>568735060104511488</td>\n",
       "      <td>neutral</td>\n",
       "      <td>1.0</td>\n",
       "      <td>NaN</td>\n",
       "      <td>NaN</td>\n",
       "      <td>Virgin America</td>\n",
       "      <td>NaN</td>\n",
       "      <td>gemmabow19</td>\n",
       "      <td>NaN</td>\n",
       "      <td>2</td>\n",
       "      <td>@VirginAmerica can u help this 👸 @FreyaBevan_F...</td>\n",
       "      <td>NaN</td>\n",
       "      <td>2015-02-20 03:32:59 -0800</td>\n",
       "      <td>NaN</td>\n",
       "      <td>NaN</td>\n",
       "    </tr>\n",
       "    <tr>\n",
       "      <th>...</th>\n",
       "      <td>...</td>\n",
       "      <td>...</td>\n",
       "      <td>...</td>\n",
       "      <td>...</td>\n",
       "      <td>...</td>\n",
       "      <td>...</td>\n",
       "      <td>...</td>\n",
       "      <td>...</td>\n",
       "      <td>...</td>\n",
       "      <td>...</td>\n",
       "      <td>...</td>\n",
       "      <td>...</td>\n",
       "      <td>...</td>\n",
       "      <td>...</td>\n",
       "      <td>...</td>\n",
       "    </tr>\n",
       "    <tr>\n",
       "      <th>14426</th>\n",
       "      <td>569617808885096448</td>\n",
       "      <td>negative</td>\n",
       "      <td>1.0</td>\n",
       "      <td>Customer Service Issue</td>\n",
       "      <td>1.0000</td>\n",
       "      <td>American</td>\n",
       "      <td>NaN</td>\n",
       "      <td>ejacqui</td>\n",
       "      <td>NaN</td>\n",
       "      <td>1</td>\n",
       "      <td>@AmericanAir no one received text alerts, auto...</td>\n",
       "      <td>NaN</td>\n",
       "      <td>2015-02-22 14:00:43 -0800</td>\n",
       "      <td>Chicago</td>\n",
       "      <td>Central Time (US &amp; Canada)</td>\n",
       "    </tr>\n",
       "    <tr>\n",
       "      <th>14524</th>\n",
       "      <td>569604328153083904</td>\n",
       "      <td>negative</td>\n",
       "      <td>1.0</td>\n",
       "      <td>Late Flight</td>\n",
       "      <td>0.6849</td>\n",
       "      <td>American</td>\n",
       "      <td>NaN</td>\n",
       "      <td>farazq</td>\n",
       "      <td>NaN</td>\n",
       "      <td>1</td>\n",
       "      <td>@AmericanAir can you do anything to get #AA953...</td>\n",
       "      <td>[40.80718573, -73.95477259]</td>\n",
       "      <td>2015-02-22 13:07:09 -0800</td>\n",
       "      <td>New York, NY</td>\n",
       "      <td>Quito</td>\n",
       "    </tr>\n",
       "    <tr>\n",
       "      <th>14532</th>\n",
       "      <td>569603156927246336</td>\n",
       "      <td>negative</td>\n",
       "      <td>1.0</td>\n",
       "      <td>Flight Booking Problems</td>\n",
       "      <td>0.6964</td>\n",
       "      <td>American</td>\n",
       "      <td>NaN</td>\n",
       "      <td>JasonShaw2</td>\n",
       "      <td>NaN</td>\n",
       "      <td>2</td>\n",
       "      <td>@AmericanAir missing a full days of work thank...</td>\n",
       "      <td>NaN</td>\n",
       "      <td>2015-02-22 13:02:29 -0800</td>\n",
       "      <td>Belleville</td>\n",
       "      <td>Eastern Time (US &amp; Canada)</td>\n",
       "    </tr>\n",
       "    <tr>\n",
       "      <th>14547</th>\n",
       "      <td>569601094239825920</td>\n",
       "      <td>positive</td>\n",
       "      <td>1.0</td>\n",
       "      <td>NaN</td>\n",
       "      <td>NaN</td>\n",
       "      <td>American</td>\n",
       "      <td>NaN</td>\n",
       "      <td>EricRoberts</td>\n",
       "      <td>NaN</td>\n",
       "      <td>1</td>\n",
       "      <td>Eliza &amp;amp; I cheated on u @AmericanAir with @...</td>\n",
       "      <td>NaN</td>\n",
       "      <td>2015-02-22 12:54:18 -0800</td>\n",
       "      <td>Los Angeles, CA</td>\n",
       "      <td>Pacific Time (US &amp; Canada)</td>\n",
       "    </tr>\n",
       "    <tr>\n",
       "      <th>14619</th>\n",
       "      <td>569590988395708416</td>\n",
       "      <td>positive</td>\n",
       "      <td>1.0</td>\n",
       "      <td>NaN</td>\n",
       "      <td>NaN</td>\n",
       "      <td>American</td>\n",
       "      <td>NaN</td>\n",
       "      <td>howiemandel</td>\n",
       "      <td>NaN</td>\n",
       "      <td>3</td>\n",
       "      <td>@AmericanAir I love your company and your staf...</td>\n",
       "      <td>NaN</td>\n",
       "      <td>2015-02-22 12:14:08 -0800</td>\n",
       "      <td>NaN</td>\n",
       "      <td>Pacific Time (US &amp; Canada)</td>\n",
       "    </tr>\n",
       "  </tbody>\n",
       "</table>\n",
       "<p>767 rows × 15 columns</p>\n",
       "</div>"
      ],
      "text/plain": [
       "                 tweet_id airline_sentiment  airline_sentiment_confidence  \\\n",
       "136    569625739231948800          positive                           1.0   \n",
       "147    569599867716132864          positive                           1.0   \n",
       "264    568929979981033472          positive                           1.0   \n",
       "304    568812046747201537          negative                           1.0   \n",
       "318    568735060104511488           neutral                           1.0   \n",
       "...                   ...               ...                           ...   \n",
       "14426  569617808885096448          negative                           1.0   \n",
       "14524  569604328153083904          negative                           1.0   \n",
       "14532  569603156927246336          negative                           1.0   \n",
       "14547  569601094239825920          positive                           1.0   \n",
       "14619  569590988395708416          positive                           1.0   \n",
       "\n",
       "                negativereason  negativereason_confidence         airline  \\\n",
       "136                        NaN                        NaN  Virgin America   \n",
       "147                        NaN                        NaN  Virgin America   \n",
       "264                        NaN                        NaN  Virgin America   \n",
       "304               Lost Luggage                     1.0000  Virgin America   \n",
       "318                        NaN                        NaN  Virgin America   \n",
       "...                        ...                        ...             ...   \n",
       "14426   Customer Service Issue                     1.0000        American   \n",
       "14524              Late Flight                     0.6849        American   \n",
       "14532  Flight Booking Problems                     0.6964        American   \n",
       "14547                      NaN                        NaN        American   \n",
       "14619                      NaN                        NaN        American   \n",
       "\n",
       "      airline_sentiment_gold           name negativereason_gold  \\\n",
       "136                      NaN        lisaptv                 NaN   \n",
       "147                      NaN  jessicajaymes                 NaN   \n",
       "264                      NaN       djchuang                 NaN   \n",
       "304                      NaN      snellbell                 NaN   \n",
       "318                      NaN     gemmabow19                 NaN   \n",
       "...                      ...            ...                 ...   \n",
       "14426                    NaN        ejacqui                 NaN   \n",
       "14524                    NaN         farazq                 NaN   \n",
       "14532                    NaN     JasonShaw2                 NaN   \n",
       "14547                    NaN    EricRoberts                 NaN   \n",
       "14619                    NaN    howiemandel                 NaN   \n",
       "\n",
       "       retweet_count                                               text  \\\n",
       "136                1  @virginamerica you ROCK for making it so I can...   \n",
       "147                2  Always have it together!!! You're welcome! RT ...   \n",
       "264                1  @VirginAmerica thanks for gate checking my bag...   \n",
       "304                1  @VirginAmerica lost my luggage 4 days ago on f...   \n",
       "318                2  @VirginAmerica can u help this 👸 @FreyaBevan_F...   \n",
       "...              ...                                                ...   \n",
       "14426              1  @AmericanAir no one received text alerts, auto...   \n",
       "14524              1  @AmericanAir can you do anything to get #AA953...   \n",
       "14532              2  @AmericanAir missing a full days of work thank...   \n",
       "14547              1  Eliza &amp; I cheated on u @AmericanAir with @...   \n",
       "14619              3  @AmericanAir I love your company and your staf...   \n",
       "\n",
       "                        tweet_coord              tweet_created  \\\n",
       "136                             NaN  2015-02-22 14:32:14 -0800   \n",
       "147    [33.94652852, -118.40766257]  2015-02-22 12:49:25 -0800   \n",
       "264       [32.8454782, -96.8504585]  2015-02-20 16:27:32 -0800   \n",
       "304                             NaN  2015-02-20 08:38:54 -0800   \n",
       "318                             NaN  2015-02-20 03:32:59 -0800   \n",
       "...                             ...                        ...   \n",
       "14426                           NaN  2015-02-22 14:00:43 -0800   \n",
       "14524   [40.80718573, -73.95477259]  2015-02-22 13:07:09 -0800   \n",
       "14532                           NaN  2015-02-22 13:02:29 -0800   \n",
       "14547                           NaN  2015-02-22 12:54:18 -0800   \n",
       "14619                           NaN  2015-02-22 12:14:08 -0800   \n",
       "\n",
       "              tweet_location                user_timezone  \n",
       "136                      NaN  Mountain Time (US & Canada)  \n",
       "147    hollywood, california   Pacific Time (US & Canada)  \n",
       "264        Orange County, CA   Pacific Time (US & Canada)  \n",
       "304                      NaN                        Quito  \n",
       "318                      NaN                          NaN  \n",
       "...                      ...                          ...  \n",
       "14426                Chicago   Central Time (US & Canada)  \n",
       "14524           New York, NY                        Quito  \n",
       "14532             Belleville   Eastern Time (US & Canada)  \n",
       "14547        Los Angeles, CA   Pacific Time (US & Canada)  \n",
       "14619                    NaN   Pacific Time (US & Canada)  \n",
       "\n",
       "[767 rows x 15 columns]"
      ]
     },
     "execution_count": 3,
     "metadata": {},
     "output_type": "execute_result"
    }
   ],
   "source": [
    "airline[airline['retweet_count']>0]"
   ]
  },
  {
   "cell_type": "markdown",
   "id": "1d0c176e",
   "metadata": {},
   "source": [
    "# 14640 rows and 15 columns"
   ]
  },
  {
   "cell_type": "code",
   "execution_count": 4,
   "id": "5c70e6e3",
   "metadata": {},
   "outputs": [
    {
     "name": "stdout",
     "output_type": "stream",
     "text": [
      "<class 'pandas.core.frame.DataFrame'>\n",
      "RangeIndex: 14640 entries, 0 to 14639\n",
      "Data columns (total 15 columns):\n",
      " #   Column                        Non-Null Count  Dtype  \n",
      "---  ------                        --------------  -----  \n",
      " 0   tweet_id                      14640 non-null  int64  \n",
      " 1   airline_sentiment             14640 non-null  object \n",
      " 2   airline_sentiment_confidence  14640 non-null  float64\n",
      " 3   negativereason                9178 non-null   object \n",
      " 4   negativereason_confidence     10522 non-null  float64\n",
      " 5   airline                       14640 non-null  object \n",
      " 6   airline_sentiment_gold        40 non-null     object \n",
      " 7   name                          14640 non-null  object \n",
      " 8   negativereason_gold           32 non-null     object \n",
      " 9   retweet_count                 14640 non-null  int64  \n",
      " 10  text                          14640 non-null  object \n",
      " 11  tweet_coord                   1019 non-null   object \n",
      " 12  tweet_created                 14640 non-null  object \n",
      " 13  tweet_location                9907 non-null   object \n",
      " 14  user_timezone                 9820 non-null   object \n",
      "dtypes: float64(2), int64(2), object(11)\n",
      "memory usage: 1.7+ MB\n"
     ]
    }
   ],
   "source": [
    "airline.info()"
   ]
  },
  {
   "cell_type": "code",
   "execution_count": 5,
   "id": "18d2e444",
   "metadata": {},
   "outputs": [
    {
     "data": {
      "text/plain": [
       "tweet_id                            0\n",
       "airline_sentiment                   0\n",
       "airline_sentiment_confidence        0\n",
       "negativereason                   5462\n",
       "negativereason_confidence        4118\n",
       "airline                             0\n",
       "airline_sentiment_gold          14600\n",
       "name                                0\n",
       "negativereason_gold             14608\n",
       "retweet_count                       0\n",
       "text                                0\n",
       "tweet_coord                     13621\n",
       "tweet_created                       0\n",
       "tweet_location                   4733\n",
       "user_timezone                    4820\n",
       "dtype: int64"
      ]
     },
     "execution_count": 5,
     "metadata": {},
     "output_type": "execute_result"
    }
   ],
   "source": [
    "airline.isnull().sum()"
   ]
  },
  {
   "cell_type": "markdown",
   "id": "c2aa6659",
   "metadata": {},
   "source": [
    "# Deleting unnecessary columns"
   ]
  },
  {
   "cell_type": "code",
   "execution_count": 6,
   "id": "6dd2941c",
   "metadata": {},
   "outputs": [],
   "source": [
    "airline.drop(['negativereason','negativereason_confidence','airline_sentiment_gold','negativereason_gold','tweet_coord','tweet_location','user_timezone'],axis=1,inplace=True)"
   ]
  },
  {
   "cell_type": "code",
   "execution_count": 7,
   "id": "810a6a0c",
   "metadata": {},
   "outputs": [
    {
     "data": {
      "text/html": [
       "<div>\n",
       "<style scoped>\n",
       "    .dataframe tbody tr th:only-of-type {\n",
       "        vertical-align: middle;\n",
       "    }\n",
       "\n",
       "    .dataframe tbody tr th {\n",
       "        vertical-align: top;\n",
       "    }\n",
       "\n",
       "    .dataframe thead th {\n",
       "        text-align: right;\n",
       "    }\n",
       "</style>\n",
       "<table border=\"1\" class=\"dataframe\">\n",
       "  <thead>\n",
       "    <tr style=\"text-align: right;\">\n",
       "      <th></th>\n",
       "      <th>tweet_id</th>\n",
       "      <th>airline_sentiment</th>\n",
       "      <th>airline_sentiment_confidence</th>\n",
       "      <th>airline</th>\n",
       "      <th>name</th>\n",
       "      <th>retweet_count</th>\n",
       "      <th>text</th>\n",
       "      <th>tweet_created</th>\n",
       "    </tr>\n",
       "  </thead>\n",
       "  <tbody>\n",
       "    <tr>\n",
       "      <th>0</th>\n",
       "      <td>570306133677760513</td>\n",
       "      <td>neutral</td>\n",
       "      <td>1.0000</td>\n",
       "      <td>Virgin America</td>\n",
       "      <td>cairdin</td>\n",
       "      <td>0</td>\n",
       "      <td>@VirginAmerica What @dhepburn said.</td>\n",
       "      <td>2015-02-24 11:35:52 -0800</td>\n",
       "    </tr>\n",
       "    <tr>\n",
       "      <th>1</th>\n",
       "      <td>570301130888122368</td>\n",
       "      <td>positive</td>\n",
       "      <td>0.3486</td>\n",
       "      <td>Virgin America</td>\n",
       "      <td>jnardino</td>\n",
       "      <td>0</td>\n",
       "      <td>@VirginAmerica plus you've added commercials t...</td>\n",
       "      <td>2015-02-24 11:15:59 -0800</td>\n",
       "    </tr>\n",
       "    <tr>\n",
       "      <th>2</th>\n",
       "      <td>570301083672813571</td>\n",
       "      <td>neutral</td>\n",
       "      <td>0.6837</td>\n",
       "      <td>Virgin America</td>\n",
       "      <td>yvonnalynn</td>\n",
       "      <td>0</td>\n",
       "      <td>@VirginAmerica I didn't today... Must mean I n...</td>\n",
       "      <td>2015-02-24 11:15:48 -0800</td>\n",
       "    </tr>\n",
       "    <tr>\n",
       "      <th>3</th>\n",
       "      <td>570301031407624196</td>\n",
       "      <td>negative</td>\n",
       "      <td>1.0000</td>\n",
       "      <td>Virgin America</td>\n",
       "      <td>jnardino</td>\n",
       "      <td>0</td>\n",
       "      <td>@VirginAmerica it's really aggressive to blast...</td>\n",
       "      <td>2015-02-24 11:15:36 -0800</td>\n",
       "    </tr>\n",
       "    <tr>\n",
       "      <th>4</th>\n",
       "      <td>570300817074462722</td>\n",
       "      <td>negative</td>\n",
       "      <td>1.0000</td>\n",
       "      <td>Virgin America</td>\n",
       "      <td>jnardino</td>\n",
       "      <td>0</td>\n",
       "      <td>@VirginAmerica and it's a really big bad thing...</td>\n",
       "      <td>2015-02-24 11:14:45 -0800</td>\n",
       "    </tr>\n",
       "    <tr>\n",
       "      <th>...</th>\n",
       "      <td>...</td>\n",
       "      <td>...</td>\n",
       "      <td>...</td>\n",
       "      <td>...</td>\n",
       "      <td>...</td>\n",
       "      <td>...</td>\n",
       "      <td>...</td>\n",
       "      <td>...</td>\n",
       "    </tr>\n",
       "    <tr>\n",
       "      <th>14635</th>\n",
       "      <td>569587686496825344</td>\n",
       "      <td>positive</td>\n",
       "      <td>0.3487</td>\n",
       "      <td>American</td>\n",
       "      <td>KristenReenders</td>\n",
       "      <td>0</td>\n",
       "      <td>@AmericanAir thank you we got on a different f...</td>\n",
       "      <td>2015-02-22 12:01:01 -0800</td>\n",
       "    </tr>\n",
       "    <tr>\n",
       "      <th>14636</th>\n",
       "      <td>569587371693355008</td>\n",
       "      <td>negative</td>\n",
       "      <td>1.0000</td>\n",
       "      <td>American</td>\n",
       "      <td>itsropes</td>\n",
       "      <td>0</td>\n",
       "      <td>@AmericanAir leaving over 20 minutes Late Flig...</td>\n",
       "      <td>2015-02-22 11:59:46 -0800</td>\n",
       "    </tr>\n",
       "    <tr>\n",
       "      <th>14637</th>\n",
       "      <td>569587242672398336</td>\n",
       "      <td>neutral</td>\n",
       "      <td>1.0000</td>\n",
       "      <td>American</td>\n",
       "      <td>sanyabun</td>\n",
       "      <td>0</td>\n",
       "      <td>@AmericanAir Please bring American Airlines to...</td>\n",
       "      <td>2015-02-22 11:59:15 -0800</td>\n",
       "    </tr>\n",
       "    <tr>\n",
       "      <th>14638</th>\n",
       "      <td>569587188687634433</td>\n",
       "      <td>negative</td>\n",
       "      <td>1.0000</td>\n",
       "      <td>American</td>\n",
       "      <td>SraJackson</td>\n",
       "      <td>0</td>\n",
       "      <td>@AmericanAir you have my money, you change my ...</td>\n",
       "      <td>2015-02-22 11:59:02 -0800</td>\n",
       "    </tr>\n",
       "    <tr>\n",
       "      <th>14639</th>\n",
       "      <td>569587140490866689</td>\n",
       "      <td>neutral</td>\n",
       "      <td>0.6771</td>\n",
       "      <td>American</td>\n",
       "      <td>daviddtwu</td>\n",
       "      <td>0</td>\n",
       "      <td>@AmericanAir we have 8 ppl so we need 2 know h...</td>\n",
       "      <td>2015-02-22 11:58:51 -0800</td>\n",
       "    </tr>\n",
       "  </tbody>\n",
       "</table>\n",
       "<p>14640 rows × 8 columns</p>\n",
       "</div>"
      ],
      "text/plain": [
       "                 tweet_id airline_sentiment  airline_sentiment_confidence  \\\n",
       "0      570306133677760513           neutral                        1.0000   \n",
       "1      570301130888122368          positive                        0.3486   \n",
       "2      570301083672813571           neutral                        0.6837   \n",
       "3      570301031407624196          negative                        1.0000   \n",
       "4      570300817074462722          negative                        1.0000   \n",
       "...                   ...               ...                           ...   \n",
       "14635  569587686496825344          positive                        0.3487   \n",
       "14636  569587371693355008          negative                        1.0000   \n",
       "14637  569587242672398336           neutral                        1.0000   \n",
       "14638  569587188687634433          negative                        1.0000   \n",
       "14639  569587140490866689           neutral                        0.6771   \n",
       "\n",
       "              airline             name  retweet_count  \\\n",
       "0      Virgin America          cairdin              0   \n",
       "1      Virgin America         jnardino              0   \n",
       "2      Virgin America       yvonnalynn              0   \n",
       "3      Virgin America         jnardino              0   \n",
       "4      Virgin America         jnardino              0   \n",
       "...               ...              ...            ...   \n",
       "14635        American  KristenReenders              0   \n",
       "14636        American         itsropes              0   \n",
       "14637        American         sanyabun              0   \n",
       "14638        American       SraJackson              0   \n",
       "14639        American        daviddtwu              0   \n",
       "\n",
       "                                                    text  \\\n",
       "0                    @VirginAmerica What @dhepburn said.   \n",
       "1      @VirginAmerica plus you've added commercials t...   \n",
       "2      @VirginAmerica I didn't today... Must mean I n...   \n",
       "3      @VirginAmerica it's really aggressive to blast...   \n",
       "4      @VirginAmerica and it's a really big bad thing...   \n",
       "...                                                  ...   \n",
       "14635  @AmericanAir thank you we got on a different f...   \n",
       "14636  @AmericanAir leaving over 20 minutes Late Flig...   \n",
       "14637  @AmericanAir Please bring American Airlines to...   \n",
       "14638  @AmericanAir you have my money, you change my ...   \n",
       "14639  @AmericanAir we have 8 ppl so we need 2 know h...   \n",
       "\n",
       "                   tweet_created  \n",
       "0      2015-02-24 11:35:52 -0800  \n",
       "1      2015-02-24 11:15:59 -0800  \n",
       "2      2015-02-24 11:15:48 -0800  \n",
       "3      2015-02-24 11:15:36 -0800  \n",
       "4      2015-02-24 11:14:45 -0800  \n",
       "...                          ...  \n",
       "14635  2015-02-22 12:01:01 -0800  \n",
       "14636  2015-02-22 11:59:46 -0800  \n",
       "14637  2015-02-22 11:59:15 -0800  \n",
       "14638  2015-02-22 11:59:02 -0800  \n",
       "14639  2015-02-22 11:58:51 -0800  \n",
       "\n",
       "[14640 rows x 8 columns]"
      ]
     },
     "execution_count": 7,
     "metadata": {},
     "output_type": "execute_result"
    }
   ],
   "source": [
    "airline"
   ]
  },
  {
   "cell_type": "code",
   "execution_count": 8,
   "id": "8dcf2cd2",
   "metadata": {},
   "outputs": [],
   "source": [
    "airline.drop(['tweet_id','name','tweet_created'],axis=1,inplace=True)"
   ]
  },
  {
   "cell_type": "code",
   "execution_count": 9,
   "id": "8fdec37c",
   "metadata": {},
   "outputs": [
    {
     "data": {
      "text/html": [
       "<div>\n",
       "<style scoped>\n",
       "    .dataframe tbody tr th:only-of-type {\n",
       "        vertical-align: middle;\n",
       "    }\n",
       "\n",
       "    .dataframe tbody tr th {\n",
       "        vertical-align: top;\n",
       "    }\n",
       "\n",
       "    .dataframe thead th {\n",
       "        text-align: right;\n",
       "    }\n",
       "</style>\n",
       "<table border=\"1\" class=\"dataframe\">\n",
       "  <thead>\n",
       "    <tr style=\"text-align: right;\">\n",
       "      <th></th>\n",
       "      <th>airline_sentiment</th>\n",
       "      <th>airline_sentiment_confidence</th>\n",
       "      <th>airline</th>\n",
       "      <th>retweet_count</th>\n",
       "      <th>text</th>\n",
       "    </tr>\n",
       "  </thead>\n",
       "  <tbody>\n",
       "    <tr>\n",
       "      <th>318</th>\n",
       "      <td>neutral</td>\n",
       "      <td>1.0000</td>\n",
       "      <td>Virgin America</td>\n",
       "      <td>2</td>\n",
       "      <td>@VirginAmerica can u help this 👸 @FreyaBevan_F...</td>\n",
       "    </tr>\n",
       "    <tr>\n",
       "      <th>7892</th>\n",
       "      <td>neutral</td>\n",
       "      <td>0.6526</td>\n",
       "      <td>Delta</td>\n",
       "      <td>0</td>\n",
       "      <td>@JetBlue Get me out of this 7 degree weather.....</td>\n",
       "    </tr>\n",
       "  </tbody>\n",
       "</table>\n",
       "</div>"
      ],
      "text/plain": [
       "     airline_sentiment  airline_sentiment_confidence         airline  \\\n",
       "318            neutral                        1.0000  Virgin America   \n",
       "7892           neutral                        0.6526           Delta   \n",
       "\n",
       "      retweet_count                                               text  \n",
       "318               2  @VirginAmerica can u help this 👸 @FreyaBevan_F...  \n",
       "7892              0  @JetBlue Get me out of this 7 degree weather.....  "
      ]
     },
     "execution_count": 9,
     "metadata": {},
     "output_type": "execute_result"
    }
   ],
   "source": [
    "airline[airline['text'].str.contains('👸')]"
   ]
  },
  {
   "cell_type": "markdown",
   "id": "4a5e7aff",
   "metadata": {},
   "source": [
    "# Different airlines"
   ]
  },
  {
   "cell_type": "code",
   "execution_count": 10,
   "id": "c7ca1313",
   "metadata": {},
   "outputs": [
    {
     "data": {
      "text/plain": [
       "United            3822\n",
       "US Airways        2913\n",
       "American          2759\n",
       "Southwest         2420\n",
       "Delta             2222\n",
       "Virgin America     504\n",
       "Name: airline, dtype: int64"
      ]
     },
     "execution_count": 10,
     "metadata": {},
     "output_type": "execute_result"
    }
   ],
   "source": [
    "airline['airline'].value_counts()"
   ]
  },
  {
   "cell_type": "code",
   "execution_count": 11,
   "id": "9d786685",
   "metadata": {},
   "outputs": [
    {
     "data": {
      "text/plain": [
       "<AxesSubplot:xlabel='airline', ylabel='count'>"
      ]
     },
     "execution_count": 11,
     "metadata": {},
     "output_type": "execute_result"
    },
    {
     "data": {
      "image/png": "[encoded data removed]",
      "text/plain": [
       "<Figure size 2000x1000 with 1 Axes>"
      ]
     },
     "metadata": {
      "needs_background": "light"
     },
     "output_type": "display_data"
    }
   ],
   "source": [
    "plt.figure(figsize=(10,5),dpi=200)\n",
    "sns.countplot(x='airline',data=airline, hue='airline_sentiment')"
   ]
  },
  {
   "cell_type": "markdown",
   "id": "99a09b16",
   "metadata": {},
   "source": [
    "# Data preprocessing"
   ]
  },
  {
   "cell_type": "code",
   "execution_count": 12,
   "id": "f79628ae",
   "metadata": {},
   "outputs": [
    {
     "data": {
      "text/html": [
       "<div>\n",
       "<style scoped>\n",
       "    .dataframe tbody tr th:only-of-type {\n",
       "        vertical-align: middle;\n",
       "    }\n",
       "\n",
       "    .dataframe tbody tr th {\n",
       "        vertical-align: top;\n",
       "    }\n",
       "\n",
       "    .dataframe thead th {\n",
       "        text-align: right;\n",
       "    }\n",
       "</style>\n",
       "<table border=\"1\" class=\"dataframe\">\n",
       "  <thead>\n",
       "    <tr style=\"text-align: right;\">\n",
       "      <th></th>\n",
       "      <th>airline_sentiment</th>\n",
       "      <th>airline_sentiment_confidence</th>\n",
       "      <th>airline</th>\n",
       "      <th>retweet_count</th>\n",
       "      <th>text</th>\n",
       "    </tr>\n",
       "  </thead>\n",
       "  <tbody>\n",
       "    <tr>\n",
       "      <th>0</th>\n",
       "      <td>neutral</td>\n",
       "      <td>1.0000</td>\n",
       "      <td>Virgin America</td>\n",
       "      <td>0</td>\n",
       "      <td>@VirginAmerica What @dhepburn said.</td>\n",
       "    </tr>\n",
       "    <tr>\n",
       "      <th>1</th>\n",
       "      <td>positive</td>\n",
       "      <td>0.3486</td>\n",
       "      <td>Virgin America</td>\n",
       "      <td>0</td>\n",
       "      <td>@VirginAmerica plus you've added commercials t...</td>\n",
       "    </tr>\n",
       "    <tr>\n",
       "      <th>2</th>\n",
       "      <td>neutral</td>\n",
       "      <td>0.6837</td>\n",
       "      <td>Virgin America</td>\n",
       "      <td>0</td>\n",
       "      <td>@VirginAmerica I didn't today... Must mean I n...</td>\n",
       "    </tr>\n",
       "    <tr>\n",
       "      <th>3</th>\n",
       "      <td>negative</td>\n",
       "      <td>1.0000</td>\n",
       "      <td>Virgin America</td>\n",
       "      <td>0</td>\n",
       "      <td>@VirginAmerica it's really aggressive to blast...</td>\n",
       "    </tr>\n",
       "    <tr>\n",
       "      <th>4</th>\n",
       "      <td>negative</td>\n",
       "      <td>1.0000</td>\n",
       "      <td>Virgin America</td>\n",
       "      <td>0</td>\n",
       "      <td>@VirginAmerica and it's a really big bad thing...</td>\n",
       "    </tr>\n",
       "    <tr>\n",
       "      <th>...</th>\n",
       "      <td>...</td>\n",
       "      <td>...</td>\n",
       "      <td>...</td>\n",
       "      <td>...</td>\n",
       "      <td>...</td>\n",
       "    </tr>\n",
       "    <tr>\n",
       "      <th>14635</th>\n",
       "      <td>positive</td>\n",
       "      <td>0.3487</td>\n",
       "      <td>American</td>\n",
       "      <td>0</td>\n",
       "      <td>@AmericanAir thank you we got on a different f...</td>\n",
       "    </tr>\n",
       "    <tr>\n",
       "      <th>14636</th>\n",
       "      <td>negative</td>\n",
       "      <td>1.0000</td>\n",
       "      <td>American</td>\n",
       "      <td>0</td>\n",
       "      <td>@AmericanAir leaving over 20 minutes Late Flig...</td>\n",
       "    </tr>\n",
       "    <tr>\n",
       "      <th>14637</th>\n",
       "      <td>neutral</td>\n",
       "      <td>1.0000</td>\n",
       "      <td>American</td>\n",
       "      <td>0</td>\n",
       "      <td>@AmericanAir Please bring American Airlines to...</td>\n",
       "    </tr>\n",
       "    <tr>\n",
       "      <th>14638</th>\n",
       "      <td>negative</td>\n",
       "      <td>1.0000</td>\n",
       "      <td>American</td>\n",
       "      <td>0</td>\n",
       "      <td>@AmericanAir you have my money, you change my ...</td>\n",
       "    </tr>\n",
       "    <tr>\n",
       "      <th>14639</th>\n",
       "      <td>neutral</td>\n",
       "      <td>0.6771</td>\n",
       "      <td>American</td>\n",
       "      <td>0</td>\n",
       "      <td>@AmericanAir we have 8 ppl so we need 2 know h...</td>\n",
       "    </tr>\n",
       "  </tbody>\n",
       "</table>\n",
       "<p>14640 rows × 5 columns</p>\n",
       "</div>"
      ],
      "text/plain": [
       "      airline_sentiment  airline_sentiment_confidence         airline  \\\n",
       "0               neutral                        1.0000  Virgin America   \n",
       "1              positive                        0.3486  Virgin America   \n",
       "2               neutral                        0.6837  Virgin America   \n",
       "3              negative                        1.0000  Virgin America   \n",
       "4              negative                        1.0000  Virgin America   \n",
       "...                 ...                           ...             ...   \n",
       "14635          positive                        0.3487        American   \n",
       "14636          negative                        1.0000        American   \n",
       "14637           neutral                        1.0000        American   \n",
       "14638          negative                        1.0000        American   \n",
       "14639           neutral                        0.6771        American   \n",
       "\n",
       "       retweet_count                                               text  \n",
       "0                  0                @VirginAmerica What @dhepburn said.  \n",
       "1                  0  @VirginAmerica plus you've added commercials t...  \n",
       "2                  0  @VirginAmerica I didn't today... Must mean I n...  \n",
       "3                  0  @VirginAmerica it's really aggressive to blast...  \n",
       "4                  0  @VirginAmerica and it's a really big bad thing...  \n",
       "...              ...                                                ...  \n",
       "14635              0  @AmericanAir thank you we got on a different f...  \n",
       "14636              0  @AmericanAir leaving over 20 minutes Late Flig...  \n",
       "14637              0  @AmericanAir Please bring American Airlines to...  \n",
       "14638              0  @AmericanAir you have my money, you change my ...  \n",
       "14639              0  @AmericanAir we have 8 ppl so we need 2 know h...  \n",
       "\n",
       "[14640 rows x 5 columns]"
      ]
     },
     "execution_count": 12,
     "metadata": {},
     "output_type": "execute_result"
    }
   ],
   "source": [
    "airline"
   ]
  },
  {
   "cell_type": "code",
   "execution_count": 13,
   "id": "174d20f1",
   "metadata": {},
   "outputs": [],
   "source": [
    "stop = stopwords.words('english')"
   ]
  },
  {
   "cell_type": "code",
   "execution_count": 14,
   "id": "1e5db9c1",
   "metadata": {},
   "outputs": [],
   "source": [
    "extra = ['@','VirginAmerica','united','SouthwestAir','JetBlue','USAirways','AmericanAir']"
   ]
  },
  {
   "cell_type": "code",
   "execution_count": 15,
   "id": "1d6cf41f",
   "metadata": {},
   "outputs": [],
   "source": [
    "stop.extend(extra)"
   ]
  },
  {
   "cell_type": "code",
   "execution_count": 16,
   "id": "ef20f6cb",
   "metadata": {},
   "outputs": [],
   "source": [
    "stop.extend(string.punctuation)"
   ]
  },
  {
   "cell_type": "code",
   "execution_count": 17,
   "id": "fb7dac12",
   "metadata": {},
   "outputs": [],
   "source": [
    "stop.extend(string.digits)"
   ]
  },
  {
   "cell_type": "code",
   "execution_count": 18,
   "id": "5e7ba001",
   "metadata": {},
   "outputs": [
    {
     "data": {
      "text/plain": [
       "['i',\n",
       " 'me',\n",
       " 'my',\n",
       " 'myself',\n",
       " 'we',\n",
       " 'our',\n",
       " 'ours',\n",
       " 'ourselves',\n",
       " 'you',\n",
       " \"you're\",\n",
       " \"you've\",\n",
       " \"you'll\",\n",
       " \"you'd\",\n",
       " 'your',\n",
       " 'yours',\n",
       " 'yourself',\n",
       " 'yourselves',\n",
       " 'he',\n",
       " 'him',\n",
       " 'his',\n",
       " 'himself',\n",
       " 'she',\n",
       " \"she's\",\n",
       " 'her',\n",
       " 'hers',\n",
       " 'herself',\n",
       " 'it',\n",
       " \"it's\",\n",
       " 'its',\n",
       " 'itself',\n",
       " 'they',\n",
       " 'them',\n",
       " 'their',\n",
       " 'theirs',\n",
       " 'themselves',\n",
       " 'what',\n",
       " 'which',\n",
       " 'who',\n",
       " 'whom',\n",
       " 'this',\n",
       " 'that',\n",
       " \"that'll\",\n",
       " 'these',\n",
       " 'those',\n",
       " 'am',\n",
       " 'is',\n",
       " 'are',\n",
       " 'was',\n",
       " 'were',\n",
       " 'be',\n",
       " 'been',\n",
       " 'being',\n",
       " 'have',\n",
       " 'has',\n",
       " 'had',\n",
       " 'having',\n",
       " 'do',\n",
       " 'does',\n",
       " 'did',\n",
       " 'doing',\n",
       " 'a',\n",
       " 'an',\n",
       " 'the',\n",
       " 'and',\n",
       " 'but',\n",
       " 'if',\n",
       " 'or',\n",
       " 'because',\n",
       " 'as',\n",
       " 'until',\n",
       " 'while',\n",
       " 'of',\n",
       " 'at',\n",
       " 'by',\n",
       " 'for',\n",
       " 'with',\n",
       " 'about',\n",
       " 'against',\n",
       " 'between',\n",
       " 'into',\n",
       " 'through',\n",
       " 'during',\n",
       " 'before',\n",
       " 'after',\n",
       " 'above',\n",
       " 'below',\n",
       " 'to',\n",
       " 'from',\n",
       " 'up',\n",
       " 'down',\n",
       " 'in',\n",
       " 'out',\n",
       " 'on',\n",
       " 'off',\n",
       " 'over',\n",
       " 'under',\n",
       " 'again',\n",
       " 'further',\n",
       " 'then',\n",
       " 'once',\n",
       " 'here',\n",
       " 'there',\n",
       " 'when',\n",
       " 'where',\n",
       " 'why',\n",
       " 'how',\n",
       " 'all',\n",
       " 'any',\n",
       " 'both',\n",
       " 'each',\n",
       " 'few',\n",
       " 'more',\n",
       " 'most',\n",
       " 'other',\n",
       " 'some',\n",
       " 'such',\n",
       " 'no',\n",
       " 'nor',\n",
       " 'not',\n",
       " 'only',\n",
       " 'own',\n",
       " 'same',\n",
       " 'so',\n",
       " 'than',\n",
       " 'too',\n",
       " 'very',\n",
       " 's',\n",
       " 't',\n",
       " 'can',\n",
       " 'will',\n",
       " 'just',\n",
       " 'don',\n",
       " \"don't\",\n",
       " 'should',\n",
       " \"should've\",\n",
       " 'now',\n",
       " 'd',\n",
       " 'll',\n",
       " 'm',\n",
       " 'o',\n",
       " 're',\n",
       " 've',\n",
       " 'y',\n",
       " 'ain',\n",
       " 'aren',\n",
       " \"aren't\",\n",
       " 'couldn',\n",
       " \"couldn't\",\n",
       " 'didn',\n",
       " \"didn't\",\n",
       " 'doesn',\n",
       " \"doesn't\",\n",
       " 'hadn',\n",
       " \"hadn't\",\n",
       " 'hasn',\n",
       " \"hasn't\",\n",
       " 'haven',\n",
       " \"haven't\",\n",
       " 'isn',\n",
       " \"isn't\",\n",
       " 'ma',\n",
       " 'mightn',\n",
       " \"mightn't\",\n",
       " 'mustn',\n",
       " \"mustn't\",\n",
       " 'needn',\n",
       " \"needn't\",\n",
       " 'shan',\n",
       " \"shan't\",\n",
       " 'shouldn',\n",
       " \"shouldn't\",\n",
       " 'wasn',\n",
       " \"wasn't\",\n",
       " 'weren',\n",
       " \"weren't\",\n",
       " 'won',\n",
       " \"won't\",\n",
       " 'wouldn',\n",
       " \"wouldn't\",\n",
       " '@',\n",
       " 'VirginAmerica',\n",
       " 'united',\n",
       " 'SouthwestAir',\n",
       " 'JetBlue',\n",
       " 'USAirways',\n",
       " 'AmericanAir',\n",
       " '!',\n",
       " '\"',\n",
       " '#',\n",
       " '$',\n",
       " '%',\n",
       " '&',\n",
       " \"'\",\n",
       " '(',\n",
       " ')',\n",
       " '*',\n",
       " '+',\n",
       " ',',\n",
       " '-',\n",
       " '.',\n",
       " '/',\n",
       " ':',\n",
       " ';',\n",
       " '<',\n",
       " '=',\n",
       " '>',\n",
       " '?',\n",
       " '@',\n",
       " '[',\n",
       " '\\\\',\n",
       " ']',\n",
       " '^',\n",
       " '_',\n",
       " '`',\n",
       " '{',\n",
       " '|',\n",
       " '}',\n",
       " '~',\n",
       " '0',\n",
       " '1',\n",
       " '2',\n",
       " '3',\n",
       " '4',\n",
       " '5',\n",
       " '6',\n",
       " '7',\n",
       " '8',\n",
       " '9']"
      ]
     },
     "execution_count": 18,
     "metadata": {},
     "output_type": "execute_result"
    }
   ],
   "source": [
    "stop"
   ]
  },
  {
   "cell_type": "code",
   "execution_count": 19,
   "id": "da37192d",
   "metadata": {},
   "outputs": [],
   "source": [
    "lemmatizer = WordNetLemmatizer()"
   ]
  },
  {
   "cell_type": "code",
   "execution_count": 20,
   "id": "7f2fdfb6",
   "metadata": {},
   "outputs": [],
   "source": [
    "stemmer = PorterStemmer()"
   ]
  },
  {
   "cell_type": "code",
   "execution_count": 21,
   "id": "c2c38f61",
   "metadata": {},
   "outputs": [],
   "source": [
    "def prep(i):\n",
    "    i = i.lower()\n",
    "    words = nltk.word_tokenize(i)\n",
    "    words=[stemmer.stem(word) for word in words if word not in stop and (len(word)>=3) and (len(word)<=20)]\n",
    "    return ' '.join(words)"
   ]
  },
  {
   "cell_type": "code",
   "execution_count": 22,
   "id": "2b99db06",
   "metadata": {},
   "outputs": [],
   "source": [
    "airline['text'] = airline.text.apply(prep)"
   ]
  },
  {
   "cell_type": "code",
   "execution_count": 23,
   "id": "ad21134f",
   "metadata": {},
   "outputs": [
    {
     "data": {
      "text/plain": [
       "'jetblu get degre weather ... westpalmbeachbound 🌞✈️👸'"
      ]
     },
     "execution_count": 23,
     "metadata": {},
     "output_type": "execute_result"
    }
   ],
   "source": [
    "airline['text'][7892]"
   ]
  },
  {
   "cell_type": "markdown",
   "id": "ef576d1c",
   "metadata": {},
   "source": [
    "# Separating different airlines in different dataset "
   ]
  },
  {
   "cell_type": "code",
   "execution_count": 24,
   "id": "c2e99902",
   "metadata": {},
   "outputs": [],
   "source": [
    "virgin_america = airline[airline['airline'] == 'Virgin America']"
   ]
  },
  {
   "cell_type": "code",
   "execution_count": 25,
   "id": "43015ecf",
   "metadata": {},
   "outputs": [
    {
     "name": "stderr",
     "output_type": "stream",
     "text": [
      "C:\\Users\\Dell\\anaconda3\\lib\\site-packages\\pandas\\core\\frame.py:4906: SettingWithCopyWarning: \n",
      "A value is trying to be set on a copy of a slice from a DataFrame\n",
      "\n",
      "See the caveats in the documentation: https://pandas.pydata.org/pandas-docs/stable/user_guide/indexing.html#returning-a-view-versus-a-copy\n",
      "  return super().drop(\n"
     ]
    },
    {
     "data": {
      "text/html": [
       "<div>\n",
       "<style scoped>\n",
       "    .dataframe tbody tr th:only-of-type {\n",
       "        vertical-align: middle;\n",
       "    }\n",
       "\n",
       "    .dataframe tbody tr th {\n",
       "        vertical-align: top;\n",
       "    }\n",
       "\n",
       "    .dataframe thead th {\n",
       "        text-align: right;\n",
       "    }\n",
       "</style>\n",
       "<table border=\"1\" class=\"dataframe\">\n",
       "  <thead>\n",
       "    <tr style=\"text-align: right;\">\n",
       "      <th></th>\n",
       "      <th>airline_sentiment</th>\n",
       "      <th>airline_sentiment_confidence</th>\n",
       "      <th>retweet_count</th>\n",
       "      <th>text</th>\n",
       "    </tr>\n",
       "  </thead>\n",
       "  <tbody>\n",
       "    <tr>\n",
       "      <th>0</th>\n",
       "      <td>neutral</td>\n",
       "      <td>1.0000</td>\n",
       "      <td>0</td>\n",
       "      <td>virginamerica dhepburn said</td>\n",
       "    </tr>\n",
       "    <tr>\n",
       "      <th>1</th>\n",
       "      <td>positive</td>\n",
       "      <td>0.3486</td>\n",
       "      <td>0</td>\n",
       "      <td>virginamerica plu 've ad commerci experi ... t...</td>\n",
       "    </tr>\n",
       "    <tr>\n",
       "      <th>2</th>\n",
       "      <td>neutral</td>\n",
       "      <td>0.6837</td>\n",
       "      <td>0</td>\n",
       "      <td>virginamerica n't today ... must mean need tak...</td>\n",
       "    </tr>\n",
       "    <tr>\n",
       "      <th>3</th>\n",
       "      <td>negative</td>\n",
       "      <td>1.0000</td>\n",
       "      <td>0</td>\n",
       "      <td>virginamerica realli aggress blast obnoxi ente...</td>\n",
       "    </tr>\n",
       "    <tr>\n",
       "      <th>4</th>\n",
       "      <td>negative</td>\n",
       "      <td>1.0000</td>\n",
       "      <td>0</td>\n",
       "      <td>virginamerica realli big bad thing</td>\n",
       "    </tr>\n",
       "    <tr>\n",
       "      <th>...</th>\n",
       "      <td>...</td>\n",
       "      <td>...</td>\n",
       "      <td>...</td>\n",
       "      <td>...</td>\n",
       "    </tr>\n",
       "    <tr>\n",
       "      <th>499</th>\n",
       "      <td>neutral</td>\n",
       "      <td>1.0000</td>\n",
       "      <td>0</td>\n",
       "      <td>virginamerica morn question regard elev point ...</td>\n",
       "    </tr>\n",
       "    <tr>\n",
       "      <th>500</th>\n",
       "      <td>neutral</td>\n",
       "      <td>0.6694</td>\n",
       "      <td>0</td>\n",
       "      <td>virginamerica still wait see starryeyes_dev_</td>\n",
       "    </tr>\n",
       "    <tr>\n",
       "      <th>501</th>\n",
       "      <td>neutral</td>\n",
       "      <td>0.6376</td>\n",
       "      <td>0</td>\n",
       "      <td>virginamerica wonder guy reciev 're abl potent...</td>\n",
       "    </tr>\n",
       "    <tr>\n",
       "      <th>502</th>\n",
       "      <td>positive</td>\n",
       "      <td>1.0000</td>\n",
       "      <td>4</td>\n",
       "      <td>virginamerica fli lax sfo look awesom movi lin...</td>\n",
       "    </tr>\n",
       "    <tr>\n",
       "      <th>503</th>\n",
       "      <td>neutral</td>\n",
       "      <td>1.0000</td>\n",
       "      <td>0</td>\n",
       "      <td>virginamerica book town fare 59/way +restr htt...</td>\n",
       "    </tr>\n",
       "  </tbody>\n",
       "</table>\n",
       "<p>504 rows × 4 columns</p>\n",
       "</div>"
      ],
      "text/plain": [
       "    airline_sentiment  airline_sentiment_confidence  retweet_count  \\\n",
       "0             neutral                        1.0000              0   \n",
       "1            positive                        0.3486              0   \n",
       "2             neutral                        0.6837              0   \n",
       "3            negative                        1.0000              0   \n",
       "4            negative                        1.0000              0   \n",
       "..                ...                           ...            ...   \n",
       "499           neutral                        1.0000              0   \n",
       "500           neutral                        0.6694              0   \n",
       "501           neutral                        0.6376              0   \n",
       "502          positive                        1.0000              4   \n",
       "503           neutral                        1.0000              0   \n",
       "\n",
       "                                                  text  \n",
       "0                          virginamerica dhepburn said  \n",
       "1    virginamerica plu 've ad commerci experi ... t...  \n",
       "2    virginamerica n't today ... must mean need tak...  \n",
       "3    virginamerica realli aggress blast obnoxi ente...  \n",
       "4                   virginamerica realli big bad thing  \n",
       "..                                                 ...  \n",
       "499  virginamerica morn question regard elev point ...  \n",
       "500       virginamerica still wait see starryeyes_dev_  \n",
       "501  virginamerica wonder guy reciev 're abl potent...  \n",
       "502  virginamerica fli lax sfo look awesom movi lin...  \n",
       "503  virginamerica book town fare 59/way +restr htt...  \n",
       "\n",
       "[504 rows x 4 columns]"
      ]
     },
     "execution_count": 25,
     "metadata": {},
     "output_type": "execute_result"
    }
   ],
   "source": [
    "virgin_america.drop(['airline'],axis=1,inplace=True)\n",
    "virgin_america"
   ]
  },
  {
   "cell_type": "code",
   "execution_count": 26,
   "id": "4de17440",
   "metadata": {},
   "outputs": [],
   "source": [
    "united = airline[airline['airline'] == 'United']"
   ]
  },
  {
   "cell_type": "code",
   "execution_count": 27,
   "id": "8e12c7dd",
   "metadata": {},
   "outputs": [
    {
     "name": "stderr",
     "output_type": "stream",
     "text": [
      "C:\\Users\\Dell\\anaconda3\\lib\\site-packages\\pandas\\core\\frame.py:4906: SettingWithCopyWarning: \n",
      "A value is trying to be set on a copy of a slice from a DataFrame\n",
      "\n",
      "See the caveats in the documentation: https://pandas.pydata.org/pandas-docs/stable/user_guide/indexing.html#returning-a-view-versus-a-copy\n",
      "  return super().drop(\n"
     ]
    },
    {
     "data": {
      "text/html": [
       "<div>\n",
       "<style scoped>\n",
       "    .dataframe tbody tr th:only-of-type {\n",
       "        vertical-align: middle;\n",
       "    }\n",
       "\n",
       "    .dataframe tbody tr th {\n",
       "        vertical-align: top;\n",
       "    }\n",
       "\n",
       "    .dataframe thead th {\n",
       "        text-align: right;\n",
       "    }\n",
       "</style>\n",
       "<table border=\"1\" class=\"dataframe\">\n",
       "  <thead>\n",
       "    <tr style=\"text-align: right;\">\n",
       "      <th></th>\n",
       "      <th>airline_sentiment</th>\n",
       "      <th>airline_sentiment_confidence</th>\n",
       "      <th>retweet_count</th>\n",
       "      <th>text</th>\n",
       "    </tr>\n",
       "  </thead>\n",
       "  <tbody>\n",
       "    <tr>\n",
       "      <th>504</th>\n",
       "      <td>positive</td>\n",
       "      <td>1.0000</td>\n",
       "      <td>0</td>\n",
       "      <td>thank</td>\n",
       "    </tr>\n",
       "    <tr>\n",
       "      <th>505</th>\n",
       "      <td>positive</td>\n",
       "      <td>1.0000</td>\n",
       "      <td>0</td>\n",
       "      <td>thank take care happi custom</td>\n",
       "    </tr>\n",
       "    <tr>\n",
       "      <th>506</th>\n",
       "      <td>negative</td>\n",
       "      <td>1.0000</td>\n",
       "      <td>0</td>\n",
       "      <td>still refund word via pleas resolv issu cancel...</td>\n",
       "    </tr>\n",
       "    <tr>\n",
       "      <th>507</th>\n",
       "      <td>negative</td>\n",
       "      <td>1.0000</td>\n",
       "      <td>0</td>\n",
       "      <td>delay due lack crew delay long line deic ... s...</td>\n",
       "    </tr>\n",
       "    <tr>\n",
       "      <th>508</th>\n",
       "      <td>positive</td>\n",
       "      <td>0.3441</td>\n",
       "      <td>0</td>\n",
       "      <td>thank fill luck common</td>\n",
       "    </tr>\n",
       "    <tr>\n",
       "      <th>...</th>\n",
       "      <td>...</td>\n",
       "      <td>...</td>\n",
       "      <td>...</td>\n",
       "      <td>...</td>\n",
       "    </tr>\n",
       "    <tr>\n",
       "      <th>4321</th>\n",
       "      <td>negative</td>\n",
       "      <td>1.0000</td>\n",
       "      <td>0</td>\n",
       "      <td>link current statu flights/airport fli bwi-ewr...</td>\n",
       "    </tr>\n",
       "    <tr>\n",
       "      <th>4322</th>\n",
       "      <td>negative</td>\n",
       "      <td>1.0000</td>\n",
       "      <td>0</td>\n",
       "      <td>like delay less one plane connect voucher</td>\n",
       "    </tr>\n",
       "    <tr>\n",
       "      <th>4323</th>\n",
       "      <td>negative</td>\n",
       "      <td>1.0000</td>\n",
       "      <td>0</td>\n",
       "      <td>n't hope nicer flight time tri thing right sol...</td>\n",
       "    </tr>\n",
       "    <tr>\n",
       "      <th>4324</th>\n",
       "      <td>negative</td>\n",
       "      <td>1.0000</td>\n",
       "      <td>0</td>\n",
       "      <td>got gate iah time given seat close flight know...</td>\n",
       "    </tr>\n",
       "    <tr>\n",
       "      <th>4325</th>\n",
       "      <td>negative</td>\n",
       "      <td>1.0000</td>\n",
       "      <td>0</td>\n",
       "      <td>ye wait line almost hour passeng left want wai...</td>\n",
       "    </tr>\n",
       "  </tbody>\n",
       "</table>\n",
       "<p>3822 rows × 4 columns</p>\n",
       "</div>"
      ],
      "text/plain": [
       "     airline_sentiment  airline_sentiment_confidence  retweet_count  \\\n",
       "504           positive                        1.0000              0   \n",
       "505           positive                        1.0000              0   \n",
       "506           negative                        1.0000              0   \n",
       "507           negative                        1.0000              0   \n",
       "508           positive                        0.3441              0   \n",
       "...                ...                           ...            ...   \n",
       "4321          negative                        1.0000              0   \n",
       "4322          negative                        1.0000              0   \n",
       "4323          negative                        1.0000              0   \n",
       "4324          negative                        1.0000              0   \n",
       "4325          negative                        1.0000              0   \n",
       "\n",
       "                                                   text  \n",
       "504                                               thank  \n",
       "505                        thank take care happi custom  \n",
       "506   still refund word via pleas resolv issu cancel...  \n",
       "507   delay due lack crew delay long line deic ... s...  \n",
       "508                              thank fill luck common  \n",
       "...                                                 ...  \n",
       "4321  link current statu flights/airport fli bwi-ewr...  \n",
       "4322          like delay less one plane connect voucher  \n",
       "4323  n't hope nicer flight time tri thing right sol...  \n",
       "4324  got gate iah time given seat close flight know...  \n",
       "4325  ye wait line almost hour passeng left want wai...  \n",
       "\n",
       "[3822 rows x 4 columns]"
      ]
     },
     "execution_count": 27,
     "metadata": {},
     "output_type": "execute_result"
    }
   ],
   "source": [
    "united.drop(['airline'],axis=1,inplace=True)\n",
    "united"
   ]
  },
  {
   "cell_type": "code",
   "execution_count": 28,
   "id": "a23624d3",
   "metadata": {},
   "outputs": [],
   "source": [
    "southwest = airline[airline['airline'] == 'Southwest']"
   ]
  },
  {
   "cell_type": "code",
   "execution_count": 29,
   "id": "4192959c",
   "metadata": {},
   "outputs": [
    {
     "name": "stderr",
     "output_type": "stream",
     "text": [
      "C:\\Users\\Dell\\anaconda3\\lib\\site-packages\\pandas\\core\\frame.py:4906: SettingWithCopyWarning: \n",
      "A value is trying to be set on a copy of a slice from a DataFrame\n",
      "\n",
      "See the caveats in the documentation: https://pandas.pydata.org/pandas-docs/stable/user_guide/indexing.html#returning-a-view-versus-a-copy\n",
      "  return super().drop(\n"
     ]
    },
    {
     "data": {
      "text/html": [
       "<div>\n",
       "<style scoped>\n",
       "    .dataframe tbody tr th:only-of-type {\n",
       "        vertical-align: middle;\n",
       "    }\n",
       "\n",
       "    .dataframe tbody tr th {\n",
       "        vertical-align: top;\n",
       "    }\n",
       "\n",
       "    .dataframe thead th {\n",
       "        text-align: right;\n",
       "    }\n",
       "</style>\n",
       "<table border=\"1\" class=\"dataframe\">\n",
       "  <thead>\n",
       "    <tr style=\"text-align: right;\">\n",
       "      <th></th>\n",
       "      <th>airline_sentiment</th>\n",
       "      <th>airline_sentiment_confidence</th>\n",
       "      <th>retweet_count</th>\n",
       "      <th>text</th>\n",
       "    </tr>\n",
       "  </thead>\n",
       "  <tbody>\n",
       "    <tr>\n",
       "      <th>4326</th>\n",
       "      <td>negative</td>\n",
       "      <td>1.0000</td>\n",
       "      <td>0</td>\n",
       "      <td>southwestair still wait hit one hour</td>\n",
       "    </tr>\n",
       "    <tr>\n",
       "      <th>4327</th>\n",
       "      <td>negative</td>\n",
       "      <td>0.6361</td>\n",
       "      <td>0</td>\n",
       "      <td>southwestair although happi cancel flight flig...</td>\n",
       "    </tr>\n",
       "    <tr>\n",
       "      <th>4328</th>\n",
       "      <td>negative</td>\n",
       "      <td>1.0000</td>\n",
       "      <td>0</td>\n",
       "      <td>southwestair hello hold extrem long time confi...</td>\n",
       "    </tr>\n",
       "    <tr>\n",
       "      <th>4329</th>\n",
       "      <td>neutral</td>\n",
       "      <td>0.6443</td>\n",
       "      <td>0</td>\n",
       "      <td>southwestair teach new travel research budget ...</td>\n",
       "    </tr>\n",
       "    <tr>\n",
       "      <th>4330</th>\n",
       "      <td>negative</td>\n",
       "      <td>1.0000</td>\n",
       "      <td>0</td>\n",
       "      <td>southwestair frustrat loooooong wait time spea...</td>\n",
       "    </tr>\n",
       "    <tr>\n",
       "      <th>...</th>\n",
       "      <td>...</td>\n",
       "      <td>...</td>\n",
       "      <td>...</td>\n",
       "      <td>...</td>\n",
       "    </tr>\n",
       "    <tr>\n",
       "      <th>6741</th>\n",
       "      <td>negative</td>\n",
       "      <td>1.0000</td>\n",
       "      <td>0</td>\n",
       "      <td>southwestair n't answer phone horribleservic n...</td>\n",
       "    </tr>\n",
       "    <tr>\n",
       "      <th>6742</th>\n",
       "      <td>negative</td>\n",
       "      <td>1.0000</td>\n",
       "      <td>0</td>\n",
       "      <td>southwestair stuck sju sever hour one answer r...</td>\n",
       "    </tr>\n",
       "    <tr>\n",
       "      <th>6743</th>\n",
       "      <td>positive</td>\n",
       "      <td>1.0000</td>\n",
       "      <td>0</td>\n",
       "      <td>southwestair nice work updat</td>\n",
       "    </tr>\n",
       "    <tr>\n",
       "      <th>6744</th>\n",
       "      <td>negative</td>\n",
       "      <td>1.0000</td>\n",
       "      <td>0</td>\n",
       "      <td>southwestair guy hour phone hold 3am volum sho...</td>\n",
       "    </tr>\n",
       "    <tr>\n",
       "      <th>6745</th>\n",
       "      <td>negative</td>\n",
       "      <td>1.0000</td>\n",
       "      <td>0</td>\n",
       "      <td>southwestair cool bag take bit longer dont giv...</td>\n",
       "    </tr>\n",
       "  </tbody>\n",
       "</table>\n",
       "<p>2420 rows × 4 columns</p>\n",
       "</div>"
      ],
      "text/plain": [
       "     airline_sentiment  airline_sentiment_confidence  retweet_count  \\\n",
       "4326          negative                        1.0000              0   \n",
       "4327          negative                        0.6361              0   \n",
       "4328          negative                        1.0000              0   \n",
       "4329           neutral                        0.6443              0   \n",
       "4330          negative                        1.0000              0   \n",
       "...                ...                           ...            ...   \n",
       "6741          negative                        1.0000              0   \n",
       "6742          negative                        1.0000              0   \n",
       "6743          positive                        1.0000              0   \n",
       "6744          negative                        1.0000              0   \n",
       "6745          negative                        1.0000              0   \n",
       "\n",
       "                                                   text  \n",
       "4326               southwestair still wait hit one hour  \n",
       "4327  southwestair although happi cancel flight flig...  \n",
       "4328  southwestair hello hold extrem long time confi...  \n",
       "4329  southwestair teach new travel research budget ...  \n",
       "4330  southwestair frustrat loooooong wait time spea...  \n",
       "...                                                 ...  \n",
       "6741  southwestair n't answer phone horribleservic n...  \n",
       "6742  southwestair stuck sju sever hour one answer r...  \n",
       "6743                       southwestair nice work updat  \n",
       "6744  southwestair guy hour phone hold 3am volum sho...  \n",
       "6745  southwestair cool bag take bit longer dont giv...  \n",
       "\n",
       "[2420 rows x 4 columns]"
      ]
     },
     "execution_count": 29,
     "metadata": {},
     "output_type": "execute_result"
    }
   ],
   "source": [
    "southwest.drop(['airline'],axis=1,inplace=True)\n",
    "southwest"
   ]
  },
  {
   "cell_type": "code",
   "execution_count": 30,
   "id": "2f3bad01",
   "metadata": {},
   "outputs": [],
   "source": [
    "delta = airline[airline['airline'] == 'Delta']"
   ]
  },
  {
   "cell_type": "code",
   "execution_count": 31,
   "id": "3d3eca53",
   "metadata": {},
   "outputs": [
    {
     "name": "stderr",
     "output_type": "stream",
     "text": [
      "C:\\Users\\Dell\\anaconda3\\lib\\site-packages\\pandas\\core\\frame.py:4906: SettingWithCopyWarning: \n",
      "A value is trying to be set on a copy of a slice from a DataFrame\n",
      "\n",
      "See the caveats in the documentation: https://pandas.pydata.org/pandas-docs/stable/user_guide/indexing.html#returning-a-view-versus-a-copy\n",
      "  return super().drop(\n"
     ]
    },
    {
     "data": {
      "text/html": [
       "<div>\n",
       "<style scoped>\n",
       "    .dataframe tbody tr th:only-of-type {\n",
       "        vertical-align: middle;\n",
       "    }\n",
       "\n",
       "    .dataframe tbody tr th {\n",
       "        vertical-align: top;\n",
       "    }\n",
       "\n",
       "    .dataframe thead th {\n",
       "        text-align: right;\n",
       "    }\n",
       "</style>\n",
       "<table border=\"1\" class=\"dataframe\">\n",
       "  <thead>\n",
       "    <tr style=\"text-align: right;\">\n",
       "      <th></th>\n",
       "      <th>airline_sentiment</th>\n",
       "      <th>airline_sentiment_confidence</th>\n",
       "      <th>retweet_count</th>\n",
       "      <th>text</th>\n",
       "    </tr>\n",
       "  </thead>\n",
       "  <tbody>\n",
       "    <tr>\n",
       "      <th>6746</th>\n",
       "      <td>positive</td>\n",
       "      <td>0.6469</td>\n",
       "      <td>0</td>\n",
       "      <td>jetblu yesterday way ewr fll take-off wheelsup...</td>\n",
       "    </tr>\n",
       "    <tr>\n",
       "      <th>6747</th>\n",
       "      <td>neutral</td>\n",
       "      <td>0.6869</td>\n",
       "      <td>0</td>\n",
       "      <td>jetblu hope fli often would hate chang airlin</td>\n",
       "    </tr>\n",
       "    <tr>\n",
       "      <th>6748</th>\n",
       "      <td>neutral</td>\n",
       "      <td>1.0000</td>\n",
       "      <td>0</td>\n",
       "      <td>jetblu flight 1041 savannah</td>\n",
       "    </tr>\n",
       "    <tr>\n",
       "      <th>6749</th>\n",
       "      <td>negative</td>\n",
       "      <td>1.0000</td>\n",
       "      <td>0</td>\n",
       "      <td>jetblu n't flight came late flight jetblu empl...</td>\n",
       "    </tr>\n",
       "    <tr>\n",
       "      <th>6750</th>\n",
       "      <td>negative</td>\n",
       "      <td>1.0000</td>\n",
       "      <td>0</td>\n",
       "      <td>jetblu everyon pilot found last flight plane d...</td>\n",
       "    </tr>\n",
       "    <tr>\n",
       "      <th>...</th>\n",
       "      <td>...</td>\n",
       "      <td>...</td>\n",
       "      <td>...</td>\n",
       "      <td>...</td>\n",
       "    </tr>\n",
       "    <tr>\n",
       "      <th>8963</th>\n",
       "      <td>neutral</td>\n",
       "      <td>1.0000</td>\n",
       "      <td>0</td>\n",
       "      <td>jetblu ceo weigh profit flyer chronicleherald ...</td>\n",
       "    </tr>\n",
       "    <tr>\n",
       "      <th>8964</th>\n",
       "      <td>negative</td>\n",
       "      <td>1.0000</td>\n",
       "      <td>0</td>\n",
       "      <td>jetblu realli get nerv nothappi</td>\n",
       "    </tr>\n",
       "    <tr>\n",
       "      <th>8965</th>\n",
       "      <td>neutral</td>\n",
       "      <td>1.0000</td>\n",
       "      <td>0</td>\n",
       "      <td>jetblu new ceo seek right balanc pleas passeng...</td>\n",
       "    </tr>\n",
       "    <tr>\n",
       "      <th>12038</th>\n",
       "      <td>negative</td>\n",
       "      <td>1.0000</td>\n",
       "      <td>0</td>\n",
       "      <td>deltaassist minut wait silver elit line someon...</td>\n",
       "    </tr>\n",
       "    <tr>\n",
       "      <th>12039</th>\n",
       "      <td>negative</td>\n",
       "      <td>0.7991</td>\n",
       "      <td>0</td>\n",
       "      <td>deltaassist say 140 charact plu n't follow</td>\n",
       "    </tr>\n",
       "  </tbody>\n",
       "</table>\n",
       "<p>2222 rows × 4 columns</p>\n",
       "</div>"
      ],
      "text/plain": [
       "      airline_sentiment  airline_sentiment_confidence  retweet_count  \\\n",
       "6746           positive                        0.6469              0   \n",
       "6747            neutral                        0.6869              0   \n",
       "6748            neutral                        1.0000              0   \n",
       "6749           negative                        1.0000              0   \n",
       "6750           negative                        1.0000              0   \n",
       "...                 ...                           ...            ...   \n",
       "8963            neutral                        1.0000              0   \n",
       "8964           negative                        1.0000              0   \n",
       "8965            neutral                        1.0000              0   \n",
       "12038          negative                        1.0000              0   \n",
       "12039          negative                        0.7991              0   \n",
       "\n",
       "                                                    text  \n",
       "6746   jetblu yesterday way ewr fll take-off wheelsup...  \n",
       "6747       jetblu hope fli often would hate chang airlin  \n",
       "6748                         jetblu flight 1041 savannah  \n",
       "6749   jetblu n't flight came late flight jetblu empl...  \n",
       "6750   jetblu everyon pilot found last flight plane d...  \n",
       "...                                                  ...  \n",
       "8963   jetblu ceo weigh profit flyer chronicleherald ...  \n",
       "8964                     jetblu realli get nerv nothappi  \n",
       "8965   jetblu new ceo seek right balanc pleas passeng...  \n",
       "12038  deltaassist minut wait silver elit line someon...  \n",
       "12039         deltaassist say 140 charact plu n't follow  \n",
       "\n",
       "[2222 rows x 4 columns]"
      ]
     },
     "execution_count": 31,
     "metadata": {},
     "output_type": "execute_result"
    }
   ],
   "source": [
    "delta.drop(['airline'],axis=1,inplace=True)\n",
    "delta"
   ]
  },
  {
   "cell_type": "code",
   "execution_count": 32,
   "id": "89a81dd2",
   "metadata": {},
   "outputs": [],
   "source": [
    "us_airways = airline[airline['airline'] == 'US Airways']"
   ]
  },
  {
   "cell_type": "code",
   "execution_count": 33,
   "id": "84f218db",
   "metadata": {},
   "outputs": [
    {
     "name": "stderr",
     "output_type": "stream",
     "text": [
      "C:\\Users\\Dell\\anaconda3\\lib\\site-packages\\pandas\\core\\frame.py:4906: SettingWithCopyWarning: \n",
      "A value is trying to be set on a copy of a slice from a DataFrame\n",
      "\n",
      "See the caveats in the documentation: https://pandas.pydata.org/pandas-docs/stable/user_guide/indexing.html#returning-a-view-versus-a-copy\n",
      "  return super().drop(\n"
     ]
    },
    {
     "data": {
      "text/html": [
       "<div>\n",
       "<style scoped>\n",
       "    .dataframe tbody tr th:only-of-type {\n",
       "        vertical-align: middle;\n",
       "    }\n",
       "\n",
       "    .dataframe tbody tr th {\n",
       "        vertical-align: top;\n",
       "    }\n",
       "\n",
       "    .dataframe thead th {\n",
       "        text-align: right;\n",
       "    }\n",
       "</style>\n",
       "<table border=\"1\" class=\"dataframe\">\n",
       "  <thead>\n",
       "    <tr style=\"text-align: right;\">\n",
       "      <th></th>\n",
       "      <th>airline_sentiment</th>\n",
       "      <th>airline_sentiment_confidence</th>\n",
       "      <th>retweet_count</th>\n",
       "      <th>text</th>\n",
       "    </tr>\n",
       "  </thead>\n",
       "  <tbody>\n",
       "    <tr>\n",
       "      <th>8966</th>\n",
       "      <td>negative</td>\n",
       "      <td>0.6292</td>\n",
       "      <td>0</td>\n",
       "      <td>usairway better time call flight friday need c...</td>\n",
       "    </tr>\n",
       "    <tr>\n",
       "      <th>8967</th>\n",
       "      <td>negative</td>\n",
       "      <td>1.0000</td>\n",
       "      <td>0</td>\n",
       "      <td>usairway one agent avail speak</td>\n",
       "    </tr>\n",
       "    <tr>\n",
       "      <th>8968</th>\n",
       "      <td>neutral</td>\n",
       "      <td>1.0000</td>\n",
       "      <td>0</td>\n",
       "      <td>usairway possibl n't follow</td>\n",
       "    </tr>\n",
       "    <tr>\n",
       "      <th>8969</th>\n",
       "      <td>neutral</td>\n",
       "      <td>1.0000</td>\n",
       "      <td>0</td>\n",
       "      <td>usairway fortun staff like lynn deede actual u...</td>\n",
       "    </tr>\n",
       "    <tr>\n",
       "      <th>8970</th>\n",
       "      <td>negative</td>\n",
       "      <td>1.0000</td>\n",
       "      <td>0</td>\n",
       "      <td>usairway hung anoth wast hour time suppos book...</td>\n",
       "    </tr>\n",
       "    <tr>\n",
       "      <th>...</th>\n",
       "      <td>...</td>\n",
       "      <td>...</td>\n",
       "      <td>...</td>\n",
       "      <td>...</td>\n",
       "    </tr>\n",
       "    <tr>\n",
       "      <th>11874</th>\n",
       "      <td>negative</td>\n",
       "      <td>1.0000</td>\n",
       "      <td>0</td>\n",
       "      <td>usairway hold gold reserv line hour flight can...</td>\n",
       "    </tr>\n",
       "    <tr>\n",
       "      <th>11875</th>\n",
       "      <td>negative</td>\n",
       "      <td>1.0000</td>\n",
       "      <td>0</td>\n",
       "      <td>usairway choic pay anoth airport hope treat be...</td>\n",
       "    </tr>\n",
       "    <tr>\n",
       "      <th>11876</th>\n",
       "      <td>negative</td>\n",
       "      <td>1.0000</td>\n",
       "      <td>0</td>\n",
       "      <td>usairway reserv hold hour hang ... smh</td>\n",
       "    </tr>\n",
       "    <tr>\n",
       "      <th>11877</th>\n",
       "      <td>negative</td>\n",
       "      <td>1.0000</td>\n",
       "      <td>0</td>\n",
       "      <td>usairway americanair suppos chang flight n't g...</td>\n",
       "    </tr>\n",
       "    <tr>\n",
       "      <th>11878</th>\n",
       "      <td>neutral</td>\n",
       "      <td>1.0000</td>\n",
       "      <td>0</td>\n",
       "      <td>usairway 1797 look today</td>\n",
       "    </tr>\n",
       "  </tbody>\n",
       "</table>\n",
       "<p>2913 rows × 4 columns</p>\n",
       "</div>"
      ],
      "text/plain": [
       "      airline_sentiment  airline_sentiment_confidence  retweet_count  \\\n",
       "8966           negative                        0.6292              0   \n",
       "8967           negative                        1.0000              0   \n",
       "8968            neutral                        1.0000              0   \n",
       "8969            neutral                        1.0000              0   \n",
       "8970           negative                        1.0000              0   \n",
       "...                 ...                           ...            ...   \n",
       "11874          negative                        1.0000              0   \n",
       "11875          negative                        1.0000              0   \n",
       "11876          negative                        1.0000              0   \n",
       "11877          negative                        1.0000              0   \n",
       "11878           neutral                        1.0000              0   \n",
       "\n",
       "                                                    text  \n",
       "8966   usairway better time call flight friday need c...  \n",
       "8967                      usairway one agent avail speak  \n",
       "8968                         usairway possibl n't follow  \n",
       "8969   usairway fortun staff like lynn deede actual u...  \n",
       "8970   usairway hung anoth wast hour time suppos book...  \n",
       "...                                                  ...  \n",
       "11874  usairway hold gold reserv line hour flight can...  \n",
       "11875  usairway choic pay anoth airport hope treat be...  \n",
       "11876             usairway reserv hold hour hang ... smh  \n",
       "11877  usairway americanair suppos chang flight n't g...  \n",
       "11878                           usairway 1797 look today  \n",
       "\n",
       "[2913 rows x 4 columns]"
      ]
     },
     "execution_count": 33,
     "metadata": {},
     "output_type": "execute_result"
    }
   ],
   "source": [
    "us_airways.drop(['airline'],axis=1,inplace=True)\n",
    "us_airways"
   ]
  },
  {
   "cell_type": "code",
   "execution_count": 34,
   "id": "d63e316d",
   "metadata": {},
   "outputs": [],
   "source": [
    "american = airline[airline['airline'] == 'American']"
   ]
  },
  {
   "cell_type": "code",
   "execution_count": 35,
   "id": "2dbab939",
   "metadata": {},
   "outputs": [
    {
     "name": "stderr",
     "output_type": "stream",
     "text": [
      "C:\\Users\\Dell\\anaconda3\\lib\\site-packages\\pandas\\core\\frame.py:4906: SettingWithCopyWarning: \n",
      "A value is trying to be set on a copy of a slice from a DataFrame\n",
      "\n",
      "See the caveats in the documentation: https://pandas.pydata.org/pandas-docs/stable/user_guide/indexing.html#returning-a-view-versus-a-copy\n",
      "  return super().drop(\n"
     ]
    },
    {
     "data": {
      "text/html": [
       "<div>\n",
       "<style scoped>\n",
       "    .dataframe tbody tr th:only-of-type {\n",
       "        vertical-align: middle;\n",
       "    }\n",
       "\n",
       "    .dataframe tbody tr th {\n",
       "        vertical-align: top;\n",
       "    }\n",
       "\n",
       "    .dataframe thead th {\n",
       "        text-align: right;\n",
       "    }\n",
       "</style>\n",
       "<table border=\"1\" class=\"dataframe\">\n",
       "  <thead>\n",
       "    <tr style=\"text-align: right;\">\n",
       "      <th></th>\n",
       "      <th>airline_sentiment</th>\n",
       "      <th>airline_sentiment_confidence</th>\n",
       "      <th>retweet_count</th>\n",
       "      <th>text</th>\n",
       "    </tr>\n",
       "  </thead>\n",
       "  <tbody>\n",
       "    <tr>\n",
       "      <th>11879</th>\n",
       "      <td>negative</td>\n",
       "      <td>1.0000</td>\n",
       "      <td>0</td>\n",
       "      <td>americanair would even consid continu point pr...</td>\n",
       "    </tr>\n",
       "    <tr>\n",
       "      <th>11880</th>\n",
       "      <td>neutral</td>\n",
       "      <td>0.6667</td>\n",
       "      <td>0</td>\n",
       "      <td>americanair 've alreadi made arrang</td>\n",
       "    </tr>\n",
       "    <tr>\n",
       "      <th>11881</th>\n",
       "      <td>negative</td>\n",
       "      <td>0.6316</td>\n",
       "      <td>0</td>\n",
       "      <td>americanair thank get back find airlin futur</td>\n",
       "    </tr>\n",
       "    <tr>\n",
       "      <th>11882</th>\n",
       "      <td>negative</td>\n",
       "      <td>0.6846</td>\n",
       "      <td>0</td>\n",
       "      <td>americanair would pay 200 reactiv point use ce...</td>\n",
       "    </tr>\n",
       "    <tr>\n",
       "      <th>11883</th>\n",
       "      <td>negative</td>\n",
       "      <td>0.6547</td>\n",
       "      <td>0</td>\n",
       "      <td>americanair strand hour mia patrick casimir st...</td>\n",
       "    </tr>\n",
       "    <tr>\n",
       "      <th>...</th>\n",
       "      <td>...</td>\n",
       "      <td>...</td>\n",
       "      <td>...</td>\n",
       "      <td>...</td>\n",
       "    </tr>\n",
       "    <tr>\n",
       "      <th>14635</th>\n",
       "      <td>positive</td>\n",
       "      <td>0.3487</td>\n",
       "      <td>0</td>\n",
       "      <td>americanair thank got differ flight chicago</td>\n",
       "    </tr>\n",
       "    <tr>\n",
       "      <th>14636</th>\n",
       "      <td>negative</td>\n",
       "      <td>1.0000</td>\n",
       "      <td>0</td>\n",
       "      <td>americanair leav minut late flight warn commun...</td>\n",
       "    </tr>\n",
       "    <tr>\n",
       "      <th>14637</th>\n",
       "      <td>neutral</td>\n",
       "      <td>1.0000</td>\n",
       "      <td>0</td>\n",
       "      <td>americanair pleas bring american airlin blackb...</td>\n",
       "    </tr>\n",
       "    <tr>\n",
       "      <th>14638</th>\n",
       "      <td>negative</td>\n",
       "      <td>1.0000</td>\n",
       "      <td>0</td>\n",
       "      <td>americanair money chang flight n't answer phon...</td>\n",
       "    </tr>\n",
       "    <tr>\n",
       "      <th>14639</th>\n",
       "      <td>neutral</td>\n",
       "      <td>0.6771</td>\n",
       "      <td>0</td>\n",
       "      <td>americanair ppl need know mani seat next fligh...</td>\n",
       "    </tr>\n",
       "  </tbody>\n",
       "</table>\n",
       "<p>2759 rows × 4 columns</p>\n",
       "</div>"
      ],
      "text/plain": [
       "      airline_sentiment  airline_sentiment_confidence  retweet_count  \\\n",
       "11879          negative                        1.0000              0   \n",
       "11880           neutral                        0.6667              0   \n",
       "11881          negative                        0.6316              0   \n",
       "11882          negative                        0.6846              0   \n",
       "11883          negative                        0.6547              0   \n",
       "...                 ...                           ...            ...   \n",
       "14635          positive                        0.3487              0   \n",
       "14636          negative                        1.0000              0   \n",
       "14637           neutral                        1.0000              0   \n",
       "14638          negative                        1.0000              0   \n",
       "14639           neutral                        0.6771              0   \n",
       "\n",
       "                                                    text  \n",
       "11879  americanair would even consid continu point pr...  \n",
       "11880                americanair 've alreadi made arrang  \n",
       "11881       americanair thank get back find airlin futur  \n",
       "11882  americanair would pay 200 reactiv point use ce...  \n",
       "11883  americanair strand hour mia patrick casimir st...  \n",
       "...                                                  ...  \n",
       "14635        americanair thank got differ flight chicago  \n",
       "14636  americanair leav minut late flight warn commun...  \n",
       "14637  americanair pleas bring american airlin blackb...  \n",
       "14638  americanair money chang flight n't answer phon...  \n",
       "14639  americanair ppl need know mani seat next fligh...  \n",
       "\n",
       "[2759 rows x 4 columns]"
      ]
     },
     "execution_count": 35,
     "metadata": {},
     "output_type": "execute_result"
    }
   ],
   "source": [
    "american.drop(['airline'],axis=1,inplace=True)\n",
    "american"
   ]
  },
  {
   "cell_type": "markdown",
   "id": "87cfe58d",
   "metadata": {},
   "source": [
    "# Balanced data"
   ]
  },
  {
   "cell_type": "markdown",
   "id": "4b704f54",
   "metadata": {},
   "source": [
    "## Virgin America"
   ]
  },
  {
   "cell_type": "markdown",
   "id": "a5b76e2d",
   "metadata": {},
   "source": [
    "### Tfidf vectorization & splitting into train test"
   ]
  },
  {
   "cell_type": "code",
   "execution_count": 36,
   "id": "4be3f2d3",
   "metadata": {},
   "outputs": [],
   "source": [
    "tf=TfidfVectorizer()"
   ]
  },
  {
   "cell_type": "code",
   "execution_count": 37,
   "id": "13ea9ff7",
   "metadata": {},
   "outputs": [],
   "source": [
    "xva = virgin_america['text']"
   ]
  },
  {
   "cell_type": "code",
   "execution_count": 38,
   "id": "a49606a5",
   "metadata": {},
   "outputs": [],
   "source": [
    "yva = virgin_america['airline_sentiment']"
   ]
  },
  {
   "cell_type": "code",
   "execution_count": 39,
   "id": "c931d5ea",
   "metadata": {},
   "outputs": [],
   "source": [
    "xva = tf.fit_transform(xva)"
   ]
  },
  {
   "cell_type": "code",
   "execution_count": 40,
   "id": "23d4f57b",
   "metadata": {},
   "outputs": [],
   "source": [
    "smc = SMOTETomek()"
   ]
  },
  {
   "cell_type": "code",
   "execution_count": 41,
   "id": "9dd3e8f4",
   "metadata": {},
   "outputs": [],
   "source": [
    "xva, yva = smc.fit_sample(xva,yva)"
   ]
  },
  {
   "cell_type": "code",
   "execution_count": 42,
   "id": "7872478e",
   "metadata": {},
   "outputs": [
    {
     "data": {
      "text/plain": [
       "<495x1482 sparse matrix of type '<class 'numpy.float64'>'\n",
       "\twith 4692 stored elements in Compressed Sparse Row format>"
      ]
     },
     "execution_count": 42,
     "metadata": {},
     "output_type": "execute_result"
    }
   ],
   "source": [
    "xva"
   ]
  },
  {
   "cell_type": "code",
   "execution_count": 43,
   "id": "f444f327",
   "metadata": {},
   "outputs": [],
   "source": [
    "xva_train, xva_test, yva_train, yva_test = train_test_split(xva, yva, test_size=0.34, random_state=101)"
   ]
  },
  {
   "cell_type": "code",
   "execution_count": 44,
   "id": "4cfb9e4d",
   "metadata": {},
   "outputs": [
    {
     "data": {
      "text/plain": [
       "<326x1482 sparse matrix of type '<class 'numpy.float64'>'\n",
       "\twith 3165 stored elements in Compressed Sparse Row format>"
      ]
     },
     "execution_count": 44,
     "metadata": {},
     "output_type": "execute_result"
    }
   ],
   "source": [
    "xva_train"
   ]
  },
  {
   "cell_type": "code",
   "execution_count": 45,
   "id": "6b3de4cc",
   "metadata": {},
   "outputs": [
    {
     "data": {
      "text/plain": [
       "\"param_grid = { \\n    'n_estimators': [200,250,260,270,300,350,100, 500],\\n    'max_features': ['auto', 'sqrt', 'log2'],\\n    'max_depth' : [4,5,6,7,8],\\n    'criterion' :['gini', 'entropy']\\n}\\n\""
      ]
     },
     "execution_count": 45,
     "metadata": {},
     "output_type": "execute_result"
    }
   ],
   "source": [
    "'''param_grid = { \n",
    "    'n_estimators': [200,250,260,270,300,350,100, 500],\n",
    "    'max_features': ['auto', 'sqrt', 'log2'],\n",
    "    'max_depth' : [4,5,6,7,8],\n",
    "    'criterion' :['gini', 'entropy']\n",
    "}\n",
    "'''"
   ]
  },
  {
   "cell_type": "markdown",
   "id": "bbaf0ca0",
   "metadata": {},
   "source": [
    "### ID3 "
   ]
  },
  {
   "cell_type": "code",
   "execution_count": 46,
   "id": "441ffe23",
   "metadata": {},
   "outputs": [],
   "source": [
    "id3 = RandomForestClassifier(n_estimators=255, criterion='entropy')"
   ]
  },
  {
   "cell_type": "code",
   "execution_count": 47,
   "id": "ff9866ad",
   "metadata": {},
   "outputs": [],
   "source": [
    "#CV_rfc = GridSearchCV(estimator=rfc, param_grid=param_grid, cv= 5)\n",
    "#CV_rfc.fit(xva_train, yva_train)"
   ]
  },
  {
   "cell_type": "code",
   "execution_count": 48,
   "id": "905d956b",
   "metadata": {},
   "outputs": [
    {
     "data": {
      "text/plain": [
       "RandomForestClassifier(criterion='entropy', n_estimators=255)"
      ]
     },
     "execution_count": 48,
     "metadata": {},
     "output_type": "execute_result"
    }
   ],
   "source": [
    "id3.fit(xva_train, yva_train)"
   ]
  },
  {
   "cell_type": "code",
   "execution_count": 49,
   "id": "6cd190ba",
   "metadata": {},
   "outputs": [],
   "source": [
    "id3_preds = id3.predict(xva_test)"
   ]
  },
  {
   "cell_type": "code",
   "execution_count": 50,
   "id": "4f4554ec",
   "metadata": {},
   "outputs": [
    {
     "name": "stdout",
     "output_type": "stream",
     "text": [
      "0.6272189349112426\n",
      "<sklearn.metrics._plot.confusion_matrix.ConfusionMatrixDisplay object at 0x0000019B09A17880>\n",
      "              precision    recall  f1-score   support\n",
      "\n",
      "    negative       0.55      0.76      0.64        49\n",
      "     neutral       0.57      0.56      0.57        62\n",
      "    positive       0.83      0.59      0.69        58\n",
      "\n",
      "    accuracy                           0.63       169\n",
      "   macro avg       0.65      0.64      0.63       169\n",
      "weighted avg       0.66      0.63      0.63       169\n",
      "\n"
     ]
    },
    {
     "data": {
      "image/png": "[encoded data removed]",
      "text/plain": [
       "<Figure size 432x288 with 2 Axes>"
      ]
     },
     "metadata": {
      "needs_background": "light"
     },
     "output_type": "display_data"
    }
   ],
   "source": [
    "id3_score = accuracy_score(yva_test, id3_preds)\n",
    "print(id3_score)\n",
    "id3_matrix = plot_confusion_matrix(id3, xva_test, yva_test)\n",
    "print(id3_matrix)\n",
    "id3_report = classification_report(yva_test, id3_preds)\n",
    "print(id3_report)"
   ]
  },
  {
   "cell_type": "markdown",
   "id": "55514408",
   "metadata": {},
   "source": [
    "### Random Forest Classifier "
   ]
  },
  {
   "cell_type": "code",
   "execution_count": 51,
   "id": "324e751e",
   "metadata": {},
   "outputs": [],
   "source": [
    "rfc = RandomForestClassifier(n_estimators=250, criterion='gini')"
   ]
  },
  {
   "cell_type": "code",
   "execution_count": 52,
   "id": "2cc1ba4d",
   "metadata": {},
   "outputs": [
    {
     "data": {
      "text/plain": [
       "RandomForestClassifier(n_estimators=250)"
      ]
     },
     "execution_count": 52,
     "metadata": {},
     "output_type": "execute_result"
    }
   ],
   "source": [
    "rfc.fit(xva_train, yva_train)"
   ]
  },
  {
   "cell_type": "code",
   "execution_count": 53,
   "id": "45d80e71",
   "metadata": {},
   "outputs": [],
   "source": [
    "rfc_preds = rfc.predict(xva_test)"
   ]
  },
  {
   "cell_type": "code",
   "execution_count": 54,
   "id": "7fc6e100",
   "metadata": {},
   "outputs": [
    {
     "name": "stdout",
     "output_type": "stream",
     "text": [
      "0.6568047337278107\n",
      "<sklearn.metrics._plot.confusion_matrix.ConfusionMatrixDisplay object at 0x0000019B0A7942E0>\n",
      "              precision    recall  f1-score   support\n",
      "\n",
      "    negative       0.60      0.73      0.66        49\n",
      "     neutral       0.60      0.66      0.63        62\n",
      "    positive       0.83      0.59      0.69        58\n",
      "\n",
      "    accuracy                           0.66       169\n",
      "   macro avg       0.68      0.66      0.66       169\n",
      "weighted avg       0.68      0.66      0.66       169\n",
      "\n"
     ]
    },
    {
     "data": {
      "image/png": "[encoded data removed]",
      "text/plain": [
       "<Figure size 432x288 with 2 Axes>"
      ]
     },
     "metadata": {
      "needs_background": "light"
     },
     "output_type": "display_data"
    }
   ],
   "source": [
    "rfc_score = accuracy_score(yva_test, rfc_preds)\n",
    "print(rfc_score)\n",
    "rfc_matrix = plot_confusion_matrix(rfc, xva_test, yva_test)\n",
    "print(rfc_matrix)\n",
    "rfc_report = classification_report(yva_test, rfc_preds)\n",
    "print(rfc_report)"
   ]
  },
  {
   "cell_type": "markdown",
   "id": "0fc51536",
   "metadata": {},
   "source": [
    "### Naive Bayes "
   ]
  },
  {
   "cell_type": "code",
   "execution_count": 55,
   "id": "ae0b1617",
   "metadata": {},
   "outputs": [],
   "source": [
    "nbva = MultinomialNB()"
   ]
  },
  {
   "cell_type": "code",
   "execution_count": 56,
   "id": "b57e8158",
   "metadata": {},
   "outputs": [
    {
     "data": {
      "text/plain": [
       "MultinomialNB()"
      ]
     },
     "execution_count": 56,
     "metadata": {},
     "output_type": "execute_result"
    }
   ],
   "source": [
    "nbva.fit(xva_train, yva_train)"
   ]
  },
  {
   "cell_type": "code",
   "execution_count": 57,
   "id": "d7540816",
   "metadata": {},
   "outputs": [],
   "source": [
    "nbva_preds = nbva.predict(xva_test)"
   ]
  },
  {
   "cell_type": "code",
   "execution_count": 58,
   "id": "ecdfb7db",
   "metadata": {},
   "outputs": [
    {
     "name": "stdout",
     "output_type": "stream",
     "text": [
      "0.6331360946745562\n",
      "<sklearn.metrics._plot.confusion_matrix.ConfusionMatrixDisplay object at 0x0000019B0A77C280>\n",
      "              precision    recall  f1-score   support\n",
      "\n",
      "    negative       0.53      0.80      0.63        49\n",
      "     neutral       0.68      0.45      0.54        62\n",
      "    positive       0.74      0.69      0.71        58\n",
      "\n",
      "    accuracy                           0.63       169\n",
      "   macro avg       0.65      0.65      0.63       169\n",
      "weighted avg       0.66      0.63      0.63       169\n",
      "\n"
     ]
    },
    {
     "data": {
      "image/png": "[encoded data removed]",
      "text/plain": [
       "<Figure size 432x288 with 2 Axes>"
      ]
     },
     "metadata": {
      "needs_background": "light"
     },
     "output_type": "display_data"
    }
   ],
   "source": [
    "nbva_score = accuracy_score(yva_test, nbva_preds)\n",
    "print(nbva_score)\n",
    "nbva_matrix = plot_confusion_matrix(nbva, xva_test, yva_test)\n",
    "print(nbva_matrix)\n",
    "nbva_report = classification_report(yva_test, nbva_preds)\n",
    "print(nbva_report)"
   ]
  },
  {
   "cell_type": "markdown",
   "id": "549250d0",
   "metadata": {},
   "source": [
    "### Decision Tree "
   ]
  },
  {
   "cell_type": "code",
   "execution_count": 59,
   "id": "55fdea87",
   "metadata": {},
   "outputs": [],
   "source": [
    "dtva = DecisionTreeClassifier()"
   ]
  },
  {
   "cell_type": "code",
   "execution_count": 60,
   "id": "f713ae07",
   "metadata": {},
   "outputs": [
    {
     "data": {
      "text/plain": [
       "DecisionTreeClassifier()"
      ]
     },
     "execution_count": 60,
     "metadata": {},
     "output_type": "execute_result"
    }
   ],
   "source": [
    "dtva.fit(xva_train, yva_train)"
   ]
  },
  {
   "cell_type": "code",
   "execution_count": 61,
   "id": "08a0ffdf",
   "metadata": {},
   "outputs": [],
   "source": [
    "dtva_preds = dtva.predict(xva_test)"
   ]
  },
  {
   "cell_type": "code",
   "execution_count": 62,
   "id": "338d7ae4",
   "metadata": {},
   "outputs": [
    {
     "name": "stdout",
     "output_type": "stream",
     "text": [
      "0.5207100591715976\n",
      "<sklearn.metrics._plot.confusion_matrix.ConfusionMatrixDisplay object at 0x0000019B0A8C0A30>\n",
      "              precision    recall  f1-score   support\n",
      "\n",
      "    negative       0.42      0.51      0.46        49\n",
      "     neutral       0.50      0.53      0.52        62\n",
      "    positive       0.70      0.52      0.59        58\n",
      "\n",
      "    accuracy                           0.52       169\n",
      "   macro avg       0.54      0.52      0.52       169\n",
      "weighted avg       0.54      0.52      0.53       169\n",
      "\n"
     ]
    },
    {
     "data": {
      "image/png": "[encoded data removed]",
      "text/plain": [
       "<Figure size 432x288 with 2 Axes>"
      ]
     },
     "metadata": {
      "needs_background": "light"
     },
     "output_type": "display_data"
    }
   ],
   "source": [
    "dtva_score = accuracy_score(yva_test, dtva_preds)\n",
    "print(dtva_score)\n",
    "dtva_matrix = plot_confusion_matrix(dtva, xva_test, yva_test)\n",
    "print(dtva_matrix)\n",
    "dtva_report = classification_report(yva_test, dtva_preds)\n",
    "print(dtva_report)"
   ]
  },
  {
   "cell_type": "markdown",
   "id": "4917e7f6",
   "metadata": {},
   "source": [
    "### KNN Classifier"
   ]
  },
  {
   "cell_type": "code",
   "execution_count": 63,
   "id": "c512fb97",
   "metadata": {},
   "outputs": [],
   "source": [
    "knnva = KNeighborsClassifier(n_neighbors=5, leaf_size=5, p=2)"
   ]
  },
  {
   "cell_type": "code",
   "execution_count": 64,
   "id": "7955d43a",
   "metadata": {},
   "outputs": [
    {
     "data": {
      "text/plain": [
       "KNeighborsClassifier(leaf_size=5)"
      ]
     },
     "execution_count": 64,
     "metadata": {},
     "output_type": "execute_result"
    }
   ],
   "source": [
    "knnva.fit(xva_train, yva_train)"
   ]
  },
  {
   "cell_type": "code",
   "execution_count": 65,
   "id": "50ba03e2",
   "metadata": {},
   "outputs": [],
   "source": [
    "knnva_preds = knnva.predict(xva_test)"
   ]
  },
  {
   "cell_type": "code",
   "execution_count": 66,
   "id": "62f89a6d",
   "metadata": {},
   "outputs": [
    {
     "name": "stdout",
     "output_type": "stream",
     "text": [
      "0.41420118343195267\n",
      "<sklearn.metrics._plot.confusion_matrix.ConfusionMatrixDisplay object at 0x0000019B0A954730>\n",
      "              precision    recall  f1-score   support\n",
      "\n",
      "    negative       0.82      0.18      0.30        49\n",
      "     neutral       0.57      0.06      0.12        62\n",
      "    positive       0.38      0.98      0.55        58\n",
      "\n",
      "    accuracy                           0.41       169\n",
      "   macro avg       0.59      0.41      0.32       169\n",
      "weighted avg       0.58      0.41      0.32       169\n",
      "\n"
     ]
    },
    {
     "data": {
      "image/png": "[encoded data removed]",
      "text/plain": [
       "<Figure size 432x288 with 2 Axes>"
      ]
     },
     "metadata": {
      "needs_background": "light"
     },
     "output_type": "display_data"
    }
   ],
   "source": [
    "knnva_score = accuracy_score(yva_test, knnva_preds)\n",
    "print(knnva_score)\n",
    "knnva_matrix = plot_confusion_matrix(knnva, xva_test, yva_test)\n",
    "print(knnva_matrix)\n",
    "knnva_report = classification_report(yva_test, knnva_preds)\n",
    "print(knnva_report)"
   ]
  },
  {
   "cell_type": "markdown",
   "id": "f4f5f1dc",
   "metadata": {},
   "source": [
    "# United"
   ]
  },
  {
   "cell_type": "markdown",
   "id": "0688052c",
   "metadata": {},
   "source": [
    "### Tfidf vectorization & splitting into train test"
   ]
  },
  {
   "cell_type": "code",
   "execution_count": 67,
   "id": "3fa7ed66",
   "metadata": {},
   "outputs": [],
   "source": [
    "xu = united['text']"
   ]
  },
  {
   "cell_type": "code",
   "execution_count": 68,
   "id": "e5e76d90",
   "metadata": {},
   "outputs": [],
   "source": [
    "yu = united['airline_sentiment']"
   ]
  },
  {
   "cell_type": "code",
   "execution_count": 69,
   "id": "00711aab",
   "metadata": {},
   "outputs": [],
   "source": [
    "xu = tf.fit_transform(xu)"
   ]
  },
  {
   "cell_type": "code",
   "execution_count": 70,
   "id": "8987db25",
   "metadata": {},
   "outputs": [],
   "source": [
    "smc = SMOTETomek()"
   ]
  },
  {
   "cell_type": "code",
   "execution_count": 71,
   "id": "0c6f5822",
   "metadata": {},
   "outputs": [],
   "source": [
    "xu, yu = smc.fit_sample(xu,yu)"
   ]
  },
  {
   "cell_type": "code",
   "execution_count": 72,
   "id": "4996c63b",
   "metadata": {},
   "outputs": [
    {
     "data": {
      "text/plain": [
       "<7899x5290 sparse matrix of type '<class 'numpy.float64'>'\n",
       "\twith 77050 stored elements in Compressed Sparse Row format>"
      ]
     },
     "execution_count": 72,
     "metadata": {},
     "output_type": "execute_result"
    }
   ],
   "source": [
    "xu"
   ]
  },
  {
   "cell_type": "code",
   "execution_count": 73,
   "id": "8fac5a9a",
   "metadata": {},
   "outputs": [],
   "source": [
    "xu_train, xu_test, yu_train, yu_test = train_test_split(xu, yu, test_size=0.34, random_state=101)"
   ]
  },
  {
   "cell_type": "code",
   "execution_count": 74,
   "id": "f872beb4",
   "metadata": {},
   "outputs": [
    {
     "data": {
      "text/plain": [
       "<5213x5290 sparse matrix of type '<class 'numpy.float64'>'\n",
       "\twith 50698 stored elements in Compressed Sparse Row format>"
      ]
     },
     "execution_count": 74,
     "metadata": {},
     "output_type": "execute_result"
    }
   ],
   "source": [
    "xu_train"
   ]
  },
  {
   "cell_type": "markdown",
   "id": "4c7eec46",
   "metadata": {},
   "source": [
    "### ID3 "
   ]
  },
  {
   "cell_type": "code",
   "execution_count": 75,
   "id": "eb78a7c3",
   "metadata": {},
   "outputs": [],
   "source": [
    "id3u = RandomForestClassifier(n_estimators=250, criterion='entropy')"
   ]
  },
  {
   "cell_type": "code",
   "execution_count": 76,
   "id": "4eb5bf7c",
   "metadata": {},
   "outputs": [
    {
     "data": {
      "text/plain": [
       "RandomForestClassifier(criterion='entropy', n_estimators=250)"
      ]
     },
     "execution_count": 76,
     "metadata": {},
     "output_type": "execute_result"
    }
   ],
   "source": [
    "id3u.fit(xu_train, yu_train)"
   ]
  },
  {
   "cell_type": "code",
   "execution_count": 77,
   "id": "1007435e",
   "metadata": {},
   "outputs": [],
   "source": [
    "id3u_preds = id3u.predict(xu_test)"
   ]
  },
  {
   "cell_type": "code",
   "execution_count": 78,
   "id": "59675028",
   "metadata": {},
   "outputs": [
    {
     "name": "stdout",
     "output_type": "stream",
     "text": [
      "0.8868205510052122\n",
      "<sklearn.metrics._plot.confusion_matrix.ConfusionMatrixDisplay object at 0x0000019B0A95C880>\n",
      "              precision    recall  f1-score   support\n",
      "\n",
      "    negative       0.87      0.86      0.87       908\n",
      "     neutral       0.89      0.86      0.87       919\n",
      "    positive       0.90      0.94      0.92       859\n",
      "\n",
      "    accuracy                           0.89      2686\n",
      "   macro avg       0.89      0.89      0.89      2686\n",
      "weighted avg       0.89      0.89      0.89      2686\n",
      "\n"
     ]
    },
    {
     "data": {
      "image/png": "[encoded data removed]",
      "text/plain": [
       "<Figure size 432x288 with 2 Axes>"
      ]
     },
     "metadata": {
      "needs_background": "light"
     },
     "output_type": "display_data"
    }
   ],
   "source": [
    "id3u_score = accuracy_score(yu_test, id3u_preds)\n",
    "print(id3u_score)\n",
    "id3u_matrix = plot_confusion_matrix(id3u, xu_test, yu_test)\n",
    "print(id3u_matrix)\n",
    "id3u_report = classification_report(yu_test, id3u_preds)\n",
    "print(id3u_report)"
   ]
  },
  {
   "cell_type": "markdown",
   "id": "c6cc4366",
   "metadata": {},
   "source": [
    "### Random Forest Classifier "
   ]
  },
  {
   "cell_type": "code",
   "execution_count": 79,
   "id": "8239ee21",
   "metadata": {},
   "outputs": [],
   "source": [
    "rfcu = RandomForestClassifier(n_estimators=250, criterion='gini')"
   ]
  },
  {
   "cell_type": "code",
   "execution_count": 80,
   "id": "b0d519d1",
   "metadata": {},
   "outputs": [
    {
     "data": {
      "text/plain": [
       "RandomForestClassifier(n_estimators=250)"
      ]
     },
     "execution_count": 80,
     "metadata": {},
     "output_type": "execute_result"
    }
   ],
   "source": [
    "rfcu.fit(xu_train, yu_train)"
   ]
  },
  {
   "cell_type": "code",
   "execution_count": 81,
   "id": "67282950",
   "metadata": {},
   "outputs": [],
   "source": [
    "rfcu_preds = rfcu.predict(xu_test)"
   ]
  },
  {
   "cell_type": "code",
   "execution_count": 82,
   "id": "5b1bf0af",
   "metadata": {},
   "outputs": [
    {
     "name": "stdout",
     "output_type": "stream",
     "text": [
      "0.889054355919583\n",
      "<sklearn.metrics._plot.confusion_matrix.ConfusionMatrixDisplay object at 0x0000019B09D4A640>\n",
      "              precision    recall  f1-score   support\n",
      "\n",
      "    negative       0.87      0.85      0.86       908\n",
      "     neutral       0.89      0.87      0.88       919\n",
      "    positive       0.91      0.95      0.93       859\n",
      "\n",
      "    accuracy                           0.89      2686\n",
      "   macro avg       0.89      0.89      0.89      2686\n",
      "weighted avg       0.89      0.89      0.89      2686\n",
      "\n"
     ]
    },
    {
     "data": {
      "image/png": "[encoded data removed]",
      "text/plain": [
       "<Figure size 432x288 with 2 Axes>"
      ]
     },
     "metadata": {
      "needs_background": "light"
     },
     "output_type": "display_data"
    }
   ],
   "source": [
    "rfcu_score = accuracy_score(yu_test, rfcu_preds)\n",
    "print(rfcu_score)\n",
    "rfcu_matrix = plot_confusion_matrix(rfcu, xu_test, yu_test)\n",
    "print(rfcu_matrix)\n",
    "rfcu_report = classification_report(yu_test, rfcu_preds)\n",
    "print(rfcu_report)"
   ]
  },
  {
   "cell_type": "markdown",
   "id": "c0be28a6",
   "metadata": {},
   "source": [
    "### Naive Bayes "
   ]
  },
  {
   "cell_type": "code",
   "execution_count": 83,
   "id": "033158b9",
   "metadata": {},
   "outputs": [],
   "source": [
    "nbu = MultinomialNB()"
   ]
  },
  {
   "cell_type": "code",
   "execution_count": 84,
   "id": "ea06a375",
   "metadata": {},
   "outputs": [
    {
     "data": {
      "text/plain": [
       "MultinomialNB()"
      ]
     },
     "execution_count": 84,
     "metadata": {},
     "output_type": "execute_result"
    }
   ],
   "source": [
    "nbu.fit(xu_train, yu_train)"
   ]
  },
  {
   "cell_type": "code",
   "execution_count": 85,
   "id": "1e9c6826",
   "metadata": {},
   "outputs": [],
   "source": [
    "nbu_preds = nbu.predict(xu_test)"
   ]
  },
  {
   "cell_type": "code",
   "execution_count": 86,
   "id": "806978fd",
   "metadata": {},
   "outputs": [
    {
     "name": "stdout",
     "output_type": "stream",
     "text": [
      "0.8384214445271779\n",
      "<sklearn.metrics._plot.confusion_matrix.ConfusionMatrixDisplay object at 0x0000019B09D4A340>\n",
      "              precision    recall  f1-score   support\n",
      "\n",
      "    negative       0.86      0.77      0.81       908\n",
      "     neutral       0.83      0.79      0.81       919\n",
      "    positive       0.83      0.96      0.89       859\n",
      "\n",
      "    accuracy                           0.84      2686\n",
      "   macro avg       0.84      0.84      0.84      2686\n",
      "weighted avg       0.84      0.84      0.84      2686\n",
      "\n"
     ]
    },
    {
     "data": {
      "image/png": "[encoded data removed]",
      "text/plain": [
       "<Figure size 432x288 with 2 Axes>"
      ]
     },
     "metadata": {
      "needs_background": "light"
     },
     "output_type": "display_data"
    }
   ],
   "source": [
    "nbu_score = accuracy_score(yu_test, nbu_preds)\n",
    "print(nbu_score)\n",
    "nbu_matrix = plot_confusion_matrix(nbu, xu_test, yu_test)\n",
    "print(nbu_matrix)\n",
    "nbu_report = classification_report(yu_test, nbu_preds)\n",
    "print(nbu_report)"
   ]
  },
  {
   "cell_type": "markdown",
   "id": "bcaf17d0",
   "metadata": {},
   "source": [
    "### Decision Tree"
   ]
  },
  {
   "cell_type": "code",
   "execution_count": 87,
   "id": "a90530c5",
   "metadata": {},
   "outputs": [],
   "source": [
    "dtu = DecisionTreeClassifier(max_depth=7)"
   ]
  },
  {
   "cell_type": "code",
   "execution_count": 88,
   "id": "ff3a70c1",
   "metadata": {},
   "outputs": [
    {
     "data": {
      "text/plain": [
       "DecisionTreeClassifier(max_depth=7)"
      ]
     },
     "execution_count": 88,
     "metadata": {},
     "output_type": "execute_result"
    }
   ],
   "source": [
    "dtu.fit(xu_train, yu_train)"
   ]
  },
  {
   "cell_type": "code",
   "execution_count": 89,
   "id": "b7238681",
   "metadata": {},
   "outputs": [],
   "source": [
    "dtu_preds = dtu.predict(xu_test)"
   ]
  },
  {
   "cell_type": "code",
   "execution_count": 90,
   "id": "6d5a37f1",
   "metadata": {},
   "outputs": [
    {
     "name": "stdout",
     "output_type": "stream",
     "text": [
      "0.6317944899478779\n",
      "<sklearn.metrics._plot.confusion_matrix.ConfusionMatrixDisplay object at 0x0000019B150B7F70>\n",
      "              precision    recall  f1-score   support\n",
      "\n",
      "    negative       0.90      0.28      0.43       908\n",
      "     neutral       0.50      0.87      0.63       919\n",
      "    positive       0.81      0.75      0.78       859\n",
      "\n",
      "    accuracy                           0.63      2686\n",
      "   macro avg       0.74      0.63      0.61      2686\n",
      "weighted avg       0.73      0.63      0.61      2686\n",
      "\n"
     ]
    },
    {
     "data": {
      "image/png": "[encoded data removed]",
      "text/plain": [
       "<Figure size 432x288 with 2 Axes>"
      ]
     },
     "metadata": {
      "needs_background": "light"
     },
     "output_type": "display_data"
    }
   ],
   "source": [
    "dtu_score = accuracy_score(yu_test, dtu_preds)\n",
    "print(dtu_score)\n",
    "dtu_matrix = plot_confusion_matrix(dtu, xu_test, yu_test)\n",
    "print(dtu_matrix)\n",
    "dtu_report = classification_report(yu_test, dtu_preds)\n",
    "print(dtu_report)"
   ]
  },
  {
   "cell_type": "markdown",
   "id": "edfda4a3",
   "metadata": {},
   "source": [
    "### KNN Classifier "
   ]
  },
  {
   "cell_type": "code",
   "execution_count": 91,
   "id": "f4487be5",
   "metadata": {},
   "outputs": [],
   "source": [
    "knnu = KNeighborsClassifier(n_neighbors=5, leaf_size=5, p=2)"
   ]
  },
  {
   "cell_type": "code",
   "execution_count": 92,
   "id": "35af396d",
   "metadata": {},
   "outputs": [
    {
     "data": {
      "text/plain": [
       "KNeighborsClassifier(leaf_size=5)"
      ]
     },
     "execution_count": 92,
     "metadata": {},
     "output_type": "execute_result"
    }
   ],
   "source": [
    "knnu.fit(xu_train, yu_train)"
   ]
  },
  {
   "cell_type": "code",
   "execution_count": 93,
   "id": "6037ddae",
   "metadata": {},
   "outputs": [],
   "source": [
    "knnu_preds = knnu.predict(xu_test)"
   ]
  },
  {
   "cell_type": "code",
   "execution_count": 94,
   "id": "eff62a1e",
   "metadata": {},
   "outputs": [
    {
     "name": "stdout",
     "output_type": "stream",
     "text": [
      "0.6094564408041697\n",
      "<sklearn.metrics._plot.confusion_matrix.ConfusionMatrixDisplay object at 0x0000019B1520BE20>\n",
      "              precision    recall  f1-score   support\n",
      "\n",
      "    negative       0.44      0.08      0.13       908\n",
      "     neutral       0.72      0.81      0.76       919\n",
      "    positive       0.55      0.95      0.70       859\n",
      "\n",
      "    accuracy                           0.61      2686\n",
      "   macro avg       0.57      0.61      0.53      2686\n",
      "weighted avg       0.57      0.61      0.53      2686\n",
      "\n"
     ]
    },
    {
     "data": {
      "image/png": "[encoded data removed]",
      "text/plain": [
       "<Figure size 432x288 with 2 Axes>"
      ]
     },
     "metadata": {
      "needs_background": "light"
     },
     "output_type": "display_data"
    }
   ],
   "source": [
    "knnu_score = accuracy_score(yu_test, knnu_preds)\n",
    "print(knnu_score)\n",
    "knnu_matrix = plot_confusion_matrix(knnu, xu_test, yu_test)\n",
    "print(knnu_matrix)\n",
    "knnu_report = classification_report(yu_test, knnu_preds)\n",
    "print(knnu_report)"
   ]
  },
  {
   "cell_type": "markdown",
   "id": "25cbe070",
   "metadata": {},
   "source": [
    "### SVC"
   ]
  },
  {
   "cell_type": "code",
   "execution_count": 95,
   "id": "f5bfe51a",
   "metadata": {},
   "outputs": [],
   "source": [
    "svcu = SVC(kernel ='poly', degree=2, gamma = 'scale', shrinking = True)"
   ]
  },
  {
   "cell_type": "code",
   "execution_count": 96,
   "id": "aa9c1f40",
   "metadata": {},
   "outputs": [
    {
     "data": {
      "text/plain": [
       "SVC(degree=2, kernel='poly')"
      ]
     },
     "execution_count": 96,
     "metadata": {},
     "output_type": "execute_result"
    }
   ],
   "source": [
    "svcu.fit(xu_train, yu_train)"
   ]
  },
  {
   "cell_type": "code",
   "execution_count": 97,
   "id": "03d12a78",
   "metadata": {},
   "outputs": [],
   "source": [
    "svcu_preds = svcu.predict(xu_test)"
   ]
  },
  {
   "cell_type": "code",
   "execution_count": 98,
   "id": "9d534c62",
   "metadata": {},
   "outputs": [
    {
     "name": "stdout",
     "output_type": "stream",
     "text": [
      "0.9177215189873418\n",
      "<sklearn.metrics._plot.confusion_matrix.ConfusionMatrixDisplay object at 0x0000019B152BCD90>\n",
      "              precision    recall  f1-score   support\n",
      "\n",
      "    negative       0.96      0.89      0.92       908\n",
      "     neutral       0.85      0.94      0.89       919\n",
      "    positive       0.95      0.93      0.94       859\n",
      "\n",
      "    accuracy                           0.92      2686\n",
      "   macro avg       0.92      0.92      0.92      2686\n",
      "weighted avg       0.92      0.92      0.92      2686\n",
      "\n"
     ]
    },
    {
     "data": {
      "image/png": "[encoded data removed]",
      "text/plain": [
       "<Figure size 432x288 with 2 Axes>"
      ]
     },
     "metadata": {
      "needs_background": "light"
     },
     "output_type": "display_data"
    }
   ],
   "source": [
    "svcu_score = accuracy_score(yu_test, svcu_preds)\n",
    "print(svcu_score)\n",
    "svcu_matrix = plot_confusion_matrix(svcu, xu_test, yu_test)\n",
    "print(svcu_matrix)\n",
    "svcu_report = classification_report(yu_test, svcu_preds)\n",
    "print(svcu_report)"
   ]
  },
  {
   "cell_type": "markdown",
   "id": "260a421f",
   "metadata": {},
   "source": [
    "### Passive Aggressive Classifier"
   ]
  },
  {
   "cell_type": "code",
   "execution_count": 99,
   "id": "0141283a",
   "metadata": {},
   "outputs": [],
   "source": [
    "pacu = PassiveAggressiveClassifier(max_iter=7)"
   ]
  },
  {
   "cell_type": "code",
   "execution_count": 100,
   "id": "a43a5c71",
   "metadata": {},
   "outputs": [
    {
     "name": "stderr",
     "output_type": "stream",
     "text": [
      "C:\\Users\\Dell\\anaconda3\\lib\\site-packages\\sklearn\\linear_model\\_stochastic_gradient.py:574: ConvergenceWarning: Maximum number of iteration reached before convergence. Consider increasing max_iter to improve the fit.\n",
      "  warnings.warn(\"Maximum number of iteration reached before \"\n"
     ]
    },
    {
     "data": {
      "text/plain": [
       "PassiveAggressiveClassifier(max_iter=7)"
      ]
     },
     "execution_count": 100,
     "metadata": {},
     "output_type": "execute_result"
    }
   ],
   "source": [
    "pacu.fit(xu_train, yu_train)"
   ]
  },
  {
   "cell_type": "code",
   "execution_count": 101,
   "id": "ddd5d328",
   "metadata": {},
   "outputs": [],
   "source": [
    "pacu_preds = pacu.predict(xu_test)"
   ]
  },
  {
   "cell_type": "code",
   "execution_count": 102,
   "id": "e7c850e0",
   "metadata": {},
   "outputs": [
    {
     "name": "stdout",
     "output_type": "stream",
     "text": [
      "0.8864482501861504\n",
      "<sklearn.metrics._plot.confusion_matrix.ConfusionMatrixDisplay object at 0x0000019B182E0C10>\n",
      "              precision    recall  f1-score   support\n",
      "\n",
      "    negative       0.96      0.76      0.85       908\n",
      "     neutral       0.83      0.93      0.88       919\n",
      "    positive       0.89      0.97      0.93       859\n",
      "\n",
      "    accuracy                           0.89      2686\n",
      "   macro avg       0.89      0.89      0.89      2686\n",
      "weighted avg       0.89      0.89      0.88      2686\n",
      "\n"
     ]
    },
    {
     "data": {
      "image/png": "[encoded data removed]",
      "text/plain": [
       "<Figure size 432x288 with 2 Axes>"
      ]
     },
     "metadata": {
      "needs_background": "light"
     },
     "output_type": "display_data"
    }
   ],
   "source": [
    "pacu_score = accuracy_score(yu_test, pacu_preds)\n",
    "print(pacu_score)\n",
    "pacu_matrix = plot_confusion_matrix(pacu, xu_test, yu_test)\n",
    "print(pacu_matrix)\n",
    "pacu_report = classification_report(yu_test, pacu_preds)\n",
    "print(pacu_report)"
   ]
  },
  {
   "cell_type": "markdown",
   "id": "3a26d34a",
   "metadata": {},
   "source": [
    "### Logistic Regression Classifier CV"
   ]
  },
  {
   "cell_type": "code",
   "execution_count": 103,
   "id": "5db68bd5",
   "metadata": {},
   "outputs": [],
   "source": [
    "logu = LogisticRegressionCV()"
   ]
  },
  {
   "cell_type": "code",
   "execution_count": 104,
   "id": "af269da6",
   "metadata": {},
   "outputs": [
    {
     "name": "stderr",
     "output_type": "stream",
     "text": [
      "C:\\Users\\Dell\\anaconda3\\lib\\site-packages\\sklearn\\linear_model\\_logistic.py:763: ConvergenceWarning: lbfgs failed to converge (status=1):\n",
      "STOP: TOTAL NO. of ITERATIONS REACHED LIMIT.\n",
      "\n",
      "Increase the number of iterations (max_iter) or scale the data as shown in:\n",
      "    https://scikit-learn.org/stable/modules/preprocessing.html\n",
      "Please also refer to the documentation for alternative solver options:\n",
      "    https://scikit-learn.org/stable/modules/linear_model.html#logistic-regression\n",
      "  n_iter_i = _check_optimize_result(\n",
      "C:\\Users\\Dell\\anaconda3\\lib\\site-packages\\sklearn\\linear_model\\_logistic.py:763: ConvergenceWarning: lbfgs failed to converge (status=1):\n",
      "STOP: TOTAL NO. of ITERATIONS REACHED LIMIT.\n",
      "\n",
      "Increase the number of iterations (max_iter) or scale the data as shown in:\n",
      "    https://scikit-learn.org/stable/modules/preprocessing.html\n",
      "Please also refer to the documentation for alternative solver options:\n",
      "    https://scikit-learn.org/stable/modules/linear_model.html#logistic-regression\n",
      "  n_iter_i = _check_optimize_result(\n",
      "C:\\Users\\Dell\\anaconda3\\lib\\site-packages\\sklearn\\linear_model\\_logistic.py:763: ConvergenceWarning: lbfgs failed to converge (status=1):\n",
      "STOP: TOTAL NO. of ITERATIONS REACHED LIMIT.\n",
      "\n",
      "Increase the number of iterations (max_iter) or scale the data as shown in:\n",
      "    https://scikit-learn.org/stable/modules/preprocessing.html\n",
      "Please also refer to the documentation for alternative solver options:\n",
      "    https://scikit-learn.org/stable/modules/linear_model.html#logistic-regression\n",
      "  n_iter_i = _check_optimize_result(\n",
      "C:\\Users\\Dell\\anaconda3\\lib\\site-packages\\sklearn\\linear_model\\_logistic.py:763: ConvergenceWarning: lbfgs failed to converge (status=1):\n",
      "STOP: TOTAL NO. of ITERATIONS REACHED LIMIT.\n",
      "\n",
      "Increase the number of iterations (max_iter) or scale the data as shown in:\n",
      "    https://scikit-learn.org/stable/modules/preprocessing.html\n",
      "Please also refer to the documentation for alternative solver options:\n",
      "    https://scikit-learn.org/stable/modules/linear_model.html#logistic-regression\n",
      "  n_iter_i = _check_optimize_result(\n",
      "C:\\Users\\Dell\\anaconda3\\lib\\site-packages\\sklearn\\linear_model\\_logistic.py:763: ConvergenceWarning: lbfgs failed to converge (status=1):\n",
      "STOP: TOTAL NO. of ITERATIONS REACHED LIMIT.\n",
      "\n",
      "Increase the number of iterations (max_iter) or scale the data as shown in:\n",
      "    https://scikit-learn.org/stable/modules/preprocessing.html\n",
      "Please also refer to the documentation for alternative solver options:\n",
      "    https://scikit-learn.org/stable/modules/linear_model.html#logistic-regression\n",
      "  n_iter_i = _check_optimize_result(\n",
      "C:\\Users\\Dell\\anaconda3\\lib\\site-packages\\sklearn\\linear_model\\_logistic.py:763: ConvergenceWarning: lbfgs failed to converge (status=1):\n",
      "STOP: TOTAL NO. of ITERATIONS REACHED LIMIT.\n",
      "\n",
      "Increase the number of iterations (max_iter) or scale the data as shown in:\n",
      "    https://scikit-learn.org/stable/modules/preprocessing.html\n",
      "Please also refer to the documentation for alternative solver options:\n",
      "    https://scikit-learn.org/stable/modules/linear_model.html#logistic-regression\n",
      "  n_iter_i = _check_optimize_result(\n"
     ]
    },
    {
     "data": {
      "text/plain": [
       "LogisticRegressionCV()"
      ]
     },
     "execution_count": 104,
     "metadata": {},
     "output_type": "execute_result"
    }
   ],
   "source": [
    "logu.fit(xu_train, yu_train)"
   ]
  },
  {
   "cell_type": "code",
   "execution_count": 105,
   "id": "b7ef0955",
   "metadata": {},
   "outputs": [],
   "source": [
    "logu_preds = logu.predict(xu_test)"
   ]
  },
  {
   "cell_type": "code",
   "execution_count": 106,
   "id": "ce97ae2e",
   "metadata": {},
   "outputs": [
    {
     "name": "stdout",
     "output_type": "stream",
     "text": [
      "0.887192851824274\n",
      "<sklearn.metrics._plot.confusion_matrix.ConfusionMatrixDisplay object at 0x0000019B0AB98550>\n",
      "              precision    recall  f1-score   support\n",
      "\n",
      "    negative       0.95      0.76      0.84       908\n",
      "     neutral       0.84      0.93      0.88       919\n",
      "    positive       0.89      0.98      0.93       859\n",
      "\n",
      "    accuracy                           0.89      2686\n",
      "   macro avg       0.89      0.89      0.89      2686\n",
      "weighted avg       0.89      0.89      0.89      2686\n",
      "\n"
     ]
    },
    {
     "data": {
      "image/png": "[encoded data removed]",
      "text/plain": [
       "<Figure size 432x288 with 2 Axes>"
      ]
     },
     "metadata": {
      "needs_background": "light"
     },
     "output_type": "display_data"
    }
   ],
   "source": [
    "logu_score = accuracy_score(yu_test, logu_preds)\n",
    "print(logu_score)\n",
    "logu_matrix = plot_confusion_matrix(logu, xu_test, yu_test)\n",
    "print(logu_matrix)\n",
    "logu_report = classification_report(yu_test, logu_preds)\n",
    "print(logu_report)"
   ]
  },
  {
   "cell_type": "markdown",
   "id": "a93b6665",
   "metadata": {},
   "source": [
    "# Southwest"
   ]
  },
  {
   "cell_type": "markdown",
   "id": "8fbd9b2b",
   "metadata": {},
   "source": [
    "### Tfidf vectorization & splitting into train test"
   ]
  },
  {
   "cell_type": "code",
   "execution_count": 107,
   "id": "76e97cc3",
   "metadata": {},
   "outputs": [],
   "source": [
    "xs = southwest['text']"
   ]
  },
  {
   "cell_type": "code",
   "execution_count": 108,
   "id": "42eddf2a",
   "metadata": {},
   "outputs": [],
   "source": [
    "ys = southwest['airline_sentiment']"
   ]
  },
  {
   "cell_type": "code",
   "execution_count": 109,
   "id": "f98e482d",
   "metadata": {},
   "outputs": [],
   "source": [
    "xs = tf.fit_transform(xs)"
   ]
  },
  {
   "cell_type": "code",
   "execution_count": 110,
   "id": "0ba3fcfa",
   "metadata": {},
   "outputs": [],
   "source": [
    "xs, ys = smc.fit_sample(xs,ys)"
   ]
  },
  {
   "cell_type": "code",
   "execution_count": 111,
   "id": "68d3c3e4",
   "metadata": {},
   "outputs": [
    {
     "data": {
      "text/plain": [
       "<3534x3892 sparse matrix of type '<class 'numpy.float64'>'\n",
       "\twith 36461 stored elements in Compressed Sparse Row format>"
      ]
     },
     "execution_count": 111,
     "metadata": {},
     "output_type": "execute_result"
    }
   ],
   "source": [
    "xs"
   ]
  },
  {
   "cell_type": "code",
   "execution_count": 112,
   "id": "937d84cf",
   "metadata": {},
   "outputs": [],
   "source": [
    "xs_train, xs_test, ys_train, ys_test = train_test_split(xs, ys, test_size=0.34, random_state=101)"
   ]
  },
  {
   "cell_type": "code",
   "execution_count": 113,
   "id": "f49145b3",
   "metadata": {},
   "outputs": [
    {
     "data": {
      "text/plain": [
       "<2332x3892 sparse matrix of type '<class 'numpy.float64'>'\n",
       "\twith 23934 stored elements in Compressed Sparse Row format>"
      ]
     },
     "execution_count": 113,
     "metadata": {},
     "output_type": "execute_result"
    }
   ],
   "source": [
    "xs_train"
   ]
  },
  {
   "cell_type": "markdown",
   "id": "caa40856",
   "metadata": {},
   "source": [
    "### ID3 "
   ]
  },
  {
   "cell_type": "code",
   "execution_count": 114,
   "id": "18c19fdf",
   "metadata": {},
   "outputs": [],
   "source": [
    "id3s = RandomForestClassifier(n_estimators=250, criterion='gini')"
   ]
  },
  {
   "cell_type": "code",
   "execution_count": 115,
   "id": "4d9473f8",
   "metadata": {},
   "outputs": [
    {
     "data": {
      "text/plain": [
       "RandomForestClassifier(n_estimators=250)"
      ]
     },
     "execution_count": 115,
     "metadata": {},
     "output_type": "execute_result"
    }
   ],
   "source": [
    "id3s.fit(xs_train, ys_train)"
   ]
  },
  {
   "cell_type": "code",
   "execution_count": 116,
   "id": "1b24fbda",
   "metadata": {},
   "outputs": [],
   "source": [
    "id3s_preds = id3s.predict(xs_test)"
   ]
  },
  {
   "cell_type": "code",
   "execution_count": 117,
   "id": "2b3b09eb",
   "metadata": {},
   "outputs": [
    {
     "name": "stdout",
     "output_type": "stream",
     "text": [
      "0.8161397670549085\n",
      "<sklearn.metrics._plot.confusion_matrix.ConfusionMatrixDisplay object at 0x0000019B1859F100>\n",
      "              precision    recall  f1-score   support\n",
      "\n",
      "    negative       0.76      0.85      0.80       396\n",
      "     neutral       0.78      0.75      0.77       384\n",
      "    positive       0.91      0.85      0.88       422\n",
      "\n",
      "    accuracy                           0.82      1202\n",
      "   macro avg       0.82      0.81      0.81      1202\n",
      "weighted avg       0.82      0.82      0.82      1202\n",
      "\n"
     ]
    },
    {
     "data": {
      "image/png": "[encoded data removed]",
      "text/plain": [
       "<Figure size 432x288 with 2 Axes>"
      ]
     },
     "metadata": {
      "needs_background": "light"
     },
     "output_type": "display_data"
    }
   ],
   "source": [
    "id3s_score = accuracy_score(ys_test, id3s_preds)\n",
    "print(id3s_score)\n",
    "id3s_matrix = plot_confusion_matrix(id3s, xs_test, ys_test)\n",
    "print(id3s_matrix)\n",
    "id3s_report = classification_report(ys_test, id3s_preds)\n",
    "print(id3s_report)"
   ]
  },
  {
   "cell_type": "markdown",
   "id": "e8e9c8ee",
   "metadata": {},
   "source": [
    "### Random Forest Classifier"
   ]
  },
  {
   "cell_type": "code",
   "execution_count": 118,
   "id": "5bb2b207",
   "metadata": {},
   "outputs": [],
   "source": [
    "rfcs = RandomForestClassifier(n_estimators=250, criterion='entropy')"
   ]
  },
  {
   "cell_type": "code",
   "execution_count": 119,
   "id": "e22826fa",
   "metadata": {},
   "outputs": [
    {
     "data": {
      "text/plain": [
       "RandomForestClassifier(criterion='entropy', n_estimators=250)"
      ]
     },
     "execution_count": 119,
     "metadata": {},
     "output_type": "execute_result"
    }
   ],
   "source": [
    "rfcs.fit(xs_train, ys_train)"
   ]
  },
  {
   "cell_type": "code",
   "execution_count": 120,
   "id": "ccf4ecbf",
   "metadata": {},
   "outputs": [],
   "source": [
    "rfcs_preds = rfcs.predict(xs_test)"
   ]
  },
  {
   "cell_type": "code",
   "execution_count": 121,
   "id": "8bee3407",
   "metadata": {},
   "outputs": [
    {
     "name": "stdout",
     "output_type": "stream",
     "text": [
      "0.8094841930116472\n",
      "<sklearn.metrics._plot.confusion_matrix.ConfusionMatrixDisplay object at 0x0000019B185BF970>\n",
      "              precision    recall  f1-score   support\n",
      "\n",
      "    negative       0.75      0.84      0.79       396\n",
      "     neutral       0.77      0.74      0.76       384\n",
      "    positive       0.91      0.84      0.88       422\n",
      "\n",
      "    accuracy                           0.81      1202\n",
      "   macro avg       0.81      0.81      0.81      1202\n",
      "weighted avg       0.81      0.81      0.81      1202\n",
      "\n"
     ]
    },
    {
     "data": {
      "image/png": "[encoded data removed]",
      "text/plain": [
       "<Figure size 432x288 with 2 Axes>"
      ]
     },
     "metadata": {
      "needs_background": "light"
     },
     "output_type": "display_data"
    }
   ],
   "source": [
    "rfcs_score = accuracy_score(ys_test, rfcs_preds)\n",
    "print(rfcs_score)\n",
    "rfcs_matrix = plot_confusion_matrix(rfcs, xs_test, ys_test)\n",
    "print(rfcs_matrix)\n",
    "rfcs_report = classification_report(ys_test, rfcs_preds)\n",
    "print(rfcs_report)"
   ]
  },
  {
   "cell_type": "markdown",
   "id": "512c5a65",
   "metadata": {},
   "source": [
    "### Naive Bayes"
   ]
  },
  {
   "cell_type": "code",
   "execution_count": 122,
   "id": "8722779d",
   "metadata": {},
   "outputs": [],
   "source": [
    "nbs = MultinomialNB()"
   ]
  },
  {
   "cell_type": "code",
   "execution_count": 123,
   "id": "b149e1cb",
   "metadata": {},
   "outputs": [
    {
     "data": {
      "text/plain": [
       "MultinomialNB()"
      ]
     },
     "execution_count": 123,
     "metadata": {},
     "output_type": "execute_result"
    }
   ],
   "source": [
    "nbs.fit(xs_train, ys_train)"
   ]
  },
  {
   "cell_type": "code",
   "execution_count": 124,
   "id": "fce226e0",
   "metadata": {},
   "outputs": [],
   "source": [
    "nbs_preds = nbs.predict(xs_test)"
   ]
  },
  {
   "cell_type": "code",
   "execution_count": 125,
   "id": "b4fd77e7",
   "metadata": {},
   "outputs": [
    {
     "name": "stdout",
     "output_type": "stream",
     "text": [
      "0.8044925124792013\n",
      "<sklearn.metrics._plot.confusion_matrix.ConfusionMatrixDisplay object at 0x0000019B185BFDF0>\n",
      "              precision    recall  f1-score   support\n",
      "\n",
      "    negative       0.78      0.83      0.80       396\n",
      "     neutral       0.77      0.73      0.75       384\n",
      "    positive       0.86      0.85      0.85       422\n",
      "\n",
      "    accuracy                           0.80      1202\n",
      "   macro avg       0.80      0.80      0.80      1202\n",
      "weighted avg       0.80      0.80      0.80      1202\n",
      "\n"
     ]
    },
    {
     "data": {
      "image/png": "[encoded data removed]",
      "text/plain": [
       "<Figure size 432x288 with 2 Axes>"
      ]
     },
     "metadata": {
      "needs_background": "light"
     },
     "output_type": "display_data"
    }
   ],
   "source": [
    "nbs_score = accuracy_score(ys_test, nbs_preds)\n",
    "print(nbs_score)\n",
    "nbs_matrix = plot_confusion_matrix(nbs, xs_test, ys_test)\n",
    "print(nbs_matrix)\n",
    "nbs_report = classification_report(ys_test, nbs_preds)\n",
    "print(nbs_report)"
   ]
  },
  {
   "cell_type": "markdown",
   "id": "aa320319",
   "metadata": {},
   "source": [
    "### Decision Tree "
   ]
  },
  {
   "cell_type": "code",
   "execution_count": 126,
   "id": "f7168d88",
   "metadata": {},
   "outputs": [],
   "source": [
    "dts = DecisionTreeClassifier()"
   ]
  },
  {
   "cell_type": "code",
   "execution_count": 127,
   "id": "f00ec7a3",
   "metadata": {},
   "outputs": [
    {
     "data": {
      "text/plain": [
       "DecisionTreeClassifier()"
      ]
     },
     "execution_count": 127,
     "metadata": {},
     "output_type": "execute_result"
    }
   ],
   "source": [
    "dts.fit(xs_train, ys_train)"
   ]
  },
  {
   "cell_type": "code",
   "execution_count": 128,
   "id": "40cc865c",
   "metadata": {},
   "outputs": [],
   "source": [
    "dts_preds = dts.predict(xs_test)"
   ]
  },
  {
   "cell_type": "code",
   "execution_count": 129,
   "id": "09a65c92",
   "metadata": {},
   "outputs": [
    {
     "name": "stdout",
     "output_type": "stream",
     "text": [
      "0.7287853577371048\n",
      "<sklearn.metrics._plot.confusion_matrix.ConfusionMatrixDisplay object at 0x0000019B186EEA60>\n",
      "              precision    recall  f1-score   support\n",
      "\n",
      "    negative       0.69      0.72      0.70       396\n",
      "     neutral       0.67      0.65      0.66       384\n",
      "    positive       0.82      0.81      0.81       422\n",
      "\n",
      "    accuracy                           0.73      1202\n",
      "   macro avg       0.73      0.73      0.73      1202\n",
      "weighted avg       0.73      0.73      0.73      1202\n",
      "\n"
     ]
    },
    {
     "data": {
      "image/png": "[encoded data removed]",
      "text/plain": [
       "<Figure size 432x288 with 2 Axes>"
      ]
     },
     "metadata": {
      "needs_background": "light"
     },
     "output_type": "display_data"
    }
   ],
   "source": [
    "dts_score = accuracy_score(ys_test, dts_preds)\n",
    "print(dts_score)\n",
    "dts_matrix = plot_confusion_matrix(dts, xs_test, ys_test)\n",
    "print(dts_matrix)\n",
    "dts_report = classification_report(ys_test, dts_preds)\n",
    "print(dts_report)"
   ]
  },
  {
   "cell_type": "markdown",
   "id": "9f7cd923",
   "metadata": {},
   "source": [
    "### KNN Classifier "
   ]
  },
  {
   "cell_type": "code",
   "execution_count": 130,
   "id": "fc4059cf",
   "metadata": {},
   "outputs": [],
   "source": [
    "knns = KNeighborsClassifier(n_neighbors=5, leaf_size=5, p=2)"
   ]
  },
  {
   "cell_type": "code",
   "execution_count": 131,
   "id": "358368fd",
   "metadata": {},
   "outputs": [
    {
     "data": {
      "text/plain": [
       "KNeighborsClassifier(leaf_size=5)"
      ]
     },
     "execution_count": 131,
     "metadata": {},
     "output_type": "execute_result"
    }
   ],
   "source": [
    "knns.fit(xs_train, ys_train)"
   ]
  },
  {
   "cell_type": "code",
   "execution_count": 132,
   "id": "a05e1f4b",
   "metadata": {},
   "outputs": [],
   "source": [
    "knns_preds = knns.predict(xs_test)"
   ]
  },
  {
   "cell_type": "code",
   "execution_count": 133,
   "id": "b92c01cf",
   "metadata": {},
   "outputs": [
    {
     "name": "stdout",
     "output_type": "stream",
     "text": [
      "0.608153078202995\n",
      "<sklearn.metrics._plot.confusion_matrix.ConfusionMatrixDisplay object at 0x0000019B185A7DF0>\n",
      "              precision    recall  f1-score   support\n",
      "\n",
      "    negative       0.94      0.12      0.22       396\n",
      "     neutral       0.51      0.82      0.63       384\n",
      "    positive       0.68      0.87      0.77       422\n",
      "\n",
      "    accuracy                           0.61      1202\n",
      "   macro avg       0.71      0.60      0.54      1202\n",
      "weighted avg       0.71      0.61      0.54      1202\n",
      "\n"
     ]
    },
    {
     "data": {
      "image/png": "[encoded data removed]",
      "text/plain": [
       "<Figure size 432x288 with 2 Axes>"
      ]
     },
     "metadata": {
      "needs_background": "light"
     },
     "output_type": "display_data"
    }
   ],
   "source": [
    "knns_score = accuracy_score(ys_test, knns_preds)\n",
    "print(knns_score)\n",
    "knns_matrix = plot_confusion_matrix(knns, xs_test, ys_test)\n",
    "print(knns_matrix)\n",
    "knns_report = classification_report(ys_test, knns_preds)\n",
    "print(knns_report)"
   ]
  },
  {
   "cell_type": "markdown",
   "id": "4d02a248",
   "metadata": {},
   "source": [
    "### SVC"
   ]
  },
  {
   "cell_type": "code",
   "execution_count": 134,
   "id": "2207c57d",
   "metadata": {},
   "outputs": [],
   "source": [
    "svcs = SVC(kernel ='poly',degree=2,gamma = 'scale', shrinking = True)"
   ]
  },
  {
   "cell_type": "code",
   "execution_count": 135,
   "id": "07695609",
   "metadata": {},
   "outputs": [
    {
     "data": {
      "text/plain": [
       "SVC(degree=2, kernel='poly')"
      ]
     },
     "execution_count": 135,
     "metadata": {},
     "output_type": "execute_result"
    }
   ],
   "source": [
    "svcs.fit(xs_train, ys_train)"
   ]
  },
  {
   "cell_type": "code",
   "execution_count": 136,
   "id": "90c3ffbc",
   "metadata": {},
   "outputs": [],
   "source": [
    "svcs_preds = svcs.predict(xs_test)"
   ]
  },
  {
   "cell_type": "code",
   "execution_count": 137,
   "id": "e555f3f9",
   "metadata": {},
   "outputs": [
    {
     "name": "stdout",
     "output_type": "stream",
     "text": [
      "0.8519134775374376\n",
      "<sklearn.metrics._plot.confusion_matrix.ConfusionMatrixDisplay object at 0x0000019B18837DF0>\n",
      "              precision    recall  f1-score   support\n",
      "\n",
      "    negative       0.78      0.91      0.84       396\n",
      "     neutral       0.84      0.82      0.83       384\n",
      "    positive       0.96      0.83      0.89       422\n",
      "\n",
      "    accuracy                           0.85      1202\n",
      "   macro avg       0.86      0.85      0.85      1202\n",
      "weighted avg       0.86      0.85      0.85      1202\n",
      "\n"
     ]
    },
    {
     "data": {
      "image/png": "[encoded data removed]",
      "text/plain": [
       "<Figure size 432x288 with 2 Axes>"
      ]
     },
     "metadata": {
      "needs_background": "light"
     },
     "output_type": "display_data"
    }
   ],
   "source": [
    "svcs_score = accuracy_score(ys_test, svcs_preds)\n",
    "print(svcs_score)\n",
    "svcs_matrix = plot_confusion_matrix(svcs, xs_test, ys_test)\n",
    "print(svcs_matrix)\n",
    "svcs_report = classification_report(ys_test, svcs_preds)\n",
    "print(svcs_report)"
   ]
  },
  {
   "cell_type": "markdown",
   "id": "4700f1a5",
   "metadata": {},
   "source": [
    "### Passive Aggressive Classifier"
   ]
  },
  {
   "cell_type": "code",
   "execution_count": 138,
   "id": "57c38682",
   "metadata": {},
   "outputs": [],
   "source": [
    "pacs = PassiveAggressiveClassifier(max_iter=7)"
   ]
  },
  {
   "cell_type": "code",
   "execution_count": 139,
   "id": "35a47b79",
   "metadata": {},
   "outputs": [
    {
     "name": "stderr",
     "output_type": "stream",
     "text": [
      "C:\\Users\\Dell\\anaconda3\\lib\\site-packages\\sklearn\\linear_model\\_stochastic_gradient.py:574: ConvergenceWarning: Maximum number of iteration reached before convergence. Consider increasing max_iter to improve the fit.\n",
      "  warnings.warn(\"Maximum number of iteration reached before \"\n"
     ]
    },
    {
     "data": {
      "text/plain": [
       "PassiveAggressiveClassifier(max_iter=7)"
      ]
     },
     "execution_count": 139,
     "metadata": {},
     "output_type": "execute_result"
    }
   ],
   "source": [
    "pacs.fit(xs_train, ys_train)"
   ]
  },
  {
   "cell_type": "code",
   "execution_count": 140,
   "id": "b9a3f61b",
   "metadata": {},
   "outputs": [],
   "source": [
    "pacs_preds = pacs.predict(xs_test)"
   ]
  },
  {
   "cell_type": "code",
   "execution_count": 141,
   "id": "c2a251e0",
   "metadata": {},
   "outputs": [
    {
     "name": "stdout",
     "output_type": "stream",
     "text": [
      "0.8336106489184693\n",
      "<sklearn.metrics._plot.confusion_matrix.ConfusionMatrixDisplay object at 0x0000019B18837A00>\n",
      "              precision    recall  f1-score   support\n",
      "\n",
      "    negative       0.85      0.79      0.82       396\n",
      "     neutral       0.76      0.84      0.79       384\n",
      "    positive       0.90      0.87      0.89       422\n",
      "\n",
      "    accuracy                           0.83      1202\n",
      "   macro avg       0.84      0.83      0.83      1202\n",
      "weighted avg       0.84      0.83      0.83      1202\n",
      "\n"
     ]
    },
    {
     "data": {
      "image/png": "[encoded data removed]",
      "text/plain": [
       "<Figure size 432x288 with 2 Axes>"
      ]
     },
     "metadata": {
      "needs_background": "light"
     },
     "output_type": "display_data"
    }
   ],
   "source": [
    "pacs_score = accuracy_score(ys_test, pacs_preds)\n",
    "print(pacs_score)\n",
    "pacs_matrix = plot_confusion_matrix(pacs, xs_test, ys_test)\n",
    "print(pacs_matrix)\n",
    "pacs_report = classification_report(ys_test, pacs_preds)\n",
    "print(pacs_report)"
   ]
  },
  {
   "cell_type": "markdown",
   "id": "08851e23",
   "metadata": {},
   "source": [
    "### Logistic Regression Classifier CV"
   ]
  },
  {
   "cell_type": "code",
   "execution_count": 142,
   "id": "2267271c",
   "metadata": {},
   "outputs": [],
   "source": [
    "logs = LogisticRegressionCV()"
   ]
  },
  {
   "cell_type": "code",
   "execution_count": 143,
   "id": "d45a43f7",
   "metadata": {},
   "outputs": [
    {
     "name": "stderr",
     "output_type": "stream",
     "text": [
      "C:\\Users\\Dell\\anaconda3\\lib\\site-packages\\sklearn\\linear_model\\_logistic.py:763: ConvergenceWarning: lbfgs failed to converge (status=1):\n",
      "STOP: TOTAL NO. of ITERATIONS REACHED LIMIT.\n",
      "\n",
      "Increase the number of iterations (max_iter) or scale the data as shown in:\n",
      "    https://scikit-learn.org/stable/modules/preprocessing.html\n",
      "Please also refer to the documentation for alternative solver options:\n",
      "    https://scikit-learn.org/stable/modules/linear_model.html#logistic-regression\n",
      "  n_iter_i = _check_optimize_result(\n",
      "C:\\Users\\Dell\\anaconda3\\lib\\site-packages\\sklearn\\linear_model\\_logistic.py:763: ConvergenceWarning: lbfgs failed to converge (status=1):\n",
      "STOP: TOTAL NO. of ITERATIONS REACHED LIMIT.\n",
      "\n",
      "Increase the number of iterations (max_iter) or scale the data as shown in:\n",
      "    https://scikit-learn.org/stable/modules/preprocessing.html\n",
      "Please also refer to the documentation for alternative solver options:\n",
      "    https://scikit-learn.org/stable/modules/linear_model.html#logistic-regression\n",
      "  n_iter_i = _check_optimize_result(\n",
      "C:\\Users\\Dell\\anaconda3\\lib\\site-packages\\sklearn\\linear_model\\_logistic.py:763: ConvergenceWarning: lbfgs failed to converge (status=1):\n",
      "STOP: TOTAL NO. of ITERATIONS REACHED LIMIT.\n",
      "\n",
      "Increase the number of iterations (max_iter) or scale the data as shown in:\n",
      "    https://scikit-learn.org/stable/modules/preprocessing.html\n",
      "Please also refer to the documentation for alternative solver options:\n",
      "    https://scikit-learn.org/stable/modules/linear_model.html#logistic-regression\n",
      "  n_iter_i = _check_optimize_result(\n",
      "C:\\Users\\Dell\\anaconda3\\lib\\site-packages\\sklearn\\linear_model\\_logistic.py:763: ConvergenceWarning: lbfgs failed to converge (status=1):\n",
      "STOP: TOTAL NO. of ITERATIONS REACHED LIMIT.\n",
      "\n",
      "Increase the number of iterations (max_iter) or scale the data as shown in:\n",
      "    https://scikit-learn.org/stable/modules/preprocessing.html\n",
      "Please also refer to the documentation for alternative solver options:\n",
      "    https://scikit-learn.org/stable/modules/linear_model.html#logistic-regression\n",
      "  n_iter_i = _check_optimize_result(\n",
      "C:\\Users\\Dell\\anaconda3\\lib\\site-packages\\sklearn\\linear_model\\_logistic.py:763: ConvergenceWarning: lbfgs failed to converge (status=1):\n",
      "STOP: TOTAL NO. of ITERATIONS REACHED LIMIT.\n",
      "\n",
      "Increase the number of iterations (max_iter) or scale the data as shown in:\n",
      "    https://scikit-learn.org/stable/modules/preprocessing.html\n",
      "Please also refer to the documentation for alternative solver options:\n",
      "    https://scikit-learn.org/stable/modules/linear_model.html#logistic-regression\n",
      "  n_iter_i = _check_optimize_result(\n"
     ]
    },
    {
     "data": {
      "text/plain": [
       "LogisticRegressionCV()"
      ]
     },
     "execution_count": 143,
     "metadata": {},
     "output_type": "execute_result"
    }
   ],
   "source": [
    "logs.fit(xs_train, ys_train)"
   ]
  },
  {
   "cell_type": "code",
   "execution_count": 144,
   "id": "98c35500",
   "metadata": {},
   "outputs": [],
   "source": [
    "logs_preds = logs.predict(xs_test)"
   ]
  },
  {
   "cell_type": "code",
   "execution_count": 145,
   "id": "7a1f074d",
   "metadata": {},
   "outputs": [
    {
     "name": "stdout",
     "output_type": "stream",
     "text": [
      "0.8194675540765392\n",
      "<sklearn.metrics._plot.confusion_matrix.ConfusionMatrixDisplay object at 0x0000019B186FFB20>\n",
      "              precision    recall  f1-score   support\n",
      "\n",
      "    negative       0.80      0.82      0.81       396\n",
      "     neutral       0.76      0.78      0.77       384\n",
      "    positive       0.90      0.85      0.87       422\n",
      "\n",
      "    accuracy                           0.82      1202\n",
      "   macro avg       0.82      0.82      0.82      1202\n",
      "weighted avg       0.82      0.82      0.82      1202\n",
      "\n"
     ]
    },
    {
     "data": {
      "image/png": "[encoded data removed]",
      "text/plain": [
       "<Figure size 432x288 with 2 Axes>"
      ]
     },
     "metadata": {
      "needs_background": "light"
     },
     "output_type": "display_data"
    }
   ],
   "source": [
    "logs_score = accuracy_score(ys_test, logs_preds)\n",
    "print(logs_score)\n",
    "logs_matrix = plot_confusion_matrix(logs, xs_test, ys_test)\n",
    "print(logs_matrix)\n",
    "logs_report = classification_report(ys_test, logs_preds)\n",
    "print(logs_report)"
   ]
  },
  {
   "cell_type": "markdown",
   "id": "fff5b35b",
   "metadata": {},
   "source": [
    "# Delta"
   ]
  },
  {
   "cell_type": "markdown",
   "id": "34ede0f9",
   "metadata": {},
   "source": [
    "### Tfidf vectorization & splitting into train test"
   ]
  },
  {
   "cell_type": "code",
   "execution_count": 146,
   "id": "7d862af2",
   "metadata": {},
   "outputs": [],
   "source": [
    "xd = delta['text']"
   ]
  },
  {
   "cell_type": "code",
   "execution_count": 147,
   "id": "49529f6c",
   "metadata": {},
   "outputs": [],
   "source": [
    "yd = delta['airline_sentiment']"
   ]
  },
  {
   "cell_type": "code",
   "execution_count": 148,
   "id": "b6bdfca9",
   "metadata": {},
   "outputs": [],
   "source": [
    "xd = tf.fit_transform(xd)"
   ]
  },
  {
   "cell_type": "code",
   "execution_count": 149,
   "id": "94d32ebf",
   "metadata": {},
   "outputs": [],
   "source": [
    "xd, yd = smc.fit_sample(xd,yd)"
   ]
  },
  {
   "cell_type": "code",
   "execution_count": 150,
   "id": "741c62c4",
   "metadata": {},
   "outputs": [
    {
     "data": {
      "text/plain": [
       "<2805x3980 sparse matrix of type '<class 'numpy.float64'>'\n",
       "\twith 27028 stored elements in Compressed Sparse Row format>"
      ]
     },
     "execution_count": 150,
     "metadata": {},
     "output_type": "execute_result"
    }
   ],
   "source": [
    "xd"
   ]
  },
  {
   "cell_type": "code",
   "execution_count": 151,
   "id": "bae5bce3",
   "metadata": {},
   "outputs": [],
   "source": [
    "xd_train, xd_test, yd_train, yd_test = train_test_split(xd, yd, test_size=0.34, random_state=101)"
   ]
  },
  {
   "cell_type": "code",
   "execution_count": 152,
   "id": "b441c4c9",
   "metadata": {},
   "outputs": [
    {
     "data": {
      "text/plain": [
       "<1851x3980 sparse matrix of type '<class 'numpy.float64'>'\n",
       "\twith 17938 stored elements in Compressed Sparse Row format>"
      ]
     },
     "execution_count": 152,
     "metadata": {},
     "output_type": "execute_result"
    }
   ],
   "source": [
    "xd_train"
   ]
  },
  {
   "cell_type": "markdown",
   "id": "33401c23",
   "metadata": {},
   "source": [
    "### ID3 "
   ]
  },
  {
   "cell_type": "code",
   "execution_count": 153,
   "id": "a70f3e80",
   "metadata": {},
   "outputs": [],
   "source": [
    "id3d = RandomForestClassifier(n_estimators=250, criterion='entropy')"
   ]
  },
  {
   "cell_type": "code",
   "execution_count": 154,
   "id": "f2668fd9",
   "metadata": {},
   "outputs": [
    {
     "data": {
      "text/plain": [
       "RandomForestClassifier(criterion='entropy', n_estimators=250)"
      ]
     },
     "execution_count": 154,
     "metadata": {},
     "output_type": "execute_result"
    }
   ],
   "source": [
    "id3d.fit(xd_train, yd_train)"
   ]
  },
  {
   "cell_type": "code",
   "execution_count": 155,
   "id": "aa18eaf3",
   "metadata": {},
   "outputs": [],
   "source": [
    "id3d_preds = id3d.predict(xd_test)"
   ]
  },
  {
   "cell_type": "code",
   "execution_count": 156,
   "id": "e6c9bc2a",
   "metadata": {},
   "outputs": [
    {
     "name": "stdout",
     "output_type": "stream",
     "text": [
      "0.7515723270440252\n",
      "<sklearn.metrics._plot.confusion_matrix.ConfusionMatrixDisplay object at 0x0000019B18568040>\n",
      "              precision    recall  f1-score   support\n",
      "\n",
      "    negative       0.73      0.73      0.73       328\n",
      "     neutral       0.67      0.76      0.71       316\n",
      "    positive       0.87      0.77      0.82       310\n",
      "\n",
      "    accuracy                           0.75       954\n",
      "   macro avg       0.76      0.75      0.75       954\n",
      "weighted avg       0.76      0.75      0.75       954\n",
      "\n"
     ]
    },
    {
     "data": {
      "image/png": "[encoded data removed]",
      "text/plain": [
       "<Figure size 432x288 with 2 Axes>"
      ]
     },
     "metadata": {
      "needs_background": "light"
     },
     "output_type": "display_data"
    }
   ],
   "source": [
    "id3d_score = accuracy_score(yd_test, id3d_preds)\n",
    "print(id3d_score)\n",
    "id3d_matrix = plot_confusion_matrix(id3d, xd_test, yd_test)\n",
    "print(id3d_matrix)\n",
    "id3d_report = classification_report(yd_test, id3d_preds)\n",
    "print(id3d_report)"
   ]
  },
  {
   "cell_type": "markdown",
   "id": "8b2e7eb1",
   "metadata": {},
   "source": [
    "### Random Forest Classifier"
   ]
  },
  {
   "cell_type": "code",
   "execution_count": 157,
   "id": "e5692423",
   "metadata": {},
   "outputs": [],
   "source": [
    "rfcd = RandomForestClassifier(n_estimators=250, criterion='gini')"
   ]
  },
  {
   "cell_type": "code",
   "execution_count": 158,
   "id": "d383c687",
   "metadata": {},
   "outputs": [
    {
     "data": {
      "text/plain": [
       "RandomForestClassifier(n_estimators=250)"
      ]
     },
     "execution_count": 158,
     "metadata": {},
     "output_type": "execute_result"
    }
   ],
   "source": [
    "rfcd.fit(xd_train, yd_train)"
   ]
  },
  {
   "cell_type": "code",
   "execution_count": 159,
   "id": "a77a1636",
   "metadata": {},
   "outputs": [],
   "source": [
    "rfcd_preds = rfcd.predict(xd_test)"
   ]
  },
  {
   "cell_type": "code",
   "execution_count": 160,
   "id": "087f2dd0",
   "metadata": {},
   "outputs": [
    {
     "name": "stdout",
     "output_type": "stream",
     "text": [
      "0.7515723270440252\n",
      "<sklearn.metrics._plot.confusion_matrix.ConfusionMatrixDisplay object at 0x0000019B18B17BB0>\n",
      "              precision    recall  f1-score   support\n",
      "\n",
      "    negative       0.74      0.72      0.73       328\n",
      "     neutral       0.67      0.76      0.71       316\n",
      "    positive       0.87      0.78      0.82       310\n",
      "\n",
      "    accuracy                           0.75       954\n",
      "   macro avg       0.76      0.75      0.75       954\n",
      "weighted avg       0.76      0.75      0.75       954\n",
      "\n"
     ]
    },
    {
     "data": {
      "image/png": "[encoded data removed]",
      "text/plain": [
       "<Figure size 432x288 with 2 Axes>"
      ]
     },
     "metadata": {
      "needs_background": "light"
     },
     "output_type": "display_data"
    }
   ],
   "source": [
    "rfcd_score = accuracy_score(yd_test, rfcd_preds)\n",
    "print(rfcd_score)\n",
    "rfcd_matrix = plot_confusion_matrix(rfcd, xd_test, yd_test)\n",
    "print(rfcd_matrix)\n",
    "rfcd_report = classification_report(yd_test, rfcd_preds)\n",
    "print(rfcd_report)"
   ]
  },
  {
   "cell_type": "markdown",
   "id": "a29e5d24",
   "metadata": {},
   "source": [
    "### Naive Bayes "
   ]
  },
  {
   "cell_type": "code",
   "execution_count": 161,
   "id": "75cb60be",
   "metadata": {},
   "outputs": [],
   "source": [
    "nbd = MultinomialNB()"
   ]
  },
  {
   "cell_type": "code",
   "execution_count": 162,
   "id": "54db36da",
   "metadata": {},
   "outputs": [
    {
     "data": {
      "text/plain": [
       "MultinomialNB()"
      ]
     },
     "execution_count": 162,
     "metadata": {},
     "output_type": "execute_result"
    }
   ],
   "source": [
    "nbd.fit(xd_train, yd_train)"
   ]
  },
  {
   "cell_type": "code",
   "execution_count": 163,
   "id": "8e166dc8",
   "metadata": {},
   "outputs": [],
   "source": [
    "nbd_preds = nbd.predict(xd_test)"
   ]
  },
  {
   "cell_type": "code",
   "execution_count": 164,
   "id": "58fe85f3",
   "metadata": {},
   "outputs": [
    {
     "name": "stdout",
     "output_type": "stream",
     "text": [
      "0.7641509433962265\n",
      "<sklearn.metrics._plot.confusion_matrix.ConfusionMatrixDisplay object at 0x0000019B18B17340>\n",
      "              precision    recall  f1-score   support\n",
      "\n",
      "    negative       0.75      0.76      0.75       328\n",
      "     neutral       0.77      0.64      0.70       316\n",
      "    positive       0.77      0.90      0.83       310\n",
      "\n",
      "    accuracy                           0.76       954\n",
      "   macro avg       0.76      0.77      0.76       954\n",
      "weighted avg       0.76      0.76      0.76       954\n",
      "\n"
     ]
    },
    {
     "data": {
      "image/png": "[encoded data removed]",
      "text/plain": [
       "<Figure size 432x288 with 2 Axes>"
      ]
     },
     "metadata": {
      "needs_background": "light"
     },
     "output_type": "display_data"
    }
   ],
   "source": [
    "nbd_score = accuracy_score(yd_test, nbd_preds)\n",
    "print(nbd_score)\n",
    "nbd_matrix = plot_confusion_matrix(nbd, xd_test, yd_test)\n",
    "print(nbd_matrix)\n",
    "nbd_report = classification_report(yd_test, nbd_preds)\n",
    "print(nbd_report)"
   ]
  },
  {
   "cell_type": "markdown",
   "id": "fc342792",
   "metadata": {},
   "source": [
    "### Decision Tree "
   ]
  },
  {
   "cell_type": "code",
   "execution_count": 165,
   "id": "60609abe",
   "metadata": {},
   "outputs": [],
   "source": [
    "dtd = DecisionTreeClassifier()"
   ]
  },
  {
   "cell_type": "code",
   "execution_count": 166,
   "id": "d85fdf2b",
   "metadata": {},
   "outputs": [
    {
     "data": {
      "text/plain": [
       "DecisionTreeClassifier()"
      ]
     },
     "execution_count": 166,
     "metadata": {},
     "output_type": "execute_result"
    }
   ],
   "source": [
    "dtd.fit(xd_train, yd_train)"
   ]
  },
  {
   "cell_type": "code",
   "execution_count": 167,
   "id": "06606af7",
   "metadata": {},
   "outputs": [],
   "source": [
    "dtd_preds = dtd.predict(xd_test)"
   ]
  },
  {
   "cell_type": "code",
   "execution_count": 168,
   "id": "b15e2284",
   "metadata": {},
   "outputs": [
    {
     "name": "stdout",
     "output_type": "stream",
     "text": [
      "0.6593291404612159\n",
      "<sklearn.metrics._plot.confusion_matrix.ConfusionMatrixDisplay object at 0x0000019B18902E50>\n",
      "              precision    recall  f1-score   support\n",
      "\n",
      "    negative       0.65      0.60      0.63       328\n",
      "     neutral       0.60      0.67      0.63       316\n",
      "    positive       0.73      0.71      0.72       310\n",
      "\n",
      "    accuracy                           0.66       954\n",
      "   macro avg       0.66      0.66      0.66       954\n",
      "weighted avg       0.66      0.66      0.66       954\n",
      "\n"
     ]
    },
    {
     "data": {
      "image/png": "[encoded data removed]",
      "text/plain": [
       "<Figure size 432x288 with 2 Axes>"
      ]
     },
     "metadata": {
      "needs_background": "light"
     },
     "output_type": "display_data"
    }
   ],
   "source": [
    "dtd_score = accuracy_score(yd_test, dtd_preds)\n",
    "print(dtd_score)\n",
    "dtd_matrix = plot_confusion_matrix(dtd, xd_test, yd_test)\n",
    "print(dtd_matrix)\n",
    "dtd_report = classification_report(yd_test, dtd_preds)\n",
    "print(dtd_report)"
   ]
  },
  {
   "cell_type": "markdown",
   "id": "d9ca4346",
   "metadata": {},
   "source": [
    "### KNN Classifier "
   ]
  },
  {
   "cell_type": "code",
   "execution_count": 169,
   "id": "0193a2b2",
   "metadata": {},
   "outputs": [],
   "source": [
    "knnd = KNeighborsClassifier(n_neighbors=5, leaf_size=5, p=2)"
   ]
  },
  {
   "cell_type": "code",
   "execution_count": 170,
   "id": "b2928b96",
   "metadata": {},
   "outputs": [
    {
     "data": {
      "text/plain": [
       "KNeighborsClassifier(leaf_size=5)"
      ]
     },
     "execution_count": 170,
     "metadata": {},
     "output_type": "execute_result"
    }
   ],
   "source": [
    "knnd.fit(xd_train, yd_train)"
   ]
  },
  {
   "cell_type": "code",
   "execution_count": 171,
   "id": "d02d62ed",
   "metadata": {},
   "outputs": [],
   "source": [
    "knnd_preds = knnd.predict(xd_test)"
   ]
  },
  {
   "cell_type": "code",
   "execution_count": 172,
   "id": "df415dc1",
   "metadata": {},
   "outputs": [
    {
     "name": "stdout",
     "output_type": "stream",
     "text": [
      "0.5555555555555556\n",
      "<sklearn.metrics._plot.confusion_matrix.ConfusionMatrixDisplay object at 0x0000019B1F6E40A0>\n",
      "              precision    recall  f1-score   support\n",
      "\n",
      "    negative       0.76      0.09      0.17       328\n",
      "     neutral       0.50      0.69      0.58       316\n",
      "    positive       0.59      0.91      0.71       310\n",
      "\n",
      "    accuracy                           0.56       954\n",
      "   macro avg       0.61      0.56      0.49       954\n",
      "weighted avg       0.62      0.56      0.48       954\n",
      "\n"
     ]
    },
    {
     "data": {
      "image/png": "[encoded data removed]",
      "text/plain": [
       "<Figure size 432x288 with 2 Axes>"
      ]
     },
     "metadata": {
      "needs_background": "light"
     },
     "output_type": "display_data"
    }
   ],
   "source": [
    "knnd_score = accuracy_score(yd_test, knnd_preds)\n",
    "print(knnd_score)\n",
    "knnd_matrix = plot_confusion_matrix(knnd, xd_test, yd_test)\n",
    "print(knnd_matrix)\n",
    "knnd_report = classification_report(yd_test, knnd_preds)\n",
    "print(knnd_report)"
   ]
  },
  {
   "cell_type": "markdown",
   "id": "5a76667e",
   "metadata": {},
   "source": [
    "### SVC"
   ]
  },
  {
   "cell_type": "code",
   "execution_count": 173,
   "id": "6642ae98",
   "metadata": {},
   "outputs": [],
   "source": [
    "svcd = SVC(kernel ='poly',degree=2,gamma = 'scale', shrinking = True)"
   ]
  },
  {
   "cell_type": "code",
   "execution_count": 174,
   "id": "f2963673",
   "metadata": {},
   "outputs": [
    {
     "data": {
      "text/plain": [
       "SVC(degree=2, kernel='poly')"
      ]
     },
     "execution_count": 174,
     "metadata": {},
     "output_type": "execute_result"
    }
   ],
   "source": [
    "svcd.fit(xd_train, yd_train)"
   ]
  },
  {
   "cell_type": "code",
   "execution_count": 175,
   "id": "bc3db32c",
   "metadata": {},
   "outputs": [],
   "source": [
    "svcd_preds = svcd.predict(xd_test)"
   ]
  },
  {
   "cell_type": "code",
   "execution_count": 176,
   "id": "54ca105a",
   "metadata": {},
   "outputs": [
    {
     "name": "stdout",
     "output_type": "stream",
     "text": [
      "0.8144654088050315\n",
      "<sklearn.metrics._plot.confusion_matrix.ConfusionMatrixDisplay object at 0x0000019B1F77CBE0>\n",
      "              precision    recall  f1-score   support\n",
      "\n",
      "    negative       0.75      0.85      0.79       328\n",
      "     neutral       0.79      0.74      0.76       316\n",
      "    positive       0.94      0.85      0.89       310\n",
      "\n",
      "    accuracy                           0.81       954\n",
      "   macro avg       0.82      0.81      0.82       954\n",
      "weighted avg       0.82      0.81      0.82       954\n",
      "\n"
     ]
    },
    {
     "data": {
      "image/png": "[encoded data removed]",
      "text/plain": [
       "<Figure size 432x288 with 2 Axes>"
      ]
     },
     "metadata": {
      "needs_background": "light"
     },
     "output_type": "display_data"
    }
   ],
   "source": [
    "svcd_score = accuracy_score(yd_test, svcd_preds)\n",
    "print(svcd_score)\n",
    "svcd_matrix = plot_confusion_matrix(svcd, xd_test, yd_test)\n",
    "print(svcd_matrix)\n",
    "svcd_report = classification_report(yd_test, svcd_preds)\n",
    "print(svcd_report)"
   ]
  },
  {
   "cell_type": "code",
   "execution_count": null,
   "id": "41d88b74",
   "metadata": {},
   "outputs": [],
   "source": []
  },
  {
   "cell_type": "code",
   "execution_count": null,
   "id": "313166e2",
   "metadata": {},
   "outputs": [],
   "source": []
  },
  {
   "cell_type": "code",
   "execution_count": null,
   "id": "3055b30e",
   "metadata": {},
   "outputs": [],
   "source": []
  },
  {
   "cell_type": "markdown",
   "id": "0e1e44d0",
   "metadata": {},
   "source": [
    "# US Airways"
   ]
  },
  {
   "cell_type": "markdown",
   "id": "e69dbba6",
   "metadata": {},
   "source": [
    "### Tfidf vectorization & splitting into train test"
   ]
  },
  {
   "cell_type": "code",
   "execution_count": 177,
   "id": "ca4f5801",
   "metadata": {},
   "outputs": [],
   "source": [
    "xua = us_airways['text']"
   ]
  },
  {
   "cell_type": "code",
   "execution_count": 178,
   "id": "f0aad576",
   "metadata": {},
   "outputs": [],
   "source": [
    "yua = us_airways['airline_sentiment']"
   ]
  },
  {
   "cell_type": "code",
   "execution_count": 179,
   "id": "7085a18e",
   "metadata": {},
   "outputs": [],
   "source": [
    "xua = tf.fit_transform(xua)"
   ]
  },
  {
   "cell_type": "code",
   "execution_count": 180,
   "id": "b792dd5e",
   "metadata": {},
   "outputs": [],
   "source": [
    "xua, yua = smc.fit_sample(xua,yua)"
   ]
  },
  {
   "cell_type": "code",
   "execution_count": 181,
   "id": "dadd5b27",
   "metadata": {},
   "outputs": [
    {
     "data": {
      "text/plain": [
       "<6787x4116 sparse matrix of type '<class 'numpy.float64'>'\n",
       "\twith 78279 stored elements in Compressed Sparse Row format>"
      ]
     },
     "execution_count": 181,
     "metadata": {},
     "output_type": "execute_result"
    }
   ],
   "source": [
    "xua"
   ]
  },
  {
   "cell_type": "code",
   "execution_count": 182,
   "id": "1d39ca72",
   "metadata": {},
   "outputs": [],
   "source": [
    "xua_train, xua_test, yua_train, yua_test = train_test_split(xua, yua, test_size=0.34, random_state=101)"
   ]
  },
  {
   "cell_type": "code",
   "execution_count": 183,
   "id": "47f34b3e",
   "metadata": {},
   "outputs": [
    {
     "data": {
      "text/plain": [
       "<4479x4116 sparse matrix of type '<class 'numpy.float64'>'\n",
       "\twith 51200 stored elements in Compressed Sparse Row format>"
      ]
     },
     "execution_count": 183,
     "metadata": {},
     "output_type": "execute_result"
    }
   ],
   "source": [
    "xua_train"
   ]
  },
  {
   "cell_type": "markdown",
   "id": "4681938a",
   "metadata": {},
   "source": [
    "### ID3 "
   ]
  },
  {
   "cell_type": "code",
   "execution_count": 184,
   "id": "2ea66aae",
   "metadata": {},
   "outputs": [],
   "source": [
    "id3ua = RandomForestClassifier(n_estimators=250, criterion='entropy', random_state=42)"
   ]
  },
  {
   "cell_type": "code",
   "execution_count": 185,
   "id": "69391bbe",
   "metadata": {},
   "outputs": [
    {
     "data": {
      "text/plain": [
       "RandomForestClassifier(criterion='entropy', n_estimators=250, random_state=42)"
      ]
     },
     "execution_count": 185,
     "metadata": {},
     "output_type": "execute_result"
    }
   ],
   "source": [
    "id3ua.fit(xua_train, yua_train)"
   ]
  },
  {
   "cell_type": "code",
   "execution_count": 186,
   "id": "f61906b5",
   "metadata": {},
   "outputs": [],
   "source": [
    "id3ua_preds = id3ua.predict(xua_test)"
   ]
  },
  {
   "cell_type": "code",
   "execution_count": 187,
   "id": "ecb9b1d9",
   "metadata": {},
   "outputs": [
    {
     "name": "stdout",
     "output_type": "stream",
     "text": [
      "0.9432409012131716\n",
      "<sklearn.metrics._plot.confusion_matrix.ConfusionMatrixDisplay object at 0x0000019B18A20BB0>\n",
      "              precision    recall  f1-score   support\n",
      "\n",
      "    negative       0.89      0.96      0.92       753\n",
      "     neutral       0.97      0.91      0.94       794\n",
      "    positive       0.97      0.96      0.97       761\n",
      "\n",
      "    accuracy                           0.94      2308\n",
      "   macro avg       0.94      0.94      0.94      2308\n",
      "weighted avg       0.95      0.94      0.94      2308\n",
      "\n"
     ]
    },
    {
     "data": {
      "image/png": "[encoded data removed]",
      "text/plain": [
       "<Figure size 432x288 with 2 Axes>"
      ]
     },
     "metadata": {
      "needs_background": "light"
     },
     "output_type": "display_data"
    }
   ],
   "source": [
    "id3ua_score = accuracy_score(yua_test, id3ua_preds)\n",
    "print(id3ua_score)\n",
    "id3ua_matrix = plot_confusion_matrix(id3ua, xua_test, yua_test)\n",
    "print(id3ua_matrix)\n",
    "id3ua_report = classification_report(yua_test, id3ua_preds)\n",
    "print(id3ua_report)"
   ]
  },
  {
   "cell_type": "markdown",
   "id": "7dc44df2",
   "metadata": {},
   "source": [
    "### Random Forest Classifier"
   ]
  },
  {
   "cell_type": "code",
   "execution_count": 188,
   "id": "20335244",
   "metadata": {},
   "outputs": [],
   "source": [
    "rfcua = RandomForestClassifier(n_estimators=250, criterion='entropy', max_depth = 5)"
   ]
  },
  {
   "cell_type": "code",
   "execution_count": 189,
   "id": "c6546afc",
   "metadata": {},
   "outputs": [
    {
     "data": {
      "text/plain": [
       "RandomForestClassifier(criterion='entropy', max_depth=5, n_estimators=250)"
      ]
     },
     "execution_count": 189,
     "metadata": {},
     "output_type": "execute_result"
    }
   ],
   "source": [
    "rfcua.fit(xua_train, yua_train)"
   ]
  },
  {
   "cell_type": "code",
   "execution_count": 190,
   "id": "93eb8d8e",
   "metadata": {},
   "outputs": [],
   "source": [
    "rfcua_preds = rfcua.predict(xua_test)"
   ]
  },
  {
   "cell_type": "code",
   "execution_count": 191,
   "id": "39c827f7",
   "metadata": {},
   "outputs": [
    {
     "name": "stdout",
     "output_type": "stream",
     "text": [
      "0.8067590987868284\n",
      "<sklearn.metrics._plot.confusion_matrix.ConfusionMatrixDisplay object at 0x0000019B18C1A730>\n",
      "              precision    recall  f1-score   support\n",
      "\n",
      "    negative       0.76      0.84      0.79       753\n",
      "     neutral       0.84      0.66      0.74       794\n",
      "    positive       0.83      0.93      0.88       761\n",
      "\n",
      "    accuracy                           0.81      2308\n",
      "   macro avg       0.81      0.81      0.80      2308\n",
      "weighted avg       0.81      0.81      0.80      2308\n",
      "\n"
     ]
    },
    {
     "data": {
      "image/png": "[encoded data removed]",
      "text/plain": [
       "<Figure size 432x288 with 2 Axes>"
      ]
     },
     "metadata": {
      "needs_background": "light"
     },
     "output_type": "display_data"
    }
   ],
   "source": [
    "rfcua_score = accuracy_score(yua_test, rfcua_preds)\n",
    "print(rfcua_score)\n",
    "rfcua_matrix = plot_confusion_matrix(rfcua, xua_test, yua_test)\n",
    "print(rfcua_matrix)\n",
    "rfcua_report = classification_report(yua_test, rfcua_preds)\n",
    "print(rfcua_report)"
   ]
  },
  {
   "cell_type": "markdown",
   "id": "e8eb8939",
   "metadata": {},
   "source": [
    "### Naive Bayes not nice "
   ]
  },
  {
   "cell_type": "code",
   "execution_count": 192,
   "id": "f1c3a3e2",
   "metadata": {},
   "outputs": [],
   "source": [
    "nbua = MultinomialNB()"
   ]
  },
  {
   "cell_type": "code",
   "execution_count": 193,
   "id": "cf6e56f5",
   "metadata": {},
   "outputs": [
    {
     "data": {
      "text/plain": [
       "MultinomialNB()"
      ]
     },
     "execution_count": 193,
     "metadata": {},
     "output_type": "execute_result"
    }
   ],
   "source": [
    "nbua.fit(xua_train, yua_train)"
   ]
  },
  {
   "cell_type": "code",
   "execution_count": 194,
   "id": "12fe407d",
   "metadata": {},
   "outputs": [],
   "source": [
    "nbua_preds = nbua.predict(xua_test)"
   ]
  },
  {
   "cell_type": "code",
   "execution_count": 195,
   "id": "e91667fe",
   "metadata": {},
   "outputs": [
    {
     "name": "stdout",
     "output_type": "stream",
     "text": [
      "0.8873483535528596\n",
      "<sklearn.metrics._plot.confusion_matrix.ConfusionMatrixDisplay object at 0x0000019B229212B0>\n",
      "              precision    recall  f1-score   support\n",
      "\n",
      "    negative       0.92      0.80      0.86       753\n",
      "     neutral       0.86      0.88      0.87       794\n",
      "    positive       0.89      0.98      0.93       761\n",
      "\n",
      "    accuracy                           0.89      2308\n",
      "   macro avg       0.89      0.89      0.89      2308\n",
      "weighted avg       0.89      0.89      0.89      2308\n",
      "\n"
     ]
    },
    {
     "data": {
      "image/png": "[encoded data removed]",
      "text/plain": [
       "<Figure size 432x288 with 2 Axes>"
      ]
     },
     "metadata": {
      "needs_background": "light"
     },
     "output_type": "display_data"
    }
   ],
   "source": [
    "nbua_score = accuracy_score(yua_test, nbua_preds)\n",
    "print(nbua_score)\n",
    "nbua_matrix = plot_confusion_matrix(nbua, xua_test, yua_test)\n",
    "print(nbua_matrix)\n",
    "nbua_report = classification_report(yua_test, nbua_preds)\n",
    "print(nbua_report)"
   ]
  },
  {
   "cell_type": "markdown",
   "id": "8ce186d5",
   "metadata": {},
   "source": [
    "### Decision Tree"
   ]
  },
  {
   "cell_type": "code",
   "execution_count": 196,
   "id": "84e5b8da",
   "metadata": {},
   "outputs": [],
   "source": [
    "dtua = DecisionTreeClassifier()"
   ]
  },
  {
   "cell_type": "code",
   "execution_count": 197,
   "id": "22058603",
   "metadata": {},
   "outputs": [
    {
     "data": {
      "text/plain": [
       "DecisionTreeClassifier()"
      ]
     },
     "execution_count": 197,
     "metadata": {},
     "output_type": "execute_result"
    }
   ],
   "source": [
    "dtua.fit(xua_train, yua_train)"
   ]
  },
  {
   "cell_type": "code",
   "execution_count": 198,
   "id": "577a4150",
   "metadata": {},
   "outputs": [],
   "source": [
    "dtua_preds = dtua.predict(xua_test)"
   ]
  },
  {
   "cell_type": "code",
   "execution_count": 199,
   "id": "70680f2a",
   "metadata": {},
   "outputs": [
    {
     "name": "stdout",
     "output_type": "stream",
     "text": [
      "0.8669844020797227\n",
      "<sklearn.metrics._plot.confusion_matrix.ConfusionMatrixDisplay object at 0x0000019B20816400>\n",
      "              precision    recall  f1-score   support\n",
      "\n",
      "    negative       0.82      0.83      0.82       753\n",
      "     neutral       0.86      0.85      0.85       794\n",
      "    positive       0.92      0.93      0.92       761\n",
      "\n",
      "    accuracy                           0.87      2308\n",
      "   macro avg       0.87      0.87      0.87      2308\n",
      "weighted avg       0.87      0.87      0.87      2308\n",
      "\n"
     ]
    },
    {
     "data": {
      "image/png": "[encoded data removed]",
      "text/plain": [
       "<Figure size 432x288 with 2 Axes>"
      ]
     },
     "metadata": {
      "needs_background": "light"
     },
     "output_type": "display_data"
    }
   ],
   "source": [
    "dtua_score = accuracy_score(yua_test, dtua_preds)\n",
    "print(dtua_score)\n",
    "dtua_matrix = plot_confusion_matrix(dtua, xua_test, yua_test)\n",
    "print(dtua_matrix)\n",
    "dtua_report = classification_report(yua_test, dtua_preds)\n",
    "print(dtua_report)"
   ]
  },
  {
   "cell_type": "markdown",
   "id": "afca1e72",
   "metadata": {},
   "source": [
    "### KNN Classifier "
   ]
  },
  {
   "cell_type": "code",
   "execution_count": 200,
   "id": "393a503a",
   "metadata": {},
   "outputs": [],
   "source": [
    "knnua = KNeighborsClassifier(n_neighbors=5, leaf_size=5, p=2)"
   ]
  },
  {
   "cell_type": "code",
   "execution_count": 201,
   "id": "bfaa13c3",
   "metadata": {},
   "outputs": [
    {
     "data": {
      "text/plain": [
       "KNeighborsClassifier(leaf_size=5)"
      ]
     },
     "execution_count": 201,
     "metadata": {},
     "output_type": "execute_result"
    }
   ],
   "source": [
    "knnua.fit(xua_train, yua_train)"
   ]
  },
  {
   "cell_type": "code",
   "execution_count": 202,
   "id": "0a871505",
   "metadata": {},
   "outputs": [],
   "source": [
    "knnua_preds = knnua.predict(xua_test)"
   ]
  },
  {
   "cell_type": "code",
   "execution_count": 203,
   "id": "dc5f5625",
   "metadata": {},
   "outputs": [
    {
     "name": "stdout",
     "output_type": "stream",
     "text": [
      "0.6845753899480069\n",
      "<sklearn.metrics._plot.confusion_matrix.ConfusionMatrixDisplay object at 0x0000019B1F79C550>\n",
      "              precision    recall  f1-score   support\n",
      "\n",
      "    negative       0.91      0.08      0.15       753\n",
      "     neutral       0.62      0.97      0.75       794\n",
      "    positive       0.76      0.99      0.86       761\n",
      "\n",
      "    accuracy                           0.68      2308\n",
      "   macro avg       0.76      0.68      0.59      2308\n",
      "weighted avg       0.76      0.68      0.59      2308\n",
      "\n"
     ]
    },
    {
     "data": {
      "image/png": "[encoded data removed]",
      "text/plain": [
       "<Figure size 432x288 with 2 Axes>"
      ]
     },
     "metadata": {
      "needs_background": "light"
     },
     "output_type": "display_data"
    }
   ],
   "source": [
    "knnua_score = accuracy_score(yua_test, knnua_preds)\n",
    "print(knnua_score)\n",
    "knnua_matrix = plot_confusion_matrix(knnua, xua_test, yua_test)\n",
    "print(knnua_matrix)\n",
    "knnua_report = classification_report(yua_test, knnua_preds)\n",
    "print(knnua_report)"
   ]
  },
  {
   "cell_type": "markdown",
   "id": "88b1465f",
   "metadata": {},
   "source": [
    "### SVC"
   ]
  },
  {
   "cell_type": "code",
   "execution_count": 204,
   "id": "b47e933d",
   "metadata": {},
   "outputs": [],
   "source": [
    "svcua = SVC(kernel ='poly',degree=2, gamma = 'scale', shrinking = True)"
   ]
  },
  {
   "cell_type": "code",
   "execution_count": 205,
   "id": "faad6e44",
   "metadata": {},
   "outputs": [
    {
     "data": {
      "text/plain": [
       "SVC(degree=2, kernel='poly')"
      ]
     },
     "execution_count": 205,
     "metadata": {},
     "output_type": "execute_result"
    }
   ],
   "source": [
    "svcua.fit(xua_train, yua_train)"
   ]
  },
  {
   "cell_type": "code",
   "execution_count": 206,
   "id": "676510d3",
   "metadata": {},
   "outputs": [],
   "source": [
    "svcua_preds = svcua.predict(xua_test)"
   ]
  },
  {
   "cell_type": "code",
   "execution_count": 207,
   "id": "5f5d3e6d",
   "metadata": {},
   "outputs": [
    {
     "name": "stdout",
     "output_type": "stream",
     "text": [
      "0.9770363951473137\n",
      "<sklearn.metrics._plot.confusion_matrix.ConfusionMatrixDisplay object at 0x0000019B22B02F40>\n",
      "              precision    recall  f1-score   support\n",
      "\n",
      "    negative       0.99      0.97      0.98       753\n",
      "     neutral       0.97      0.97      0.97       794\n",
      "    positive       0.97      1.00      0.98       761\n",
      "\n",
      "    accuracy                           0.98      2308\n",
      "   macro avg       0.98      0.98      0.98      2308\n",
      "weighted avg       0.98      0.98      0.98      2308\n",
      "\n"
     ]
    },
    {
     "data": {
      "image/png": "[encoded data removed]",
      "text/plain": [
       "<Figure size 432x288 with 2 Axes>"
      ]
     },
     "metadata": {
      "needs_background": "light"
     },
     "output_type": "display_data"
    }
   ],
   "source": [
    "svcua_score = accuracy_score(yua_test, svcua_preds)\n",
    "print(svcua_score)\n",
    "svcua_matrix = plot_confusion_matrix(svcua, xua_test, yua_test)\n",
    "print(svcua_matrix)\n",
    "svcua_report = classification_report(yua_test, svcua_preds)\n",
    "print(svcua_report)"
   ]
  },
  {
   "cell_type": "markdown",
   "id": "cc2b4747",
   "metadata": {},
   "source": [
    "# American"
   ]
  },
  {
   "cell_type": "markdown",
   "id": "004e7024",
   "metadata": {},
   "source": [
    "### Tfidf vectorization & splitting into train test"
   ]
  },
  {
   "cell_type": "code",
   "execution_count": 208,
   "id": "a5fb2209",
   "metadata": {},
   "outputs": [],
   "source": [
    "xa = american['text']"
   ]
  },
  {
   "cell_type": "code",
   "execution_count": 209,
   "id": "0890c857",
   "metadata": {},
   "outputs": [],
   "source": [
    "ya = american['airline_sentiment']"
   ]
  },
  {
   "cell_type": "code",
   "execution_count": 210,
   "id": "0985ab9c",
   "metadata": {},
   "outputs": [],
   "source": [
    "xa = tf.fit_transform(xa)"
   ]
  },
  {
   "cell_type": "code",
   "execution_count": 211,
   "id": "b75d3feb",
   "metadata": {},
   "outputs": [],
   "source": [
    "xa, ya = smc.fit_sample(xa,ya)"
   ]
  },
  {
   "cell_type": "code",
   "execution_count": 212,
   "id": "27a4d07d",
   "metadata": {},
   "outputs": [
    {
     "data": {
      "text/plain": [
       "<5880x3931 sparse matrix of type '<class 'numpy.float64'>'\n",
       "\twith 62544 stored elements in Compressed Sparse Row format>"
      ]
     },
     "execution_count": 212,
     "metadata": {},
     "output_type": "execute_result"
    }
   ],
   "source": [
    "xa"
   ]
  },
  {
   "cell_type": "code",
   "execution_count": 213,
   "id": "ca67b7f4",
   "metadata": {},
   "outputs": [],
   "source": [
    "xa_train, xa_test, ya_train, ya_test = train_test_split(xa, ya, test_size=0.34, random_state=101)\n"
   ]
  },
  {
   "cell_type": "code",
   "execution_count": 214,
   "id": "a9606564",
   "metadata": {},
   "outputs": [
    {
     "data": {
      "text/plain": [
       "<3880x3931 sparse matrix of type '<class 'numpy.float64'>'\n",
       "\twith 41186 stored elements in Compressed Sparse Row format>"
      ]
     },
     "execution_count": 214,
     "metadata": {},
     "output_type": "execute_result"
    }
   ],
   "source": [
    "xa_train"
   ]
  },
  {
   "cell_type": "markdown",
   "id": "fa76858e",
   "metadata": {},
   "source": [
    "### ID3 "
   ]
  },
  {
   "cell_type": "code",
   "execution_count": 215,
   "id": "d9e2588c",
   "metadata": {},
   "outputs": [],
   "source": [
    "id3a = RandomForestClassifier(n_estimators=250, criterion='entropy')"
   ]
  },
  {
   "cell_type": "code",
   "execution_count": 216,
   "id": "06b14db4",
   "metadata": {},
   "outputs": [
    {
     "data": {
      "text/plain": [
       "RandomForestClassifier(criterion='entropy', n_estimators=250)"
      ]
     },
     "execution_count": 216,
     "metadata": {},
     "output_type": "execute_result"
    }
   ],
   "source": [
    "id3a.fit(xa_train, ya_train)"
   ]
  },
  {
   "cell_type": "code",
   "execution_count": 217,
   "id": "24a2c561",
   "metadata": {},
   "outputs": [],
   "source": [
    "id3a_preds = id3a.predict(xa_test)"
   ]
  },
  {
   "cell_type": "code",
   "execution_count": 218,
   "id": "8a7a5d94",
   "metadata": {},
   "outputs": [
    {
     "name": "stdout",
     "output_type": "stream",
     "text": [
      "0.6272189349112426\n",
      "<sklearn.metrics._plot.confusion_matrix.ConfusionMatrixDisplay object at 0x0000019B20828FD0>\n",
      "              precision    recall  f1-score   support\n",
      "\n",
      "    negative       0.89      0.94      0.91       662\n",
      "     neutral       0.94      0.90      0.92       662\n",
      "    positive       0.96      0.95      0.95       676\n",
      "\n",
      "    accuracy                           0.93      2000\n",
      "   macro avg       0.93      0.93      0.93      2000\n",
      "weighted avg       0.93      0.93      0.93      2000\n",
      "\n"
     ]
    },
    {
     "data": {
      "image/png": "[encoded data removed]",
      "text/plain": [
       "<Figure size 432x288 with 2 Axes>"
      ]
     },
     "metadata": {
      "needs_background": "light"
     },
     "output_type": "display_data"
    }
   ],
   "source": [
    "id3a_score = accuracy_score(ya_test, id3a_preds)\n",
    "print(id3_score)\n",
    "id3a_matrix = plot_confusion_matrix(id3a, xa_test, ya_test)\n",
    "print(id3a_matrix)\n",
    "id3a_report = classification_report(ya_test, id3a_preds)\n",
    "print(id3a_report)"
   ]
  },
  {
   "cell_type": "markdown",
   "id": "9706f37f",
   "metadata": {},
   "source": [
    "### Random Forest Classifier "
   ]
  },
  {
   "cell_type": "code",
   "execution_count": 219,
   "id": "4ca5da03",
   "metadata": {},
   "outputs": [],
   "source": [
    "rfca = RandomForestClassifier(n_estimators=250, criterion='gini')"
   ]
  },
  {
   "cell_type": "code",
   "execution_count": 220,
   "id": "887bcce0",
   "metadata": {},
   "outputs": [
    {
     "data": {
      "text/plain": [
       "RandomForestClassifier(n_estimators=250)"
      ]
     },
     "execution_count": 220,
     "metadata": {},
     "output_type": "execute_result"
    }
   ],
   "source": [
    "rfca.fit(xa_train, ya_train)"
   ]
  },
  {
   "cell_type": "code",
   "execution_count": 221,
   "id": "037aaa0a",
   "metadata": {},
   "outputs": [],
   "source": [
    "rfca_preds = rfca.predict(xa_test)"
   ]
  },
  {
   "cell_type": "code",
   "execution_count": 222,
   "id": "d2eab6c2",
   "metadata": {},
   "outputs": [
    {
     "name": "stdout",
     "output_type": "stream",
     "text": [
      "0.93\n",
      "<sklearn.metrics._plot.confusion_matrix.ConfusionMatrixDisplay object at 0x0000019B2083D6A0>\n",
      "              precision    recall  f1-score   support\n",
      "\n",
      "    negative       0.89      0.94      0.92       662\n",
      "     neutral       0.93      0.90      0.92       662\n",
      "    positive       0.97      0.95      0.96       676\n",
      "\n",
      "    accuracy                           0.93      2000\n",
      "   macro avg       0.93      0.93      0.93      2000\n",
      "weighted avg       0.93      0.93      0.93      2000\n",
      "\n"
     ]
    },
    {
     "data": {
      "image/png": "[encoded data removed]",
      "text/plain": [
       "<Figure size 432x288 with 2 Axes>"
      ]
     },
     "metadata": {
      "needs_background": "light"
     },
     "output_type": "display_data"
    }
   ],
   "source": [
    "rfca_score = accuracy_score(ya_test, rfca_preds)\n",
    "print(rfca_score)\n",
    "rfca_matrix = plot_confusion_matrix(rfca, xa_test, ya_test)\n",
    "print(rfca_matrix)\n",
    "rfca_report = classification_report(ya_test, rfca_preds)\n",
    "print(rfca_report)"
   ]
  },
  {
   "cell_type": "markdown",
   "id": "ccc85015",
   "metadata": {},
   "source": [
    "### Naive Bayes "
   ]
  },
  {
   "cell_type": "code",
   "execution_count": 223,
   "id": "c30d3e13",
   "metadata": {},
   "outputs": [],
   "source": [
    "nba = MultinomialNB()"
   ]
  },
  {
   "cell_type": "code",
   "execution_count": 224,
   "id": "026bcdc7",
   "metadata": {},
   "outputs": [
    {
     "data": {
      "text/plain": [
       "MultinomialNB()"
      ]
     },
     "execution_count": 224,
     "metadata": {},
     "output_type": "execute_result"
    }
   ],
   "source": [
    "nba.fit(xa_train, ya_train)"
   ]
  },
  {
   "cell_type": "code",
   "execution_count": 225,
   "id": "f14fa4c8",
   "metadata": {},
   "outputs": [],
   "source": [
    "nba_preds = nba.predict(xa_test)"
   ]
  },
  {
   "cell_type": "code",
   "execution_count": 226,
   "id": "0711add2",
   "metadata": {},
   "outputs": [
    {
     "name": "stdout",
     "output_type": "stream",
     "text": [
      "0.8875\n",
      "<sklearn.metrics._plot.confusion_matrix.ConfusionMatrixDisplay object at 0x0000019B229A4BE0>\n",
      "              precision    recall  f1-score   support\n",
      "\n",
      "    negative       0.92      0.82      0.87       662\n",
      "     neutral       0.86      0.87      0.87       662\n",
      "    positive       0.89      0.97      0.93       676\n",
      "\n",
      "    accuracy                           0.89      2000\n",
      "   macro avg       0.89      0.89      0.89      2000\n",
      "weighted avg       0.89      0.89      0.89      2000\n",
      "\n"
     ]
    },
    {
     "data": {
      "image/png": "[encoded data removed]",
      "text/plain": [
       "<Figure size 432x288 with 2 Axes>"
      ]
     },
     "metadata": {
      "needs_background": "light"
     },
     "output_type": "display_data"
    }
   ],
   "source": [
    "nba_score = accuracy_score(ya_test, nba_preds)\n",
    "print(nba_score)\n",
    "nba_matrix = plot_confusion_matrix(nba, xa_test, ya_test)\n",
    "print(nba_matrix)\n",
    "nba_report = classification_report(ya_test, nba_preds)\n",
    "print(nba_report)"
   ]
  },
  {
   "cell_type": "markdown",
   "id": "4f1ef64f",
   "metadata": {},
   "source": [
    "### Decision Tree Classifier "
   ]
  },
  {
   "cell_type": "code",
   "execution_count": 227,
   "id": "5f1dd8e3",
   "metadata": {},
   "outputs": [],
   "source": [
    "dta = DecisionTreeClassifier()"
   ]
  },
  {
   "cell_type": "code",
   "execution_count": 228,
   "id": "e327855d",
   "metadata": {},
   "outputs": [
    {
     "data": {
      "text/plain": [
       "DecisionTreeClassifier()"
      ]
     },
     "execution_count": 228,
     "metadata": {},
     "output_type": "execute_result"
    }
   ],
   "source": [
    "dta.fit(xa_train, ya_train)"
   ]
  },
  {
   "cell_type": "code",
   "execution_count": 229,
   "id": "e28676c2",
   "metadata": {},
   "outputs": [],
   "source": [
    "dta_preds = dta.predict(xa_test)"
   ]
  },
  {
   "cell_type": "code",
   "execution_count": 230,
   "id": "38fa8c68",
   "metadata": {},
   "outputs": [
    {
     "name": "stdout",
     "output_type": "stream",
     "text": [
      "0.859\n",
      "<sklearn.metrics._plot.confusion_matrix.ConfusionMatrixDisplay object at 0x0000019B25D2EC10>\n",
      "              precision    recall  f1-score   support\n",
      "\n",
      "    negative       0.84      0.81      0.82       662\n",
      "     neutral       0.83      0.86      0.84       662\n",
      "    positive       0.91      0.91      0.91       676\n",
      "\n",
      "    accuracy                           0.86      2000\n",
      "   macro avg       0.86      0.86      0.86      2000\n",
      "weighted avg       0.86      0.86      0.86      2000\n",
      "\n"
     ]
    },
    {
     "data": {
      "image/png": "[encoded data removed]",
      "text/plain": [
       "<Figure size 432x288 with 2 Axes>"
      ]
     },
     "metadata": {
      "needs_background": "light"
     },
     "output_type": "display_data"
    }
   ],
   "source": [
    "dta_score = accuracy_score(ya_test, dta_preds)\n",
    "print(dta_score)\n",
    "dta_matrix = plot_confusion_matrix(dta, xa_test, ya_test)\n",
    "print(dta_matrix)\n",
    "dta_report = classification_report(ya_test, dta_preds)\n",
    "print(dta_report)"
   ]
  },
  {
   "cell_type": "markdown",
   "id": "2dc9c04d",
   "metadata": {},
   "source": [
    "### KNN Classifier"
   ]
  },
  {
   "cell_type": "code",
   "execution_count": 231,
   "id": "bce528eb",
   "metadata": {},
   "outputs": [],
   "source": [
    "knna = KNeighborsClassifier(n_neighbors=5, leaf_size=5, p=2)"
   ]
  },
  {
   "cell_type": "code",
   "execution_count": 232,
   "id": "077c8c07",
   "metadata": {},
   "outputs": [
    {
     "data": {
      "text/plain": [
       "KNeighborsClassifier(leaf_size=5)"
      ]
     },
     "execution_count": 232,
     "metadata": {},
     "output_type": "execute_result"
    }
   ],
   "source": [
    "knna.fit(xa_train, ya_train)"
   ]
  },
  {
   "cell_type": "code",
   "execution_count": 233,
   "id": "3d4d8cdd",
   "metadata": {},
   "outputs": [],
   "source": [
    "knna_preds = knna.predict(xa_test)"
   ]
  },
  {
   "cell_type": "code",
   "execution_count": 234,
   "id": "df172b73",
   "metadata": {},
   "outputs": [
    {
     "name": "stdout",
     "output_type": "stream",
     "text": [
      "0.67\n",
      "<sklearn.metrics._plot.confusion_matrix.ConfusionMatrixDisplay object at 0x0000019B28DC51C0>\n",
      "              precision    recall  f1-score   support\n",
      "\n",
      "    negative       1.00      0.08      0.14       662\n",
      "     neutral       0.60      0.96      0.73       662\n",
      "    positive       0.74      0.97      0.84       676\n",
      "\n",
      "    accuracy                           0.67      2000\n",
      "   macro avg       0.78      0.67      0.57      2000\n",
      "weighted avg       0.78      0.67      0.57      2000\n",
      "\n"
     ]
    },
    {
     "data": {
      "image/png": "[encoded data removed]",
      "text/plain": [
       "<Figure size 432x288 with 2 Axes>"
      ]
     },
     "metadata": {
      "needs_background": "light"
     },
     "output_type": "display_data"
    }
   ],
   "source": [
    "knna_score = accuracy_score(ya_test, knna_preds)\n",
    "print(knna_score)\n",
    "knna_matrix = plot_confusion_matrix(knna, xa_test, ya_test)\n",
    "print(knna_matrix)\n",
    "knna_report = classification_report(ya_test, knna_preds)\n",
    "print(knna_report)"
   ]
  },
  {
   "cell_type": "markdown",
   "id": "7ea5a568",
   "metadata": {},
   "source": [
    "### SVC"
   ]
  },
  {
   "cell_type": "code",
   "execution_count": 235,
   "id": "8957d778",
   "metadata": {},
   "outputs": [],
   "source": [
    "svca = SVC(kernel ='poly',degree=2, gamma = 'scale', shrinking = True)"
   ]
  },
  {
   "cell_type": "code",
   "execution_count": 236,
   "id": "43c433c2",
   "metadata": {},
   "outputs": [
    {
     "data": {
      "text/plain": [
       "SVC(degree=2, kernel='poly')"
      ]
     },
     "execution_count": 236,
     "metadata": {},
     "output_type": "execute_result"
    }
   ],
   "source": [
    "svca.fit(xa_train,ya_train)"
   ]
  },
  {
   "cell_type": "code",
   "execution_count": 237,
   "id": "9c86df03",
   "metadata": {},
   "outputs": [],
   "source": [
    "svca_preds = svca.predict(xa_test)"
   ]
  },
  {
   "cell_type": "code",
   "execution_count": 238,
   "id": "8dfb3bf1",
   "metadata": {},
   "outputs": [
    {
     "name": "stdout",
     "output_type": "stream",
     "text": [
      "0.9595\n",
      "<sklearn.metrics._plot.confusion_matrix.ConfusionMatrixDisplay object at 0x0000019B28DD9670>\n",
      "              precision    recall  f1-score   support\n",
      "\n",
      "    negative       0.95      0.96      0.96       662\n",
      "     neutral       0.96      0.94      0.95       662\n",
      "    positive       0.97      0.98      0.97       676\n",
      "\n",
      "    accuracy                           0.96      2000\n",
      "   macro avg       0.96      0.96      0.96      2000\n",
      "weighted avg       0.96      0.96      0.96      2000\n",
      "\n"
     ]
    },
    {
     "data": {
      "image/png": "[encoded data removed]",
      "text/plain": [
       "<Figure size 432x288 with 2 Axes>"
      ]
     },
     "metadata": {
      "needs_background": "light"
     },
     "output_type": "display_data"
    }
   ],
   "source": [
    "svca_score = accuracy_score(ya_test, svca_preds)\n",
    "print(svca_score)\n",
    "svca_matrix = plot_confusion_matrix(svca, xa_test, ya_test)\n",
    "print(svca_matrix)\n",
    "svca_report = classification_report(ya_test, svca_preds)\n",
    "print(svca_report)"
   ]
  },
  {
   "cell_type": "code",
   "execution_count": null,
   "id": "3f3e27c6",
   "metadata": {},
   "outputs": [],
   "source": []
  },
  {
   "cell_type": "code",
   "execution_count": null,
   "id": "e30812f9",
   "metadata": {},
   "outputs": [],
   "source": []
  }
 ],
 "metadata": {
  "kernelspec": {
   "display_name": "Python 3 (ipykernel)",
   "language": "python",
   "name": "python3"
  },
  "language_info": {
   "codemirror_mode": {
    "name": "ipython",
    "version": 3
   },
   "file_extension": ".py",
   "mimetype": "text/x-python",
   "name": "python",
   "nbconvert_exporter": "python",
   "pygments_lexer": "ipython3",
   "version": "3.9.7"
  }
 },
 "nbformat": 4,
 "nbformat_minor": 5
}
